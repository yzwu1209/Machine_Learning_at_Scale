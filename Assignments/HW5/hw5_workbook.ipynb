{
 "cells": [
  {
   "cell_type": "markdown",
   "metadata": {},
   "source": [
    "# HW 5 - Page Rank\n",
    "__`MIDS w261: Machine Learning at Scale | UC Berkeley School of Information | Fall 2018`__\n",
    "\n",
    "In Weeks 8 and 9 you discussed key concepts related to graph based algorithms and implemented SSSP.   \n",
    "In this final homework assignment you'll implement distributed PageRank using some data from Wikipedia.\n",
    "By the end of this homework you should be able to:  \n",
    "* ... __compare/contrast__ adjacency matrices and lists as representations of graphs for parallel computation.\n",
    "* ... __explain__ the goal of the PageRank algorithm using the concept of an infinite Random Walk.\n",
    "* ... __define__ a Markov chain including the conditions underwhich it will converge.\n",
    "* ... __identify__ what modifications must be made to the web graph inorder to leverage Markov Chains.\n",
    "* ... __implement__ distributed PageRank in Spark.\n",
    "\n",
    "__Please refer to the `README` for homework submission instructions and additional resources.__ "
   ]
  },
  {
   "cell_type": "markdown",
   "metadata": {},
   "source": [
    "# Notebook Set-Up\n",
    "Before starting your homework run the following cells to confirm your setup."
   ]
  },
  {
   "cell_type": "code",
   "execution_count": 1,
   "metadata": {},
   "outputs": [],
   "source": [
    "# imports\n",
    "import re\n",
    "import ast\n",
    "import time\n",
    "import numpy as np\n",
    "import pandas as pd\n",
    "import seaborn as sns\n",
    "import networkx as nx\n",
    "import matplotlib.pyplot as plt"
   ]
  },
  {
   "cell_type": "code",
   "execution_count": 2,
   "metadata": {},
   "outputs": [],
   "source": [
    "%reload_ext autoreload\n",
    "%autoreload 2"
   ]
  },
  {
   "cell_type": "code",
   "execution_count": 3,
   "metadata": {},
   "outputs": [],
   "source": [
    "# store path to notebook\n",
    "PWD = !pwd\n",
    "PWD = PWD[0]"
   ]
  },
  {
   "cell_type": "code",
   "execution_count": 4,
   "metadata": {},
   "outputs": [],
   "source": [
    "# start Spark Session\n",
    "from pyspark.sql import SparkSession\n",
    "app_name = \"hw5_notebook\"\n",
    "master = \"local[*]\"\n",
    "spark = SparkSession\\\n",
    "        .builder\\\n",
    "        .appName(app_name)\\\n",
    "        .master(master)\\\n",
    "        .getOrCreate()\n",
    "sc = spark.sparkContext"
   ]
  },
  {
   "cell_type": "code",
   "execution_count": 5,
   "metadata": {},
   "outputs": [
    {
     "data": {
      "text/html": [
       "\n",
       "            <div>\n",
       "                <p><b>SparkSession - in-memory</b></p>\n",
       "                \n",
       "        <div>\n",
       "            <p><b>SparkContext</b></p>\n",
       "\n",
       "            <p><a href=\"http://docker.w261:4040\">Spark UI</a></p>\n",
       "\n",
       "            <dl>\n",
       "              <dt>Version</dt>\n",
       "                <dd><code>v2.3.1</code></dd>\n",
       "              <dt>Master</dt>\n",
       "                <dd><code>local[*]</code></dd>\n",
       "              <dt>AppName</dt>\n",
       "                <dd><code>hw5_notebook</code></dd>\n",
       "            </dl>\n",
       "        </div>\n",
       "        \n",
       "            </div>\n",
       "        "
      ],
      "text/plain": [
       "<pyspark.sql.session.SparkSession at 0x7f3f4b9d68d0>"
      ]
     },
     "execution_count": 5,
     "metadata": {},
     "output_type": "execute_result"
    }
   ],
   "source": [
    "spark"
   ]
  },
  {
   "cell_type": "code",
   "execution_count": 6,
   "metadata": {},
   "outputs": [],
   "source": [
    "sc = spark.sparkContext"
   ]
  },
  {
   "cell_type": "markdown",
   "metadata": {},
   "source": [
    "__`REMINDER`__: If you are running this notebook on the course docker container, you can monitor the progress of your jobs using the Spark UI at: http://localhost:4040/jobs/"
   ]
  },
  {
   "cell_type": "markdown",
   "metadata": {},
   "source": [
    "# Question 1: Distributed Graph Processing\n",
    "Chapter 5 from Lin & Dyer gave you a high level introduction to graph algorithms and concernts that come up when trying to perform distributed computations over them. The questions below are designed to make sure you captured the key points from this reading and your async lectures. \n",
    "\n",
    "### Q1 Tasks:\n",
    "\n",
    "* __a) short response:__ Give an example of a dataset that would be appropriate to represent as a graph. What are the nodes/edges in this dataset? Is the graph you describe 'directed' or 'undirected'? What would the average \"in-degree\" of a node mean in the context of your example? \n",
    "\n",
    "* __b) short response:__ Other than their size/scale, what makes graphs uniquely challenging to work with in the map-reduce paradigm? *(__HINT__: Do not respond in terms of any specific algorithm. Think in terms of the nature of the graph datastructure itself).*\n",
    "\n",
    "* __c) short response:__ Briefly describe Dijskra's algorithm (goal/approach). What specific design component makes this approach hard to parallelize?\n",
    "\n",
    "* __d) short response:__ How does parallel breadth-first-search get around the problem that you identified in part `c`? At what expense?"
   ]
  },
  {
   "cell_type": "markdown",
   "metadata": {},
   "source": [
    "### Q1 Student Answers:\n",
    "> __a)__ One example would be: the dataset of likes on social network - each user account would be nodes, if person A likes a posting by person B, then there would be an edge connecting them. This is directed graph. The  average \"in-degree\" of a node means the average number of likes received by each user account. \n",
    "\n",
    "> __b)__ Graphs data are a network of connections among nodes, which means, they are relatively more dependent on neighbors than tabular data. It is challenging to decompose the network of data into subsets for map-reduce paradigm to work. \n",
    "\n",
    "> __c)__ The Dijskra'a algorithm is an algorithm to solve single-source shortest path problem, where the task is to find shortest paths from a source node to all other nodes in the graph. The approach of this algorithm can be summarized as the following steps:\n",
    "- Set distances to all vertices (distance values d) to $\\infty$, and the distance to the source node itself to zero. \n",
    "- Initiate a global priority queue (Q) with priorities equal to their distance values d; which means, source node has the lowest distance;\n",
    "- Iteratively select the node with the lowest current distance from the priority queue. Therefore, at iteration one, source node would be selected. \n",
    "- At each iteration, the algorithm loops through the neighbors of the currently selected node to see which neighbor can be reached with a shorter distance. \n",
    "- Terminates when the priority queue Q is empty. \n",
    "\n",
    "> Because it assumes sequential processing, it is thus hard to parallelize. Another big hurdle is that the algorithm requires to maintain a priority queue Q which is a globally sorted list based off current distance. \n",
    "\n",
    "> __d)__ Instead of keeping a globablly sorted queue, the parallel breadth-first-search algorithm gets around the problems by the following approaches: \n",
    "- first put source node in the frontier list;\n",
    "- Each MapReduce iteration, the mappers expand all nodes in the frontier in parallel, to emit a key-value pair for each neighbor on the node’s adjacency list; the reducers will select the shortest of these distances and then update the distance in the node data structure.\n",
    "- The key is that at the end of each MapReduce iteration, the node data structure is passed to the next iteration. \n",
    "\n",
    "> The expense would be: this algorithm spends a lot of time performing interim computations because at each iteration, the distance is calculated and the shortest selected. These interim results will be discarded in the end. In this sense, this algorithm is less efficient than Dijskra'a algorithm. \n",
    " \n",
    "\n",
    "> __References__\n",
    "- Jimmy Lin and Chris Dyer, *Data-Intensive Text Processing with MapReduce*, April 11, 2010"
   ]
  },
  {
   "cell_type": "markdown",
   "metadata": {},
   "source": [
    "# Question 2: Representing Graphs \n",
    "\n",
    "In class you saw examples of adjacency matrix and adjacency list representations of graphs. These data structures were probably familiar from HW3, though we hadn't before talked about them in the context of graphs. In this question we'll discuss some of the tradeoffs associated with these representations. __`NOTE:`__ We'll use the graph from Figure 5.1 in Lin & Dyer as a toy example. For convenience in the code below we'll label the nodes `A`, `B`, `C`, `D`, and `E` instead of $n_1$, $n_2$, etc but otherwise you should be able to follow along & check our answers against those in the text.\n",
    "\n",
    "\n",
    "<img src=\"Lin-Dyer-graph-Q1.png\" width=\"70%\">\n",
    "\n",
    "### Q2 Tasks:\n",
    "\n",
    "* __a) short response:__ Relatively speaking, is the graph you described in Figure 5.1 in Lin & Dyer \"sparse\" or \"dense\"?  Explain how sparsity/density impacts the adjacency matrix and adjacency list representations of a graph.\n",
    "\n",
    "* __b) short response:__ Run the provided code to create and plot our toy graph. Is this graph directed or undirected? Explain how the adjacency matrices for directed graphs will differ from those of undirected graphs.\n",
    "\n",
    "* __c) code:__ Fill in the missing code to complete the function `get_adj_matr()`.\n",
    "\n",
    "* __d) code:__ Fill in the missing code to complete the function `get_adj_list()`.\n"
   ]
  },
  {
   "cell_type": "markdown",
   "metadata": {},
   "source": [
    "### Q2 Student Answers:\n",
    "> __a)__ I think the adjacency matrix in Figure 5.1 is \"sparse\" because we see more zeros than ones (8 out of 25); whereas adjacency list is relatively denser than adjacency matrix. The sparsity of adjacency matrix requires more space to store all the cell data.  \n",
    "\n",
    "> __b)__ The graph is directed. For undirected graphs, only half of the matrix is used; whereas for directed graphs, all cells in the matrix will be used. "
   ]
  },
  {
   "cell_type": "code",
   "execution_count": 7,
   "metadata": {},
   "outputs": [],
   "source": [
    "# part a - a graph is just a list of nodes and edges (RUN THIS CELL AS IS)\n",
    "TOY_GRAPH = {'nodes':['A', 'B', 'C', 'D', 'E'],\n",
    "             'edges':[('A', 'B'), ('A', 'D'), ('B', 'C'), ('B', 'E'), ('C', 'D'), \n",
    "                      ('D', 'E'), ('E', 'A'),('E', 'B'), ('E', 'C')]}"
   ]
  },
  {
   "cell_type": "code",
   "execution_count": 8,
   "metadata": {},
   "outputs": [
    {
     "data": {
      "image/png": "[encoded data removed]",
      "text/plain": [
       "<Figure size 432x288 with 1 Axes>"
      ]
     },
     "metadata": {},
     "output_type": "display_data"
    }
   ],
   "source": [
    "# part a - simple visualization of our toy graph using nx (RUN THIS CELL AS IS)\n",
    "G = nx.DiGraph()\n",
    "G.add_nodes_from(TOY_GRAPH['nodes'])\n",
    "G.add_edges_from(TOY_GRAPH['edges'])\n",
    "nx.draw(G, pos=nx.circular_layout(G), with_labels=True, alpha = 0.5)"
   ]
  },
  {
   "cell_type": "code",
   "execution_count": 9,
   "metadata": {},
   "outputs": [],
   "source": [
    "# part c - adjacency matrix function\n",
    "def get_adj_matr(graph):\n",
    "    \"\"\"\n",
    "    Function to create an adjacency matrix representation of a graph.\n",
    "    arg:\n",
    "        graph - (dict) of 'nodes' : [], 'edges' : []\n",
    "    returns:\n",
    "        pd.DataFrame with entry i,j representing an edge from node i to node j\n",
    "    \"\"\"\n",
    "    n = len(graph['nodes'])\n",
    "    adj_matr = pd.DataFrame(0, columns = graph['nodes'], index = graph['nodes'])\n",
    "    ############### YOUR CODE HERE ##################\n",
    "    for pair in graph['edges']:\n",
    "        adj_matr[pair[1]][pair[0]] = 1\n",
    "    ############### (END) YOUR CODE #################\n",
    "    return adj_matr"
   ]
  },
  {
   "cell_type": "code",
   "execution_count": 10,
   "metadata": {},
   "outputs": [
    {
     "name": "stdout",
     "output_type": "stream",
     "text": [
      "   A  B  C  D  E\n",
      "A  0  1  0  1  0\n",
      "B  0  0  1  0  1\n",
      "C  0  0  0  1  0\n",
      "D  0  0  0  0  1\n",
      "E  1  1  1  0  0\n"
     ]
    }
   ],
   "source": [
    "# part c - take a look (RUN THIS CELL AS IS)\n",
    "TOY_ADJ_MATR = get_adj_matr(TOY_GRAPH)\n",
    "print(TOY_ADJ_MATR)"
   ]
  },
  {
   "cell_type": "code",
   "execution_count": 11,
   "metadata": {},
   "outputs": [],
   "source": [
    "# part d - adjacency list function\n",
    "def get_adj_list(graph):\n",
    "    \"\"\"\n",
    "    Function to create an adjacency list representation of a graph.\n",
    "    arg:\n",
    "        graph - (dict) of 'nodes' : [], 'edges' : []\n",
    "    returns:\n",
    "        dictionary of the form {node : [list of edges]}\n",
    "    \"\"\"\n",
    "    adj_list = {node: [] for node in graph['nodes']}\n",
    "    ############### YOUR CODE HERE ##################\n",
    "    for pair in graph['edges']:\n",
    "        adj_list[pair[0]].append(pair[1])\n",
    "    \n",
    "    ############### (END) YOUR CODE #################\n",
    "    return adj_list"
   ]
  },
  {
   "cell_type": "code",
   "execution_count": 12,
   "metadata": {},
   "outputs": [
    {
     "name": "stdout",
     "output_type": "stream",
     "text": [
      "{'A': ['B', 'D'], 'B': ['C', 'E'], 'C': ['D'], 'D': ['E'], 'E': ['A', 'B', 'C']}\n"
     ]
    }
   ],
   "source": [
    "# part d - take a look (RUN THIS CELL AS IS)\n",
    "TOY_ADJ_LIST = get_adj_list(TOY_GRAPH)\n",
    "print(TOY_ADJ_LIST)"
   ]
  },
  {
   "cell_type": "markdown",
   "metadata": {},
   "source": [
    "# Question 3: Markov Chains and Random Walks\n",
    "\n",
    "As you know from your readings and in class discussions, the PageRank algorithm takes advantage of the machinery of Markov Chains to compute the relative importance of a webpage using the hyperlink structure of the web (we'll refer to this as the 'web-graph'). A Markov Chain is a discrete-time stochastic process. The stochastic matrix has a principal left eigen vector corresponding to its largest eigen value which is one. A Markov chain's probability distribution over its states may be viewed as a probability vector. This steady state probability for a state is the PageRank of the corresponding webpage. In this question we'll briefly discuss a few concepts that are key to understanding the math behind PageRank. \n",
    "\n",
    "### Q3 Tasks:\n",
    "\n",
    "* __a) short response:__ It is common to explain PageRank using the analogy of a web surfer who clicks on links at random ad infinitum. In the context of this hypothetical infinite random walk, what does the PageRank metric measure/represent?\n",
    "\n",
    "* __b) short response:__ What is the \"Markov Property\" and what does it mean in the context of PageRank?\n",
    "\n",
    "* __c) short response:__ A Markov chain consists of $n$ states plus an $n\\times n$ transition probability matrix. In the context of PageRank & a random walk over the WebGraph what are the $n$ states? what implications does this have about the size of the transition matrix?\n",
    "\n",
    "* __d) code + short response:__ What is a \"right stochastic matrix\"? Fill in the code below to compute the transition matrix for the toy graph from question 2. [__`HINT:`__ _It should be right stochastic. Using numpy this calculation can be done in one line of code._]\n",
    "\n",
    "* __e) code + short response:__ To compute the stable state distribution (i.e. PageRank) of a \"nice\" graph we can apply the power iteration method - repeatedly multiplying the transition matrix by itself, until the values no longer change. Apply this strategy to your transition matrix from `part d` to find the PageRank for each of the pages in your toy graph. Your code should print the results of each iteration. How many iterations does it take to converge? Which node is most 'central' (i.e. highest ranked)? Does this match your intuition? \n",
    "    * __`NOTE 1:`__ _this is a naive approach, we'll unpack what it means to be \"nice\" in the next question_.\n",
    "    * __`NOTE 2:`__ _no need to implement a stopping criteria, visual inspection should suffice_."
   ]
  },
  {
   "cell_type": "markdown",
   "metadata": {},
   "source": [
    "### Q3 Student Answers:\n",
    "> __a)__ PageRank metric measures the probability in which a random walk over the web-graph will arrive at a particular node, the higher the in-degrees of a node, the higher its PageRank value would be. \n",
    "\n",
    "> __b)__ The \"Markov property\" refers to a memoryless characteristic where the conditional probability distribution for consequent future state only depends on the current state, and not depend on the sequence of events that preceded it. In the context of PageRank, each page can be considered as a state. We can view PageRank as a steady-state probability distribution of the Markov process underlying the random-surfer navigation model, which provides a mathematical approach to calculate each page's PageRank.\n",
    "\n",
    "> __c)__ The $n$ states are referred to as the $n$ pages in the Webgraph. The larger $n$ is, the matrix with a size of $n \\times n$ would get substantially large and sparse, which would be inefficient for large data computation.\n",
    "\n",
    "> __d)__ A 'right stochastic matrix' is a square matrix of nonnegative real numbers, with each row summing to 1.\n",
    "\n",
    "> __e)__ The method converges after about iteration 45, as the numbers stay stable afterwards. Node E is considered most 'central' with highest rank score. Yes, it matches with my intuition because Node E has two in-degrees and three out-degrees, whereas Node B/C/D all have two in-degrees and one out-degree, and Node A has only one in-degree and two out-degrees. \n",
    "\n",
    "> __References__\n",
    "- Jimmy Lin and Chris Dyer, *Data-Intensive Text Processing with MapReduce*, April 11, 2010\n",
    "- https://en.wikipedia.org/wiki/Markov_chain\n",
    "- MIDS W261 async video - Unit 9, *Large-Scale Graph Processing: Random Walks, PageRank, and Personalized PageRank*. "
   ]
  },
  {
   "cell_type": "code",
   "execution_count": 13,
   "metadata": {},
   "outputs": [
    {
     "data": {
      "text/html": [
       "<div>\n",
       "<style scoped>\n",
       "    .dataframe tbody tr th:only-of-type {\n",
       "        vertical-align: middle;\n",
       "    }\n",
       "\n",
       "    .dataframe tbody tr th {\n",
       "        vertical-align: top;\n",
       "    }\n",
       "\n",
       "    .dataframe thead th {\n",
       "        text-align: right;\n",
       "    }\n",
       "</style>\n",
       "<table border=\"1\" class=\"dataframe\">\n",
       "  <thead>\n",
       "    <tr style=\"text-align: right;\">\n",
       "      <th></th>\n",
       "      <th>A</th>\n",
       "      <th>B</th>\n",
       "      <th>C</th>\n",
       "      <th>D</th>\n",
       "      <th>E</th>\n",
       "    </tr>\n",
       "  </thead>\n",
       "  <tbody>\n",
       "    <tr>\n",
       "      <th>A</th>\n",
       "      <td>0</td>\n",
       "      <td>1</td>\n",
       "      <td>0</td>\n",
       "      <td>1</td>\n",
       "      <td>0</td>\n",
       "    </tr>\n",
       "    <tr>\n",
       "      <th>B</th>\n",
       "      <td>0</td>\n",
       "      <td>0</td>\n",
       "      <td>1</td>\n",
       "      <td>0</td>\n",
       "      <td>1</td>\n",
       "    </tr>\n",
       "    <tr>\n",
       "      <th>C</th>\n",
       "      <td>0</td>\n",
       "      <td>0</td>\n",
       "      <td>0</td>\n",
       "      <td>1</td>\n",
       "      <td>0</td>\n",
       "    </tr>\n",
       "    <tr>\n",
       "      <th>D</th>\n",
       "      <td>0</td>\n",
       "      <td>0</td>\n",
       "      <td>0</td>\n",
       "      <td>0</td>\n",
       "      <td>1</td>\n",
       "    </tr>\n",
       "    <tr>\n",
       "      <th>E</th>\n",
       "      <td>1</td>\n",
       "      <td>1</td>\n",
       "      <td>1</td>\n",
       "      <td>0</td>\n",
       "      <td>0</td>\n",
       "    </tr>\n",
       "  </tbody>\n",
       "</table>\n",
       "</div>"
      ],
      "text/plain": [
       "   A  B  C  D  E\n",
       "A  0  1  0  1  0\n",
       "B  0  0  1  0  1\n",
       "C  0  0  0  1  0\n",
       "D  0  0  0  0  1\n",
       "E  1  1  1  0  0"
      ]
     },
     "execution_count": 13,
     "metadata": {},
     "output_type": "execute_result"
    }
   ],
   "source": [
    "# part d - recall what the adjacency matrix looked like (RUN THIS CELL AS IS)\n",
    "TOY_ADJ_MATR"
   ]
  },
  {
   "cell_type": "code",
   "execution_count": 14,
   "metadata": {},
   "outputs": [
    {
     "name": "stdout",
     "output_type": "stream",
     "text": [
      "[[0.         0.5        0.         0.5        0.        ]\n",
      " [0.         0.         0.5        0.         0.5       ]\n",
      " [0.         0.         0.         1.         0.        ]\n",
      " [0.         0.         0.         0.         1.        ]\n",
      " [0.33333333 0.33333333 0.33333333 0.         0.        ]]\n"
     ]
    }
   ],
   "source": [
    "# part d - use TOY_ADJ_MATR to create a right stochastic transition matrix for this graph\n",
    "################ YOUR CODE HERE #################\n",
    "transition_matrix = TOY_ADJ_MATR.div(TOY_ADJ_MATR.sum(axis=1), axis=0).values # replace with your code\n",
    "\n",
    "################ (END) YOUR CODE #################\n",
    "print(transition_matrix)"
   ]
  },
  {
   "cell_type": "code",
   "execution_count": 15,
   "metadata": {},
   "outputs": [],
   "source": [
    "# part e - compute the steady state using the transition matrix \n",
    "def power_iteration(xInit, tMatrix, nIter, verbose = True):\n",
    "    \"\"\"\n",
    "    Function to perform the specified number of power iteration steps to \n",
    "    compute the steady state probability distribution for the given\n",
    "    transition matrix.\n",
    "    \n",
    "    Args:\n",
    "        xInit     - (n x 1 array) representing inial state\n",
    "        tMatrix  - (n x n array) transition probabilities\n",
    "        nIter     - (int) number of iterations\n",
    "    Returns:\n",
    "        state_vector - (n x 1 array) representing probability \n",
    "                        distribution over states after nSteps.\n",
    "    \n",
    "    NOTE: if the 'verbose' flag is on, your function should print the step\n",
    "    number and the current matrix at each iteration.\n",
    "    \"\"\"\n",
    "    state_vector = None\n",
    "    ################ YOUR CODE HERE #################\n",
    "    state_vector = xInit\n",
    "    for i in range(nIter):\n",
    "        state_vector = np.dot(state_vector, tMatrix)\n",
    "        if verbose:\n",
    "            print(\"Step:\", i+1)\n",
    "            print(\"Current matrix:\")\n",
    "            print(state_vector)\n",
    "            print(\"*\"*60)\n",
    "    \n",
    "    ################ (END) YOUR CODE #################\n",
    "    return state_vector"
   ]
  },
  {
   "cell_type": "code",
   "execution_count": 16,
   "metadata": {},
   "outputs": [
    {
     "name": "stdout",
     "output_type": "stream",
     "text": [
      "Step: 1\n",
      "Current matrix:\n",
      "[0.  0.5 0.  0.5 0. ]\n",
      "************************************************************\n",
      "Step: 2\n",
      "Current matrix:\n",
      "[0.   0.   0.25 0.   0.75]\n",
      "************************************************************\n",
      "Step: 3\n",
      "Current matrix:\n",
      "[0.25 0.25 0.25 0.25 0.  ]\n",
      "************************************************************\n",
      "Step: 4\n",
      "Current matrix:\n",
      "[0.    0.125 0.125 0.375 0.375]\n",
      "************************************************************\n",
      "Step: 5\n",
      "Current matrix:\n",
      "[0.125  0.125  0.1875 0.125  0.4375]\n",
      "************************************************************\n",
      "Step: 6\n",
      "Current matrix:\n",
      "[0.14583333 0.20833333 0.20833333 0.25       0.1875    ]\n",
      "************************************************************\n",
      "Step: 7\n",
      "Current matrix:\n",
      "[0.0625     0.13541667 0.16666667 0.28125    0.35416667]\n",
      "************************************************************\n",
      "Step: 8\n",
      "Current matrix:\n",
      "[0.11805556 0.14930556 0.18576389 0.19791667 0.34895833]\n",
      "************************************************************\n",
      "Step: 9\n",
      "Current matrix:\n",
      "[0.11631944 0.17534722 0.19097222 0.24479167 0.27256944]\n",
      "************************************************************\n",
      "Step: 10\n",
      "Current matrix:\n",
      "[0.09085648 0.1490162  0.17853009 0.24913194 0.33246528]\n",
      "************************************************************\n"
     ]
    }
   ],
   "source": [
    "# part e - run 10 steps of the power_iteration (RUN THIS CELL AS IS)\n",
    "xInit = np.array([1.0, 0, 0, 0, 0]) # note that this initial state will not affect the convergence states\n",
    "states = power_iteration(xInit, transition_matrix, 10, verbose = True)"
   ]
  },
  {
   "cell_type": "code",
   "execution_count": 17,
   "metadata": {},
   "outputs": [
    {
     "name": "stdout",
     "output_type": "stream",
     "text": [
      "Step: 1\n",
      "Current matrix:\n",
      "[0.  0.5 0.  0.5 0. ]\n",
      "************************************************************\n",
      "Step: 2\n",
      "Current matrix:\n",
      "[0.   0.   0.25 0.   0.75]\n",
      "************************************************************\n",
      "Step: 3\n",
      "Current matrix:\n",
      "[0.25 0.25 0.25 0.25 0.  ]\n",
      "************************************************************\n",
      "Step: 4\n",
      "Current matrix:\n",
      "[0.    0.125 0.125 0.375 0.375]\n",
      "************************************************************\n",
      "Step: 5\n",
      "Current matrix:\n",
      "[0.125  0.125  0.1875 0.125  0.4375]\n",
      "************************************************************\n",
      "Step: 6\n",
      "Current matrix:\n",
      "[0.14583333 0.20833333 0.20833333 0.25       0.1875    ]\n",
      "************************************************************\n",
      "Step: 7\n",
      "Current matrix:\n",
      "[0.0625     0.13541667 0.16666667 0.28125    0.35416667]\n",
      "************************************************************\n",
      "Step: 8\n",
      "Current matrix:\n",
      "[0.11805556 0.14930556 0.18576389 0.19791667 0.34895833]\n",
      "************************************************************\n",
      "Step: 9\n",
      "Current matrix:\n",
      "[0.11631944 0.17534722 0.19097222 0.24479167 0.27256944]\n",
      "************************************************************\n",
      "Step: 10\n",
      "Current matrix:\n",
      "[0.09085648 0.1490162  0.17853009 0.24913194 0.33246528]\n",
      "************************************************************\n",
      "Step: 11\n",
      "Current matrix:\n",
      "[0.11082176 0.15625    0.18532986 0.22395833 0.32364005]\n",
      "************************************************************\n",
      "Step: 12\n",
      "Current matrix:\n",
      "[0.10788002 0.1632909  0.18600502 0.24074074 0.30208333]\n",
      "************************************************************\n",
      "Step: 13\n",
      "Current matrix:\n",
      "[0.10069444 0.15463445 0.18233989 0.23994502 0.32238619]\n",
      "************************************************************\n",
      "Step: 14\n",
      "Current matrix:\n",
      "[0.10746206 0.15780928 0.18477929 0.23268711 0.31726225]\n",
      "************************************************************\n",
      "Step: 15\n",
      "Current matrix:\n",
      "[0.10575408 0.15948511 0.18465873 0.23851032 0.31159176]\n",
      "************************************************************\n",
      "Step: 16\n",
      "Current matrix:\n",
      "[0.10386392 0.15674096 0.18360648 0.23753577 0.31825288]\n",
      "************************************************************\n",
      "Step: 17\n",
      "Current matrix:\n",
      "[0.10608429 0.15801625 0.18445477 0.23553844 0.31590625]\n",
      "************************************************************\n",
      "Step: 18\n",
      "Current matrix:\n",
      "[0.10530208 0.15834423 0.18431021 0.23749692 0.31454656]\n",
      "************************************************************\n",
      "Step: 19\n",
      "Current matrix:\n",
      "[0.10484885 0.1574999  0.18402097 0.23696125 0.31666903]\n",
      "************************************************************\n",
      "Step: 20\n",
      "Current matrix:\n",
      "[0.10555634 0.15798077 0.18430629 0.2364454  0.3157112 ]\n",
      "************************************************************\n",
      "Step: 21\n",
      "Current matrix:\n",
      "[0.10523707 0.15801524 0.18422745 0.23708446 0.31543578]\n",
      "************************************************************\n",
      "Step: 22\n",
      "Current matrix:\n",
      "[0.10514526 0.15776379 0.18415288 0.23684598 0.31609208]\n",
      "************************************************************\n",
      "Step: 23\n",
      "Current matrix:\n",
      "[0.10536403 0.15793666 0.18424592 0.23672551 0.31572788]\n",
      "************************************************************\n",
      "Step: 24\n",
      "Current matrix:\n",
      "[0.10524263 0.15792464 0.18421096 0.23692794 0.31569384]\n",
      "************************************************************\n",
      "Step: 25\n",
      "Current matrix:\n",
      "[0.10523128 0.15785259 0.1841936  0.23683227 0.31589026]\n",
      "************************************************************\n",
      "Step: 26\n",
      "Current matrix:\n",
      "[0.10529675 0.15791239 0.18422305 0.23680924 0.31575857]\n",
      "************************************************************\n",
      "Step: 27\n",
      "Current matrix:\n",
      "[0.10525286 0.15790123 0.18420905 0.23687143 0.31576544]\n",
      "************************************************************\n",
      "Step: 28\n",
      "Current matrix:\n",
      "[0.10525515 0.15788157 0.18420576 0.23683548 0.31582204]\n",
      "************************************************************\n",
      "Step: 29\n",
      "Current matrix:\n",
      "[0.10527401 0.15790159 0.1842148  0.23683333 0.31577627]\n",
      "************************************************************\n",
      "Step: 30\n",
      "Current matrix:\n",
      "[0.10525876 0.15789576 0.18420955 0.23685181 0.31578413]\n",
      "************************************************************\n",
      "Step: 31\n",
      "Current matrix:\n",
      "[0.10526138 0.15789075 0.18420926 0.23683893 0.31579969]\n",
      "************************************************************\n",
      "Step: 32\n",
      "Current matrix:\n",
      "[0.10526656 0.15789725 0.18421194 0.23683994 0.3157843 ]\n",
      "************************************************************\n",
      "Step: 33\n",
      "Current matrix:\n",
      "[0.10526143 0.15789472 0.18421006 0.23684522 0.31578857]\n",
      "************************************************************\n",
      "Step: 34\n",
      "Current matrix:\n",
      "[0.10526286 0.15789357 0.18421021 0.23684078 0.31579258]\n",
      "************************************************************\n",
      "Step: 35\n",
      "Current matrix:\n",
      "[0.10526419 0.15789562 0.18421098 0.23684164 0.31578756]\n",
      "************************************************************\n",
      "Step: 36\n",
      "Current matrix:\n",
      "[0.10526252 0.15789462 0.18421033 0.23684308 0.31578945]\n",
      "************************************************************\n",
      "Step: 37\n",
      "Current matrix:\n",
      "[0.10526315 0.15789441 0.18421046 0.23684159 0.31579038]\n",
      "************************************************************\n",
      "Step: 38\n",
      "Current matrix:\n",
      "[0.10526346 0.15789504 0.18421067 0.23684204 0.3157888 ]\n",
      "************************************************************\n",
      "Step: 39\n",
      "Current matrix:\n",
      "[0.10526293 0.15789466 0.18421045 0.2368424  0.31578955]\n",
      "************************************************************\n",
      "Step: 40\n",
      "Current matrix:\n",
      "[0.10526318 0.15789465 0.18421052 0.23684192 0.31578973]\n",
      "************************************************************\n",
      "Step: 41\n",
      "Current matrix:\n",
      "[0.10526324 0.15789484 0.18421057 0.23684211 0.31578924]\n",
      "************************************************************\n",
      "Step: 42\n",
      "Current matrix:\n",
      "[0.10526308 0.1578947  0.1842105  0.23684219 0.31578953]\n",
      "************************************************************\n",
      "Step: 43\n",
      "Current matrix:\n",
      "[0.10526318 0.15789472 0.18421053 0.23684204 0.31578954]\n",
      "************************************************************\n",
      "Step: 44\n",
      "Current matrix:\n",
      "[0.10526318 0.15789477 0.18421054 0.23684211 0.3157894 ]\n",
      "************************************************************\n",
      "Step: 45\n",
      "Current matrix:\n",
      "[0.10526313 0.15789472 0.18421052 0.23684213 0.3157895 ]\n",
      "************************************************************\n",
      "Step: 46\n",
      "Current matrix:\n",
      "[0.10526317 0.15789473 0.18421053 0.23684208 0.31578949]\n",
      "************************************************************\n",
      "Step: 47\n",
      "Current matrix:\n",
      "[0.10526316 0.15789475 0.18421053 0.23684211 0.31578945]\n",
      "************************************************************\n",
      "Step: 48\n",
      "Current matrix:\n",
      "[0.10526315 0.15789473 0.18421052 0.23684211 0.31578948]\n",
      "************************************************************\n",
      "Step: 49\n",
      "Current matrix:\n",
      "[0.10526316 0.15789474 0.18421053 0.2368421  0.31578948]\n",
      "************************************************************\n",
      "Step: 50\n",
      "Current matrix:\n",
      "[0.10526316 0.15789474 0.18421053 0.23684211 0.31578947]\n",
      "************************************************************\n",
      "Step: 51\n",
      "Current matrix:\n",
      "[0.10526316 0.15789473 0.18421053 0.23684211 0.31578948]\n",
      "************************************************************\n",
      "Step: 52\n",
      "Current matrix:\n",
      "[0.10526316 0.15789474 0.18421053 0.2368421  0.31578947]\n",
      "************************************************************\n",
      "Step: 53\n",
      "Current matrix:\n",
      "[0.10526316 0.15789474 0.18421053 0.23684211 0.31578947]\n",
      "************************************************************\n",
      "Step: 54\n",
      "Current matrix:\n",
      "[0.10526316 0.15789474 0.18421053 0.23684211 0.31578948]\n",
      "************************************************************\n",
      "Step: 55\n",
      "Current matrix:\n",
      "[0.10526316 0.15789474 0.18421053 0.2368421  0.31578947]\n",
      "************************************************************\n"
     ]
    }
   ],
   "source": [
    "### Experiment with nIter to find the stable state\n",
    "xInit = np.array([1.0, 0, 0, 0, 0]) # note that this initial state will not affect the convergence states\n",
    "states = power_iteration(xInit, transition_matrix, 55, verbose = True)"
   ]
  },
  {
   "cell_type": "markdown",
   "metadata": {},
   "source": [
    "__`Expected Output for part e:`__  \n",
    ">Steady State Probabilities:\n",
    "```\n",
    "Node A: 0.10526316  \n",
    "Node B: 0.15789474  \n",
    "Node C: 0.18421053  \n",
    "Node D: 0.23684211  \n",
    "Node E: 0.31578947  \n",
    "```"
   ]
  },
  {
   "cell_type": "markdown",
   "metadata": {},
   "source": [
    "# Question 4: Page Rank Theory\n",
    "\n",
    "Seems easy right? Unfortunately applying this power iteration method directly to the web-graph actually runs into a few problems. In this question we'll tease apart what we meant by a 'nice graph' in Question 3 and highlight key modifications we'll have to make to the web-graph when performing PageRank. To start, we'll look at what goes wrong when we try to repeat our strategy from question 3 on a 'not nice' graph.\n",
    "\n",
    "__`Additional References:`__ http://pi.math.cornell.edu/~mec/Winter2009/RalucaRemus/Lecture3/lecture3.html\n",
    "\n",
    "### Q4 Tasks:\n",
    "\n",
    "* __a) code + short response:__ Run the provided code to create and plot our 'not nice' graph. Fill in the missing code to compute its transition matrix & run the power iteration method from question 3. What is wrong with what you see? [__`HINT:`__ _there is a visible underlying reason that it isn't converging... try adding up the probabilities in the state vector after each iteration._]\n",
    "\n",
    "* __b) short response:__  Identify the dangling node in this 'not nice' graph and explain how this node causes the problem you described in 'a'. How could we modify the transition matrix after each iteration to prevent this problem?\n",
    "\n",
    "* __c) short response:__ What does it mean for a graph to be irreducible? Is the webgraph naturally irreducible? Explain your reasoning briefly.\n",
    "\n",
    "* __d) short response:__ What does it mean for a graph to be aperiodic? Is the webgraph naturally aperiodic? Explain your reasoning briefly.\n",
    "\n",
    "* __e) short response:__ What modification to the webgraph does PageRank make in order to guarantee aperiodicity and irreducibility? Interpret this modification in terms of our random surfer analogy.\n"
   ]
  },
  {
   "cell_type": "markdown",
   "metadata": {},
   "source": [
    "### Q4 Student Answers:\n",
    "> __a)__ In the transition matrix, the row for node E does not add up to 1. Because node E does not navigate to any of the nodes, all probability is zero. In addition, the state vector does not sum up to one. Furthermore, it's noticed that the state vector values seem to bounce up and down rather than converging towards one direction. \n",
    "\n",
    "> __b)__ Node E is the dangling node, because it does not navigate to any of the nodes. If web surfer goes in here, he/she will be trapped here. We should add up a teleportation matrix to the transition matrix after each iteration to prevent this problem. $\\text{Revised Transition Matrix} = (1 - \\alpha) \\cdot \\text{Original Transition Matrix} + \\alpha \\cdot \\text{Teleportation Matrix}$, where $\\alpha$ is probability of random jump. \n",
    "\n",
    "> __c)__ 'Irreducible' means that there is a path from every node to every other node. I don't think a webgraph is naturally irreducible. When designing a website, not every web page will be designed with a link to navigate to other page(s), for example some links are just image files or pdf files which would not contain any link to other pages. \n",
    "\n",
    "> __d)__ 'Aperiodic' means that he period, or greatest common divisor (GCD), of all cycle lengths is 1; or equivalently, there is no a larger-than-one integer that can divide the length of every cycle of the graph. I think a webgraph is not naturally aperiodic. Because a lot of web pages only have one outgoing link, starting on these pages would affect the probability of landing on other pages, and may impact the convergence to steady state. \n",
    "\n",
    "> __e)__ Two adjustments need to be made:\n",
    "- Stochasticity adjustment which allows us to get over dangling nodes. This is the $\\text{Teleportation Matrix}$ in our formula above in __(b)__. \n",
    "- Primitivity adjustment is made to guarantee aperiodicity and irreducibility. It is arrived at through a teleportation factor, $\\alpha$, see formular above in __(b)__. Uisng the random surfer analogy, it can be thought of as a random surfer that gets bored sometimes while following the hyperlink structure of the web, and, instead of following links at random, enters a new URL in the URL bar to jump to the new link. \n",
    "\n",
    "> __References__\n",
    "- MIDS W261 async video - Unit 9, *Large-Scale Graph Processing: Random Walks, PageRank, and Personalized PageRank*. \n",
    "- https://en.wikipedia.org/wiki/Aperiodic_graph"
   ]
  },
  {
   "cell_type": "code",
   "execution_count": 18,
   "metadata": {},
   "outputs": [],
   "source": [
    "# part a - run this code to create a second toy graph (RUN THIS CELL AS IS)\n",
    "TOY2_GRAPH = {'nodes':['A', 'B', 'C', 'D', 'E'],\n",
    "              'edges':[('A', 'B'), ('A', 'C'), ('A', 'D'), ('B', 'D'), \n",
    "                       ('B', 'E'), ('C', 'A'), ('C', 'E'), ('D', 'B')]}"
   ]
  },
  {
   "cell_type": "code",
   "execution_count": 19,
   "metadata": {},
   "outputs": [
    {
     "data": {
      "image/png": "[encoded data removed]",
      "text/plain": [
       "<Figure size 432x288 with 1 Axes>"
      ]
     },
     "metadata": {},
     "output_type": "display_data"
    }
   ],
   "source": [
    "# part a - simple visualization of our test graph using nx (RUN THIS CELL AS IS)\n",
    "G = nx.DiGraph()\n",
    "G.add_nodes_from(TOY2_GRAPH['nodes'])\n",
    "G.add_edges_from(TOY2_GRAPH['edges'])\n",
    "nx.draw(G, pos=nx.circular_layout(G), with_labels=True, alpha = 0.5)"
   ]
  },
  {
   "cell_type": "code",
   "execution_count": 20,
   "metadata": {},
   "outputs": [
    {
     "name": "stdout",
     "output_type": "stream",
     "text": [
      "Transition matrix for TOY2_GRAPH:\n",
      "[[0.         0.33333333 0.33333333 0.33333333 0.        ]\n",
      " [0.         0.         0.         0.5        0.5       ]\n",
      " [0.5        0.         0.         0.         0.5       ]\n",
      " [0.         1.         0.         0.         0.        ]\n",
      " [0.         0.         0.         0.         0.        ]] \n",
      "\n",
      "Step: 1\n",
      "Current matrix:\n",
      "[0.         0.33333333 0.33333333 0.33333333 0.        ]\n",
      "************************************************************\n",
      "Step: 2\n",
      "Current matrix:\n",
      "[0.16666667 0.33333333 0.         0.16666667 0.33333333]\n",
      "************************************************************\n",
      "Step: 3\n",
      "Current matrix:\n",
      "[0.         0.22222222 0.05555556 0.22222222 0.16666667]\n",
      "************************************************************\n",
      "Step: 4\n",
      "Current matrix:\n",
      "[0.02777778 0.22222222 0.         0.11111111 0.13888889]\n",
      "************************************************************\n",
      "Step: 5\n",
      "Current matrix:\n",
      "[0.         0.12037037 0.00925926 0.12037037 0.11111111]\n",
      "************************************************************\n",
      "Step: 6\n",
      "Current matrix:\n",
      "[0.00462963 0.12037037 0.         0.06018519 0.06481481]\n",
      "************************************************************\n",
      "Step: 7\n",
      "Current matrix:\n",
      "[0.         0.0617284  0.00154321 0.0617284  0.06018519]\n",
      "************************************************************\n",
      "Step: 8\n",
      "Current matrix:\n",
      "[0.0007716 0.0617284 0.        0.0308642 0.0316358]\n",
      "************************************************************\n",
      "Step: 9\n",
      "Current matrix:\n",
      "[0.        0.0311214 0.0002572 0.0311214 0.0308642]\n",
      "************************************************************\n",
      "Step: 10\n",
      "Current matrix:\n",
      "[0.0001286 0.0311214 0.        0.0155607 0.0156893]\n",
      "************************************************************\n"
     ]
    }
   ],
   "source": [
    "# part a - run 10 steps of the power iteration method here\n",
    "# HINT: feel free to use the functions get_adj_matr() and power_iteration() you wrote above\n",
    "################ YOUR CODE HERE #################\n",
    "# 1. get adjacency matrix\n",
    "TOY2_ADJ_MATR = get_adj_matr(TOY2_GRAPH)\n",
    "\n",
    "# 2. get transition matrix, and replace nan with zero value\n",
    "transition_matrix_2 = TOY2_ADJ_MATR.div(TOY2_ADJ_MATR.sum(axis=1), axis=0).values \n",
    "transition_matrix_2 = np.nan_to_num(transition_matrix_2)\n",
    "print(\"Transition matrix for TOY2_GRAPH:\")\n",
    "print(transition_matrix_2, \"\\n\")\n",
    "\n",
    "# 3. run 10 steps of the power iteration method\n",
    "xInit = np.array([1.0, 0, 0, 0, 0]) \n",
    "states = power_iteration(xInit, transition_matrix_2, 10, verbose = True)\n",
    "\n",
    "################ (END) YOUR CODE #################"
   ]
  },
  {
   "cell_type": "markdown",
   "metadata": {},
   "source": [
    "# About the Data\n",
    "The main dataset for this data consists of a subset of a 500GB dataset released by AWS in 2009. The data includes the source and metadata for all of the Wikimedia wikis. You can read more here: \n",
    "> https://aws.amazon.com/blogs/aws/new-public-data-set-wikipedia-xml-data. \n",
    "\n",
    "As in previous homeworks we'll be using a 2GB subset of this data, which is available to you in this dropbox folder: \n",
    "> https://www.dropbox.com/sh/2c0k5adwz36lkcw/AAAAKsjQfF9uHfv-X9mCqr9wa?dl=0. \n",
    "\n",
    "Use the cells below to download the wikipedia data and a test file for use in developing your PageRank implementation(note that we'll use the 'indexed out' version of the graph) and to take a look at the files.\n",
    "\n",
    "__IMPORTANT NOTE:__ For Question 8, when working with the full dataset, you will need to submit a .py script to the cluster. Please follow the instructions provided and Office Hour recordings, if you need help with this. "
   ]
  },
  {
   "cell_type": "code",
   "execution_count": null,
   "metadata": {},
   "outputs": [],
   "source": [
    "# create a data directory (RUN THIS CELL AS IS)\n",
    "!mkdir data"
   ]
  },
  {
   "cell_type": "code",
   "execution_count": null,
   "metadata": {},
   "outputs": [],
   "source": [
    "# download the test data set (RUN THIS CELL AS IS)\n",
    "!wget -q -O data/test_graph.txt https://www.dropbox.com/sh/2c0k5adwz36lkcw/AACf_33TeM7rKfEhjEoNmMCaa/PageRank-test_indexed.txt?dl=0"
   ]
  },
  {
   "cell_type": "code",
   "execution_count": null,
   "metadata": {},
   "outputs": [],
   "source": [
    "# take a look (RUN THIS CELL AS IS)\n",
    "!cat data/test_graph.txt"
   ]
  },
  {
   "cell_type": "code",
   "execution_count": null,
   "metadata": {},
   "outputs": [],
   "source": [
    "# download the main data set - this may take a little time (RUN THIS CELL AS IS)\n",
    "!wget -q -O data/wiki_graph.txt https://www.dropbox.com/sh/2c0k5adwz36lkcw/AAAD7I_6kQlJtDpXZPhCfVH-a/wikipedia/all-pages-indexed-out.txt?dl=0"
   ]
  },
  {
   "cell_type": "code",
   "execution_count": null,
   "metadata": {},
   "outputs": [],
   "source": [
    "# take a look (RUN THIS CELL AS IS)\n",
    "!head data/wiki_graph.txt"
   ]
  },
  {
   "cell_type": "code",
   "execution_count": null,
   "metadata": {},
   "outputs": [],
   "source": [
    "# download the indexes (RUN THIS CELL AS IS)\n",
    "!wget -q -O data/indices.txt https://www.dropbox.com/sh/2c0k5adwz36lkcw/AADSYhyRXbgebRDy6ALl6O1ca/wikipedia/indices.txt?dl=0"
   ]
  },
  {
   "cell_type": "code",
   "execution_count": null,
   "metadata": {},
   "outputs": [],
   "source": [
    "# take a look (RUN THIS CELL AS IS)\n",
    "!head data/indices.txt"
   ]
  },
  {
   "cell_type": "code",
   "execution_count": 21,
   "metadata": {},
   "outputs": [],
   "source": [
    "# load the data into Spark RDDs for convenience of use later (RUN THIS CELL AS IS)\n",
    "testRDD = sc.textFile('data/test_graph.txt')\n",
    "indexRDD = sc.textFile('data/indices.txt')\n",
    "wikiRDD = sc.textFile('data/wiki_graph.txt')"
   ]
  },
  {
   "cell_type": "markdown",
   "metadata": {},
   "source": [
    "# Question 5: EDA part 1 (number of nodes)\n",
    "\n",
    "As usual, before we dive in to the main analysis, we'll peform some exploratory data anlysis to understand our dataset. Please use the test graph that you downloaded to test all your code before running the full dataset.\n",
    "\n",
    "### Q5 Tasks:\n",
    "* __a) short response:__ In what format is the raw data? What does the first value represent? What does the second part of each line represent? [__`HINT:`__ _no need to go digging here, just visually inspect the outputs of the head commands that we ran after loading the data above._]\n",
    "\n",
    "* __b) code + short response:__ Run the provided bash command to count the number of records in the raw dataset. Explain why this is _not_ the same as the number of total nodes in the graph.\n",
    "\n",
    "* __c) code:__ In the space provided below write a Spark job to count the _total number_ of nodes in this graph. \n",
    "\n",
    "* __d) short response:__ How many dangling nodes are there in this wikipedia graph? [__`HINT:`__ _you should not need any code to answer this question._]"
   ]
  },
  {
   "cell_type": "markdown",
   "metadata": {},
   "source": [
    "### Q5 Student Answers:\n",
    "> __a)__ The raw data is in key-value pair format, where the value is in dictionary format. The first part of the value represents the source node; the second part of the line represents {destination node: the shortest distance from source node to destination node}. \n",
    "\n",
    "> __b)__ Some nodes are dangling nodes which does not go out to other node(s), in this case, they are not listed as a key (an individual record) in the raw data file. Therefore, the total records are less than the total number of nodes.   \n",
    "\n",
    "> __d)__ There are $15192277-5781290 = 9410987$ dangling nodes in this wikipedia graph.   \n"
   ]
  },
  {
   "cell_type": "code",
   "execution_count": 22,
   "metadata": {},
   "outputs": [
    {
     "name": "stdout",
     "output_type": "stream",
     "text": [
      "5781290 data/wiki_graph.txt\n"
     ]
    }
   ],
   "source": [
    "# part b - count the number of records in the raw data (RUN THIS CELL AS IS)\n",
    "!wc -l data/wiki_graph.txt"
   ]
  },
  {
   "cell_type": "code",
   "execution_count": 23,
   "metadata": {},
   "outputs": [],
   "source": [
    "# part c - write your Spark job here (compute total number of nodes)\n",
    "def count_nodes(dataRDD):\n",
    "    \"\"\"\n",
    "    Spark job to count the total number of nodes.\n",
    "    Returns: integer count \n",
    "    \"\"\"    \n",
    "    ############## YOUR CODE HERE ###############\n",
    "    totalCount = dataRDD.map(lambda line: line.split('\\t')) \\\n",
    "                        .map(lambda x: (ast.literal_eval(x[0]), ast.literal_eval(x[1]))) \\\n",
    "                        .flatMapValues(lambda x: set(x.keys())) \\\n",
    "                        .mapValues(lambda x: ast.literal_eval(x)) \\\n",
    "                        .flatMap(lambda x: set([x[0], x[1]])) \\\n",
    "                        .distinct() \\\n",
    "                        .count()\n",
    "\n",
    "    \n",
    "    ############## (END) YOUR CODE ###############   \n",
    "    return totalCount"
   ]
  },
  {
   "cell_type": "code",
   "execution_count": 24,
   "metadata": {},
   "outputs": [
    {
     "name": "stdout",
     "output_type": "stream",
     "text": [
      "... completed job in 2.279386520385742 seconds.\n",
      "Total Nodes: 11\n"
     ]
    }
   ],
   "source": [
    "# part c - run your counting job on the test file (RUN THIS CELL AS IS)\n",
    "start = time.time()\n",
    "tot = count_nodes(testRDD)\n",
    "print(f'... completed job in {time.time() - start} seconds.')\n",
    "print(f'Total Nodes: {tot}')"
   ]
  },
  {
   "cell_type": "code",
   "execution_count": 25,
   "metadata": {},
   "outputs": [
    {
     "name": "stdout",
     "output_type": "stream",
     "text": [
      "... completed job in 1323.633445739746 seconds.\n",
      "Total Nodes: 15192277\n"
     ]
    }
   ],
   "source": [
    "# part c - run your counting job on the full file (RUN THIS CELL AS IS)\n",
    "start = time.time()\n",
    "tot = count_nodes(wikiRDD)\n",
    "print(f'... completed job in {time.time() - start} seconds.')\n",
    "print(f'Total Nodes: {tot}')"
   ]
  },
  {
   "cell_type": "markdown",
   "metadata": {},
   "source": [
    "# Question 6 - EDA part 2 (out-degree distribution)\n",
    "\n",
    "As you've seen in previous homeworks the computational complexity of an implementation depends not only on the number of records in the original dataset but also on the number of records we create and shuffle in our intermediate representation of the data. The number of intermediate records required to update PageRank is related to the number of edges in the graph. In this question you'll compute the average number of hyperlinks on each page in this data and visualize a distribution for these counts (the out-degree of the nodes). \n",
    "\n",
    "### Q6 Tasks:\n",
    "* __a) code:__ In the space provided below write a Spark job to stream over the data and compute all of the following information:\n",
    " * count the out-degree of each non-dangling node and return the names of the top 10 pages with the most hyperlinks\n",
    " * find the average out-degree for all non-dangling nodes in the graph\n",
    " * take a 1000 point sample of these out-degree counts and plot a histogram of the result. \n",
    " \n",
    " \n",
    "* __b) short response:__ In the context of the PageRank algorithm, how is information about a node's out degree used?\n",
    "\n",
    "* __c) short response:__ What does it mean if a node's out-degree is 0? In PageRank how will we handle these nodes differently than others?\n",
    " \n",
    "__`NOTE:`__ Please observe scalability best practices in the design of your code & comment your work clearly. You will be graded on both the clarity and the design."
   ]
  },
  {
   "cell_type": "markdown",
   "metadata": {},
   "source": [
    "### Q6 Student Answers:\n",
    "\n",
    "> __b)__ We use each node's out degrees and the total number of nodes to calculate a transition matrix. For PageRank calculation, the formula can be written as following:\n",
    "- $PR(x | W) = \\alpha \\frac{1}{|W|} + (1 - \\alpha) \\sum\\limits_{i=1}^{n} \\frac{PR(t_i)}{C(t_i)}$\n",
    "- where $x$ is a node, $|W|$ is the total number of nodes in the graph, $C(t)$ is the out-degree of $t$, and $\\alpha$ is probability of random jump. \n",
    "\n",
    "> __c)__ It means that the node is a dangling node. In the case of dangling nodes, we ignore dangling nodes in the calculation, but in order for our calculation to converge, we apply $\\alpha$ which is probability of random jump, as well as Teleportation Matrix. \n",
    "\n",
    "> __References__\n",
    "- MIDS W261 async video - Unit 9, *Large-Scale Graph Processing: Random Walks, PageRank, and Personalized PageRank*."
   ]
  },
  {
   "cell_type": "code",
   "execution_count": 26,
   "metadata": {},
   "outputs": [],
   "source": [
    "# part a - write your Spark job here (compute average in-degree, etc)\n",
    "def count_degree(dataRDD, n):\n",
    "    \"\"\"\n",
    "    Function to analyze out-degree of nodes in a a graph.\n",
    "    Returns: \n",
    "        top  - (list of 10 tuples) nodes with most edges\n",
    "        avgDegree - (float) average out-degree for non-dangling nodes\n",
    "        sampledCounts - (list of integers) out-degree for n randomly sampled non-dangling nodes\n",
    "    \"\"\"\n",
    "    # helper func\n",
    "    def parse(line):\n",
    "        node, edges = line.split('\\t')\n",
    "        return (node, ast.literal_eval(edges))\n",
    "    \n",
    "    ############## YOUR CODE HERE ###############\n",
    "    # 1. Set up base RDD for calculation:\n",
    "    #    - rankRDD: (node, sum of out-degree)\n",
    "    #    - rank_valueRDD: RDD with just the sum of out-degree for each node. \n",
    "    rankRDD = dataRDD.map(parse) \\\n",
    "                     .map(lambda x: (x[0], sum(x[1].values()))) \\\n",
    "                     .cache()\n",
    "    rank_valueRDD = rankRDD.values().cache()\n",
    "    \n",
    "    # 2. Get the top 10 nodes with most edges\n",
    "    top = rankRDD.takeOrdered(10, key=lambda x: -x[1])\n",
    "    \n",
    "    # 3. Get the average degree\n",
    "    totalCount = rankRDD.count()\n",
    "    totalSum = rank_valueRDD.sum()\n",
    "    avgDegree = totalSum / totalCount\n",
    "    \n",
    "    # 4. Get a list of integer by sampling rank_valueRDD\n",
    "    sampledCounts = rank_valueRDD.takeSample(False, n, 2019)\n",
    "    \n",
    "    ############## (END) YOUR CODE ###############\n",
    "    \n",
    "    return top, avgDegree, sampledCounts"
   ]
  },
  {
   "cell_type": "code",
   "execution_count": 27,
   "metadata": {},
   "outputs": [
    {
     "name": "stdout",
     "output_type": "stream",
     "text": [
      "... completed job in 0.743431568145752 seconds\n",
      "Average out-degree:  2.2\n",
      "Top 10 nodes (by out-degree:)\n",
      " [('5', 5), ('6', 3), ('3', 2), ('4', 2), ('7', 2), ('8', 2), ('9', 2), ('11', 2), ('2', 1), ('10', 1)]\n"
     ]
    },
    {
     "data": {
      "image/png": "[encoded data removed]",
      "text/plain": [
       "<Figure size 432x288 with 1 Axes>"
      ]
     },
     "metadata": {},
     "output_type": "display_data"
    }
   ],
   "source": [
    "# part a - run your job on the test file (RUN THIS CELL AS IS)\n",
    "start = time.time()\n",
    "test_results = count_degree(testRDD,10)\n",
    "print(f\"... completed job in {time.time() - start} seconds\")\n",
    "print(\"Average out-degree: \", test_results[1])\n",
    "print(\"Top 10 nodes (by out-degree:)\\n\", test_results[0])\n",
    "plt.hist(test_results[2], bins=10)\n",
    "plt.title(\"Distribution of Out-Degree\")\n",
    "plt.show()"
   ]
  },
  {
   "cell_type": "code",
   "execution_count": 28,
   "metadata": {},
   "outputs": [
    {
     "name": "stdout",
     "output_type": "stream",
     "text": [
      "... completed job in 349.46259593963623 seconds\n",
      "Average out-degree:  32.04181575392343\n",
      "Top 10 nodes (by out-degree:)\n",
      " [('7804599', 9347), ('7858931', 8910), ('11185362', 8837), ('7705822', 8142), ('5760310', 7649), ('7865920', 7608), ('7819767', 7278), ('7883280', 7231), ('13035895', 7126), ('7880980', 6904)]\n"
     ]
    },
    {
     "data": {
      "image/png": "[encoded data removed]",
      "text/plain": [
       "<Figure size 432x288 with 1 Axes>"
      ]
     },
     "metadata": {},
     "output_type": "display_data"
    }
   ],
   "source": [
    "# part a - run your job on the full file (RUN THIS CELL AS IS)\n",
    "start = time.time()\n",
    "full_results = count_degree(wikiRDD,1000)\n",
    "print(f\"... completed job in {time.time() - start} seconds\")\n",
    "print(\"Average out-degree: \", full_results[1])\n",
    "print(\"Top 10 nodes (by out-degree:)\\n\", full_results[0])\n",
    "plt.hist(full_results[2], bins=50)\n",
    "plt.title(\"Distribution of Out-Degree\")\n",
    "plt.show()"
   ]
  },
  {
   "cell_type": "markdown",
   "metadata": {},
   "source": [
    "# Question 7 - PageRank part 1 (Initialize the Graph)\n",
    "\n",
    "One of the challenges of performing distributed graph computation is that you must pass the entire graph structure through each iteration of your algorithm. As usual, we seek to design our computation so that as much work as possible can be done using the contents of a single record. In the case of PageRank, we'll need each record to include a node, its list of neighbors and its (current) rank. In this question you'll initialize the graph by creating a record for each dangling node and by setting the initial rank to 1/N for all nodes. \n",
    "\n",
    "__`NOTE:`__ Your solution should _not_ hard code $N$.\n",
    "\n",
    "### Q7 Tasks:\n",
    "* __a) short response:__ What is $N$? Use the analogy of the infinite random web-surfer to explain why we'll initialize each node's rank to $\\frac{1}{N}$. (i.e. what is the probabilistic interpretation of this choice?)\n",
    "\n",
    "* __b) short response:__ Will it be more efficient to compute $N$ before initializing records for each dangling node or after? Explain your reasoning.\n",
    "\n",
    "* __c) code:__ Fill in the missing code below to create a Spark job that:\n",
    "  * parses each input record\n",
    "  * creates a new record for any dangling nodes and sets it list of neighbors to be an empty set\n",
    "  * initializes a rank of 1/N for each node\n",
    "  * returns a pair RDD with records in the format specified by the docstring\n",
    "\n",
    "\n",
    "* __d) code:__ Run the provided code to confirm that your job in `part a` has a record for each node and that your should records match the format specified in the docstring and the count should match what you computed in question 5. [__`TIP:`__ _you might want to take a moment to write out what the expected output should be fore the test graph, this will help you know your code works as expected_]\n",
    " \n",
    "__`NOTE:`__ Please observe scalability best practices in the design of your code & comment your work clearly. You will be graded on both the clarity and the design."
   ]
  },
  {
   "cell_type": "markdown",
   "metadata": {},
   "source": [
    "### Q7 Student Answers:\n",
    "\n",
    "> __a)__ $N$ is the number of total nodes. In the analogy of infinite random web-surfing, we initializing each node's rank to  $\\frac{1}{N}$ by assuming each node has the same probability of being hit. If we have $N$ total nodes, each node would have a probability of $\\frac{1}{N}$. \n",
    "\n",
    "> __b)__ I think it would be more efficient to compute $N$ after initializing records for each dangling node. Because if we compute $N$ beforehands, we would need to go through the entire dataset first to get the total count, and then go through the dataset one more time to initialize records for dangling nodes. But if we do it afterwards, we just need to go through the dataset once to initialize dangling nodes without any score, cache the RDD, and then get the count of the cached RDD for $N$ to update their scores to $\\frac{1}{N}$.  "
   ]
  },
  {
   "cell_type": "code",
   "execution_count": 29,
   "metadata": {},
   "outputs": [],
   "source": [
    "# part c - job to initialize the graph (RUN THIS CELL AS IS) \n",
    "def initGraph(dataRDD):\n",
    "    \"\"\"\n",
    "    Spark job to read in the raw data and initialize an \n",
    "    adjacency list representation with a record for each\n",
    "    node (including dangling nodes).\n",
    "    \n",
    "    Returns: \n",
    "        graphRDD -  a pair RDD of (node_id , (score, edges))\n",
    "        \n",
    "    NOTE: The score should be a float, but you may want to be \n",
    "    strategic about how format the edges... there are a few \n",
    "    options that can work. Make sure that whatever you choose\n",
    "    is sufficient for Question 8 where you'll run PageRank.\n",
    "    \"\"\"\n",
    "    ############## YOUR CODE HERE ###############    \n",
    "    # write any helper functions here\n",
    "    def parse(line):\n",
    "        \"\"\"\n",
    "        Parsing each line of record:\n",
    "        - create (key,value) pair\n",
    "        - convert value format to dict\n",
    "        \"\"\"\n",
    "        node, edges = line.split('\\t')\n",
    "        return (node, ast.literal_eval(edges))\n",
    "    \n",
    "    def getEdges(line):\n",
    "        \"\"\"\n",
    "        For nodes that are the keys of RDD:\n",
    "        - convert their format to a tuple of (node_id, edges)\n",
    "        - This will only list out node that are existing RDD keys\n",
    "        - If a node has duplicate edges, the function will emit duplicate items. \n",
    "        \"\"\"\n",
    "        edges = ''\n",
    "        for key, value in line[1].items():\n",
    "            edges += (key+',')*value\n",
    "        return (line[0], edges[:-1])\n",
    "    \n",
    "    def convertEdgeToNode(line):\n",
    "        \"\"\"\n",
    "        For nodes that are listed as edges of key nodes:\n",
    "        - convert their format to a tuple of (node_id, [])\n",
    "        \"\"\"\n",
    "        for node in line[1].split(','):\n",
    "            yield (node, '')\n",
    "    \n",
    "    # write your main Spark code here\n",
    "    # 1. Convert existing RDD to (node_id , list of edges)) format \n",
    "    keyRDD = dataRDD.map(parse) \\\n",
    "                    .map(getEdges) \\\n",
    "                    .cache()\n",
    "    \n",
    "    # 2. Create a new RDD with edges as keys\n",
    "    edgeRDD = keyRDD.flatMap(convertEdgeToNode).cache()\n",
    "    \n",
    "    # 3. Merge both RDDs, then reduce by key\n",
    "    init_graphRDD = keyRDD.union(edgeRDD) \\\n",
    "                          .reduceByKey(lambda x, y: (x + y)) \\\n",
    "                          .cache()\n",
    "                        \n",
    "    # 4. Compute N\n",
    "    N = init_graphRDD.count()\n",
    "    \n",
    "    # 5. Update the init_graphRDD to include score as 1/N\n",
    "    graphRDD = init_graphRDD.map(lambda x: (x[0], (1/N, x[1]))).cache()\n",
    "    \n",
    "    ############## (END) YOUR CODE ##############\n",
    "    \n",
    "    return graphRDD"
   ]
  },
  {
   "cell_type": "code",
   "execution_count": 30,
   "metadata": {},
   "outputs": [
    {
     "name": "stdout",
     "output_type": "stream",
     "text": [
      "... test graph initialized in 0.8916275501251221 seconds.\n"
     ]
    },
    {
     "data": {
      "text/plain": [
       "[('4', (0.09090909090909091, '1,2')),\n",
       " ('10', (0.09090909090909091, '5')),\n",
       " ('3', (0.09090909090909091, '2,2')),\n",
       " ('6', (0.09090909090909091, '2,5,5')),\n",
       " ('7', (0.09090909090909091, '2,5')),\n",
       " ('8', (0.09090909090909091, '2,5')),\n",
       " ('9', (0.09090909090909091, '2,5')),\n",
       " ('1', (0.09090909090909091, '')),\n",
       " ('2', (0.09090909090909091, '3')),\n",
       " ('5', (0.09090909090909091, '4,4,4,2,6')),\n",
       " ('11', (0.09090909090909091, '5,5'))]"
      ]
     },
     "execution_count": 30,
     "metadata": {},
     "output_type": "execute_result"
    }
   ],
   "source": [
    "# part c - run your Spark job on the test graph (RUN THIS CELL AS IS)\n",
    "start = time.time()\n",
    "testGraph = initGraph(testRDD).collect()\n",
    "print(f'... test graph initialized in {time.time() - start} seconds.')\n",
    "testGraph"
   ]
  },
  {
   "cell_type": "code",
   "execution_count": 31,
   "metadata": {},
   "outputs": [
    {
     "name": "stdout",
     "output_type": "stream",
     "text": [
      "... full graph initialized in 1102.3704662322998 seconds\n"
     ]
    }
   ],
   "source": [
    "# part c - run your code on the main graph (RUN THIS CELL AS IS)\n",
    "start = time.time()\n",
    "wikiGraphRDD = initGraph(wikiRDD)\n",
    "print(f'... full graph initialized in {time.time() - start} seconds')"
   ]
  },
  {
   "cell_type": "code",
   "execution_count": 32,
   "metadata": {},
   "outputs": [
    {
     "name": "stdout",
     "output_type": "stream",
     "text": [
      "Total number of records: 15192277\n",
      "First record: [('21439', (6.582291778908455e-08, '21438'))]\n",
      "... initialization continued: 83.34683465957642 seconds\n"
     ]
    }
   ],
   "source": [
    "# part c - confirm record format and count (RUN THIS CELL AS IS)\n",
    "start = time.time()\n",
    "print(f'Total number of records: {wikiGraphRDD.count()}')\n",
    "print(f'First record: {wikiGraphRDD.take(1)}')\n",
    "print(f'... initialization continued: {time.time() - start} seconds')"
   ]
  },
  {
   "cell_type": "markdown",
   "metadata": {},
   "source": [
    "# Question 8 - PageRank part 2 (Iterate until convergence)\n",
    "\n",
    "Finally we're ready to compute the page rank. In this last question you'll write a Spark job that iterates over the initialized graph updating each nodes score until it reaches a convergence threshold. The diagram below gives a visual overview of the process using a 5 node toy graph. Pay particular attention to what happens to the dangling mass at each iteration.\n",
    "\n",
    "<img src='PR-illustrated.png'>\n",
    "\n",
    "\n",
    "\n",
    "__`A Note about Notation:`__ The formula above describes how to compute the updated page rank for a node in the graph. The $P$ on the left hand side of the equation is the new score, and the $P$ on the right hand side of the equation represents the accumulated mass that was re-distributed from all of that node's in-links. Finally, $|G|$ is the number of nodes in the graph (which we've elsewhere refered to as $N$).\n",
    "\n",
    "### Q8 Tasks:\n",
    "* __a) short response:__ In terms of the infinite random walk analogy, interpret the meaning of the first term in the PageRank calculation: $\\alpha * \\frac{1}{|G|}$\n",
    "\n",
    "* __b) short response:__ In the equation for the PageRank calculation above what does $m$ represent and why do we divide it by $|G|$?\n",
    "\n",
    "* __c) short response:__ Keeping track of the total probability mass after each update is a good way to confirm that your algorithm is on track. How much should the total mass be after each iteration?\n",
    "\n",
    "* __d) code:__ Fill in the missing code below to create a Spark job that take the initialized graph as its input then iterates over the graph and for each pass:\n",
    "  * reads in each record and redistributes the node's current score to each of its neighbors\n",
    "  * uses an accumulator to add up the dangling node mass and redistribute it among all the nodes. (_Don't forget to reset this accumulator after each iteration!_)\n",
    "  * uses an accumulator to keep track of the total mass being redistributed.( _This is just for your own check, its not part of the PageRank calculation. Don't forget to reset this accumulator after each iteration._)\n",
    "  * aggregates these partial scores for each node\n",
    "  * applies telportation and damping factors as described in the formula above.\n",
    "  * combine all of the above to compute the PageRank as described by the formula above.\n",
    "  * \n",
    "  \n",
    "   __WARNING:__ Some pages contain multiple hyperlinks to the same destination, please take this into account when redistributing the mass.\n",
    "\n",
    " \n",
    "__`NOTE:`__ Please observe scalability best practices in the design of your code & comment your work clearly. You will be graded on both the clarity and the design."
   ]
  },
  {
   "cell_type": "markdown",
   "metadata": {},
   "source": [
    "### Q8 Student Answers:\n",
    "\n",
    "> __a)__ $\\alpha$ is the probability of random jump, we assume that there is no bias as to which page the web surfer would jump to, thus equal probability to each page, that is, $\\frac{1}{|G|}$ if random jump occurs. Therefore, each page would have a probability of $\\alpha \\cdot \\frac{1}{|G|}$ of being randomly jumped. \n",
    "\n",
    "> __b)__ $m$ is considered as 'dangling mass'. Because dangling node E (in above example) has no place to go under normal condition, but in the case of random jump and teleportation, we assume that it could jump to each node with equal probability, and thus we distribute its mass evenly to each node. \n",
    "\n",
    "> __c)__ Total mass should always be one after each iteration.  "
   ]
  },
  {
   "cell_type": "code",
   "execution_count": 33,
   "metadata": {},
   "outputs": [],
   "source": [
    "# part d - provided FloatAccumulator class (RUN THIS CELL AS IS)\n",
    "\n",
    "from pyspark.accumulators import AccumulatorParam\n",
    "\n",
    "class FloatAccumulatorParam(AccumulatorParam):\n",
    "    \"\"\"\n",
    "    Custom accumulator for use in page rank to keep track of various masses.\n",
    "    \n",
    "    IMPORTANT: accumulators should only be called inside actions to avoid duplication.\n",
    "    We stringly recommend you use the 'foreach' action in your implementation below.\n",
    "    \"\"\"\n",
    "    def zero(self, value):\n",
    "        return value\n",
    "    def addInPlace(self, val1, val2):\n",
    "        return val1 + val2"
   ]
  },
  {
   "cell_type": "code",
   "execution_count": 34,
   "metadata": {},
   "outputs": [],
   "source": [
    "### PART d - version 1 - use string as edges, and separate edges into another RDD\n",
    "\n",
    "# part d - job to run PageRank (RUN THIS CELL AS IS)\n",
    "def runPageRank(graphInitRDD, alpha = 0.15, maxIter = 10, verbose = True):\n",
    "    \"\"\"\n",
    "    Spark job to implement page rank\n",
    "    Args: \n",
    "        graphInitRDD  - pair RDD of (node_id , (score, edges))\n",
    "        alpha         - (float) teleportation factor\n",
    "        maxIter       - (int) stopping criteria (number of iterations)\n",
    "        verbose       - (bool) option to print logging info after each iteration\n",
    "    Returns:\n",
    "        steadyStateRDD - pair RDD of (node_id, pageRank)\n",
    "    \"\"\"\n",
    "    # teleportation:\n",
    "    a = sc.broadcast(alpha)\n",
    "    \n",
    "    # damping factor:\n",
    "    d = sc.broadcast(1-a.value)\n",
    "    \n",
    "    # initialize accumulators for dangling mass & total mass\n",
    "    mmAccum = sc.accumulator(0.0, FloatAccumulatorParam())\n",
    "    totAccum = sc.accumulator(0.0, FloatAccumulatorParam())\n",
    "    \n",
    "    ############## YOUR CODE HERE ###############\n",
    "    \n",
    "    # write your helper functions here, \n",
    "    # please document the purpose of each clearly \n",
    "    # for reference, the master solution has 5 helper functions.\n",
    "    def mapper(line):\n",
    "        \"\"\"\n",
    "        a mapper function to distribute node's score to linked edges:\n",
    "        - linked edges would get the credits;\n",
    "        - self will not get credits\n",
    "        - credit is calculated by original score / (total of linked edges), duplciate edges will be counted \n",
    "        \"\"\"\n",
    "        node, score, edges = [line[0]], line[1][0], line[1][1]\n",
    "        if edges == '':\n",
    "            edge_list = []\n",
    "            credit = 0\n",
    "        else:\n",
    "            edge_list = edges.split(',')\n",
    "            nlinks = len(edge_list)\n",
    "            credit = score / nlinks\n",
    "        \n",
    "        node_list = node + edge_list\n",
    "        for i in node_list:\n",
    "            if i == line[0]:\n",
    "                yield (i, 0)\n",
    "            else:\n",
    "                yield (i, credit)\n",
    "    \n",
    "    def getDM(line, mmAccumulator, totAccumulator):\n",
    "        \"\"\"A function to update missing mass accumulator, and return input line\"\"\"\n",
    "        if line[1][1] == '':\n",
    "            mmAccumulator.add(line[1][0]) \n",
    "        totAccumulator.add(line[1][0])\n",
    "    \n",
    "    def updateScore(line, mm, G, a, d):\n",
    "        \"\"\"\n",
    "        A function to update score:\n",
    "        - mm: missing mass (or dangling mass), calculated by the value of missing mass accumulator\n",
    "        - G: total number of distinct nodes\n",
    "        - a: alpha, (float) teleportation factor\n",
    "        - d: (1-alpha)\n",
    "        \"\"\"\n",
    "        node, score = line[0], line[1]\n",
    "        new_score = a/G + d*(mm/G + score)\n",
    "        return (node, new_score)\n",
    "    \n",
    "        \n",
    "    # write your main Spark Job here (including the for loop to iterate)\n",
    "    # for reference, the master solution is 21 lines including comments & whitespace\n",
    "    \n",
    "    ## 1. Get the count of total distinct nodes\n",
    "    G = graphInitRDD.count()\n",
    "    # broadcast total nodes:\n",
    "    G_bc = sc.broadcast(G)\n",
    "    \n",
    "    ## 2. Save edges of graph into a separate RDD\n",
    "    edgeRDD = graphInitRDD.map(lambda x: (x[0], x[1][1])).cache()\n",
    "    \n",
    "    for i in range(maxIter):\n",
    "        ## 3. Calculate the missing mass at the beginning of each iteration\n",
    "        graphInitRDD.foreach(lambda x: getDM(x, mmAccum, totAccum))\n",
    "        dangling_mass = sc.broadcast(mmAccum.value)\n",
    "        total_mass = totAccum.value\n",
    "        \n",
    "        ## 4. Apply mapper function, reduce by key to combine credits from multiple sources, update score based off formula \n",
    "        graphInitRDD = graphInitRDD.flatMap(mapper) \\\n",
    "                                   .reduceByKey(lambda x, y: (x+y)) \\\n",
    "                                   .map(lambda x: updateScore(x, dangling_mass.value, G_bc.value, a.value, d.value)) \\\n",
    "                                   .rightOuterJoin(edgeRDD) \\\n",
    "                                   .cache()\n",
    "        \n",
    "        ## 5. If verbose=True, print out the missing mass and total mass for each iteration\n",
    "        if verbose:\n",
    "            print(f\"Step {i}: missing mass = {dangling_mass.value}; total mass = {total_mass}\")\n",
    "        \n",
    "        ## 6. Reset accumulators for dangling mass & total mass at the end of each iteration\n",
    "        mmAccum = sc.accumulator(0.0, FloatAccumulatorParam())\n",
    "        totAccum = sc.accumulator(0.0, FloatAccumulatorParam())\n",
    "    \n",
    "    ## 7. Output the steady state RDD after looping ends\n",
    "    steadyStateRDD = graphInitRDD.map(lambda x: (x[0], x[1][0])).cache()\n",
    "    ############## (END) YOUR CODE ###############\n",
    "    \n",
    "    return steadyStateRDD"
   ]
  },
  {
   "cell_type": "code",
   "execution_count": null,
   "metadata": {},
   "outputs": [],
   "source": [
    "### PART d - version 2 - use string as edges DO NOT seperate edges into a different RDD. \n",
    "### This version works much faster for smaller dataset in container as compared to version 1. \n",
    "### However, version 1 works much faster for larger dataset in Google Cloud Platform. \n",
    "\n",
    "# part d - job to run PageRank (RUN THIS CELL AS IS)\n",
    "# def runPageRank(graphInitRDD, alpha = 0.15, maxIter = 10, verbose = True):\n",
    "#     \"\"\"\n",
    "#     Spark job to implement page rank\n",
    "#     Args: \n",
    "#         graphInitRDD  - pair RDD of (node_id , (score, edges))\n",
    "#         alpha         - (float) teleportation factor\n",
    "#         maxIter       - (int) stopping criteria (number of iterations)\n",
    "#         verbose       - (bool) option to print logging info after each iteration\n",
    "#     Returns:\n",
    "#         steadyStateRDD - pair RDD of (node_id, pageRank)\n",
    "#     \"\"\"\n",
    "#     # teleportation:\n",
    "#     a = sc.broadcast(alpha)\n",
    "    \n",
    "#     # damping factor:\n",
    "#     d = sc.broadcast(1-a.value)\n",
    "    \n",
    "#     # initialize accumulators for dangling mass & total mass\n",
    "#     mmAccum = sc.accumulator(0.0, FloatAccumulatorParam())\n",
    "#     totAccum = sc.accumulator(0.0, FloatAccumulatorParam())\n",
    "    \n",
    "#     ############## YOUR CODE HERE ###############\n",
    "    \n",
    "#     # write your helper functions here, \n",
    "#     # please document the purpose of each clearly \n",
    "#     # for reference, the master solution has 5 helper functions.\n",
    "#     def mapper(line):\n",
    "#         \"\"\"\n",
    "#         a mapper function to distribute node's score to linked edges:\n",
    "#         - linked edges would get the credits;\n",
    "#         - self will not get credits\n",
    "#         - credit is calculated by original score / (total of linked edges), duplciate edges will be counted \n",
    "#         \"\"\"\n",
    "#         node, score, edges = [line[0]], line[1][0], line[1][1]\n",
    "#         if edges == '':\n",
    "#             edge_list = []\n",
    "#             credit = 0\n",
    "#         else:\n",
    "#             edge_list = edges.split(',')\n",
    "#             nlinks = len(edge_list)\n",
    "#             credit = score / nlinks\n",
    "            \n",
    "#         node_list = node + edge_list\n",
    "#         for i in node_list:\n",
    "#             if i == line[0]:\n",
    "#                 yield (i, (0, edges))\n",
    "#             else:\n",
    "#                 yield (i, (credit, ''))\n",
    "    \n",
    "#     def getDM(line, mmAccumulator, totAccumulator):\n",
    "#         \"\"\"A function to update missing and total mass accumulator\"\"\"\n",
    "#         if line[1][1] == '':\n",
    "#             mmAccumulator.add(line[1][0]) \n",
    "#         totAccumulator.add(line[1][0])\n",
    "    \n",
    "#     def updateScore(line, mm, G, a, d):\n",
    "#         \"\"\"\n",
    "#         A function to update score:\n",
    "#         - mm: missing mass (or dangling mass), calculated by the value of missing mass accumulator\n",
    "#         - G: total number of distinct nodes\n",
    "#         - a: alpha, (float) teleportation factor\n",
    "#         - d: (1-alpha)\n",
    "#         \"\"\"\n",
    "#         node, score, edges = line[0], line[1][0], line[1][1]\n",
    "#         new_score = a/G + d*(mm/G + score)\n",
    "#         return (node, (new_score, edges))\n",
    "    \n",
    "        \n",
    "#     # write your main Spark Job here (including the for loop to iterate)\n",
    "#     # for reference, the master solution is 21 lines including comments & whitespace\n",
    "    \n",
    "#     ## 1. Get the count of total distinct nodes\n",
    "#     G = graphInitRDD.count()\n",
    "#     # broadcast total nodes:\n",
    "#     G_bc = sc.broadcast(G)\n",
    "    \n",
    "#     for i in range(maxIter):\n",
    "#         ## 2. Calculate the missing & total mass at the beginning of each iteration\n",
    "#         graphInitRDD.foreach(lambda x: getDM(x, mmAccum, totAccum))\n",
    "#         dangling_mass = sc.broadcast(mmAccum.value)\n",
    "#         total_mass = totAccum.value\n",
    "        \n",
    "#         ## 3. Apply mapper function, reduce by key to combine credits from multiple sources, update score based off formula \n",
    "#         graphInitRDD = graphInitRDD.flatMap(mapper) \\\n",
    "#                                    .reduceByKey(lambda x, y: (x[0]+y[0], x[1]+y[1])) \\\n",
    "#                                    .map(lambda x: updateScore(x, dangling_mass.value, G_bc.value, a.value, d.value)) \\\n",
    "#                                    .cache()\n",
    "        \n",
    "#         ## 4. If verbose=True, print out the missing mass and total mass for each iteration\n",
    "#         if verbose:\n",
    "#             print(f\"Step {i}: missing mass = {dangling_mass.value}; total mass = {total_mass}\")\n",
    "        \n",
    "#         ## 5. Reset accumulators for dangling mass & total mass at the end of each iteration\n",
    "#         mmAccum = sc.accumulator(0.0, FloatAccumulatorParam())\n",
    "#         totAccum = sc.accumulator(0.0, FloatAccumulatorParam())\n",
    "    \n",
    "#     ## 6. Output the steady state RDD after looping ends\n",
    "#     steadyStateRDD = graphInitRDD.map(lambda x: (x[0], x[1][0])).cache()\n",
    "#     ############## (END) YOUR CODE ###############\n",
    "    \n",
    "#     return steadyStateRDD"
   ]
  },
  {
   "cell_type": "code",
   "execution_count": 35,
   "metadata": {},
   "outputs": [
    {
     "name": "stdout",
     "output_type": "stream",
     "text": [
      "Step 0: missing mass = 0.09090909090909091; total mass = 1.0\n",
      "Step 1: missing mass = 0.059297520661157024; total mass = 0.9999999999999999\n",
      "Step 2: missing mass = 0.046703981968444774; total mass = 0.9999999999999999\n",
      "Step 3: missing mass = 0.09925338433167132; total mass = 0.9999999999999999\n",
      "Step 4: missing mass = 0.050342917879662344; total mass = 0.9999999999999999\n",
      "Step 5: missing mass = 0.051459165449002614; total mass = 0.9999999999999999\n",
      "Step 6: missing mass = 0.04500922379221685; total mass = 0.9999999999999998\n",
      "Step 7: missing mass = 0.04715082459390296; total mass = 0.9999999999999998\n",
      "Step 8: missing mass = 0.04374695430399097; total mass = 0.9999999999999998\n",
      "Step 9: missing mass = 0.04376323453143378; total mass = 0.9999999999999998\n",
      "Step 10: missing mass = 0.04298252973766269; total mass = 0.9999999999999998\n",
      "Step 11: missing mass = 0.043012894839386674; total mass = 0.9999999999999996\n",
      "Step 12: missing mass = 0.04272340069209819; total mass = 0.9999999999999999\n",
      "Step 13: missing mass = 0.04269860289957524; total mass = 0.9999999999999998\n",
      "Step 14: missing mass = 0.04261573341659148; total mass = 0.9999999999999997\n",
      "Step 15: missing mass = 0.04260513806736247; total mass = 0.9999999999999997\n",
      "Step 16: missing mass = 0.042577127384672134; total mass = 0.9999999999999997\n",
      "Step 17: missing mass = 0.04257143065691667; total mass = 0.9999999999999997\n",
      "Step 18: missing mass = 0.042562620053722085; total mass = 0.9999999999999997\n",
      "Step 19: missing mass = 0.04256034774246815; total mass = 0.9999999999999996\n",
      "...trained 20 iterations in 103.04784274101257 seconds.\n",
      "Top 20 ranked nodes:\n"
     ]
    },
    {
     "data": {
      "text/plain": [
       "[('2', 0.3620640495978871),\n",
       " ('3', 0.333992700474142),\n",
       " ('5', 0.08506399429624555),\n",
       " ('4', 0.06030963508473455),\n",
       " ('1', 0.04255740809817991),\n",
       " ('6', 0.03138662354831139),\n",
       " ('7', 0.01692511778009981),\n",
       " ('8', 0.01692511778009981),\n",
       " ('10', 0.01692511778009981),\n",
       " ('9', 0.01692511778009981),\n",
       " ('11', 0.01692511778009981)]"
      ]
     },
     "execution_count": 35,
     "metadata": {},
     "output_type": "execute_result"
    }
   ],
   "source": [
    "# part d - run PageRank on the test graph (RUN THIS CELL AS IS)\n",
    "# NOTE: while developing your code you may want turn on the verbose option\n",
    "### Use version 1 to run on test graph. We can see it's slow. If using version 2 for test graph, it is much faster. \n",
    "nIter = 20\n",
    "testGraphRDD = initGraph(testRDD)\n",
    "start = time.time()\n",
    "test_results = runPageRank(testGraphRDD, alpha = 0.15, maxIter = nIter, verbose = True)\n",
    "print(f'...trained {nIter} iterations in {time.time() - start} seconds.')\n",
    "print(f'Top 20 ranked nodes:')\n",
    "test_results.takeOrdered(20, key=lambda x: -x[1])"
   ]
  },
  {
   "cell_type": "markdown",
   "metadata": {},
   "source": [
    "__`expected results for the test graph:`__\n",
    "```\n",
    "[(2, 0.3620640495978871),\n",
    " (3, 0.333992700474142),\n",
    " (5, 0.08506399429624555),\n",
    " (4, 0.06030963508473455),\n",
    " (1, 0.04255740809817991),\n",
    " (6, 0.03138662354831139),\n",
    " (8, 0.01692511778009981),\n",
    " (10, 0.01692511778009981),\n",
    " (7, 0.01692511778009981),\n",
    " (9, 0.01692511778009981),\n",
    " (11, 0.01692511778009981)]\n",
    "```"
   ]
  },
  {
   "cell_type": "markdown",
   "metadata": {},
   "source": [
    "### Run PageRank on the full graph on GCP\n",
    "\n",
    "**1. Results as shown in the screenshot below.** \n",
    "\n",
    "   <img src=\"GCP_fullresult_screenshot.png\" width=\"600\">\n",
    "    \n",
    "  \n",
    "**2. Formatted full results are shown below.**"
   ]
  },
  {
   "cell_type": "code",
   "execution_count": 36,
   "metadata": {},
   "outputs": [],
   "source": [
    "# 1. Copy the top 20 results from GCP Job log \n",
    "top_20 = [('13455888', 0.0015446797478818304), ('4695850', 0.0006710074985877836), \n",
    "          ('5051368', 0.0005983727917034681), ('1184351', 0.0005981982349229883), \n",
    "          ('2437837', 0.00046247355383209203), ('6076759', 0.00045507805784744947), \n",
    "          ('4196067', 0.00044231988558801854), ('13425865', 0.00044153410311422543), \n",
    "          ('6172466', 0.00042239167396062634), ('1384888', 0.0004012831313425879), \n",
    "          ('6113490', 0.0003957828681949651), ('14112583', 0.0003943680774185451), \n",
    "          ('7902219', 0.00037009170499711295), ('10390714', 0.0003650192247033904), \n",
    "          ('12836211', 0.00036198345487649565), ('6237129', 0.00035194723956766434), \n",
    "          ('6416278', 0.00034865439275406755), ('13432150', 0.0003393538540305369), \n",
    "          ('1516699', 0.00033296444523369544), ('7990491', 0.0003075544312595791)]\n",
    "\n",
    "# 2. Convert the results into RDD\n",
    "top_20_RDD = sc.parallelize(top_20)\n",
    "top_20_RDD = top_20_RDD.map(lambda x: (int(x[0]), x[1]))\n",
    "# top_20_RDD.take(1)\n",
    "\n",
    "# 3. Change indexRDD: title\\t indx\\t inDeg\\t outDeg to only include index and page title\n",
    "namesKV_RDD = indexRDD.map(lambda x: (int(x.split('\\t')[1]), x.split('\\t')[0]))\n",
    "# namesKV_RDD.take(1)"
   ]
  },
  {
   "cell_type": "code",
   "execution_count": 37,
   "metadata": {},
   "outputs": [
    {
     "name": "stdout",
     "output_type": "stream",
     "text": [
      "PageRank  \t| Page id   \t| Title\n",
      "====================================================================================================\n",
      "0.001545\t|   13455888\t| United States\n",
      "0.000671\t|    4695850\t| France\n",
      "0.000598\t|    5051368\t| Germany\n",
      "0.000598\t|    1184351\t| Animal\n",
      "0.000462\t|    2437837\t| Canada\n",
      "0.000455\t|    6076759\t| India\n",
      "0.000442\t|    4196067\t| England\n",
      "0.000442\t|   13425865\t| United Kingdom\n",
      "0.000422\t|    6172466\t| Iran\n",
      "0.000401\t|    1384888\t| Arthropod\n",
      "0.000396\t|    6113490\t| Insect\n",
      "0.000394\t|   14112583\t| World War II\n",
      "0.000370\t|    7902219\t| List of sovereign states\n",
      "0.000365\t|   10390714\t| Poland\n",
      "0.000362\t|   12836211\t| The New York Times\n",
      "0.000352\t|    6237129\t| Italy\n",
      "0.000349\t|    6416278\t| Japan\n",
      "0.000339\t|   13432150\t| United States Census Bureau\n",
      "0.000333\t|    1516699\t| Australia\n",
      "0.000308\t|    7990491\t| London\n"
     ]
    }
   ],
   "source": [
    "# 4. Join namesKV_RDD with top_20_RDD to display page rank, page id, and page title\n",
    "joinedWithNames = namesKV_RDD.join(top_20_RDD) \\\n",
    "                             .takeOrdered(20, key=lambda x: -x[1][1])\n",
    "\n",
    "print(\"{:10s}\\t| {:10s}\\t| {}\".format(\"PageRank\",\"Page id\",\"Title\"))\n",
    "print(\"=\"*100)\n",
    "for r in joinedWithNames:\n",
    "    print (\"{:6f}\\t| {:10d}\\t| {}\".format(r[1][1],r[0],r[1][0]))"
   ]
  },
  {
   "cell_type": "markdown",
   "metadata": {},
   "source": [
    "# Extra Credit\n",
    "(The combined extra credit points amount to approximately 5 percentage points on your final grade.)\n",
    "\n",
    "## EC 1 - Find David Bowie\n",
    "\n",
    "<img src=\"labyrinth.jpg\">\n",
    "\n",
    "## EC 2 - 5pts\n",
    "The indexRDD we created earlier from the indices.txt file contains the titles of the pages and thier IDs.\n",
    "\n",
    "* __a) code:__ Join this dataset with your top 20 results.\n",
    "* __b) code:__ Print the results\n",
    "\n",
    "Please see pretty print results above. "
   ]
  },
  {
   "cell_type": "markdown",
   "metadata": {},
   "source": [
    "## Join with indexRDD and print pretty"
   ]
  },
  {
   "cell_type": "code",
   "execution_count": null,
   "metadata": {},
   "outputs": [],
   "source": [
    "# part a\n",
    "joinedWithNames = None\n",
    "############## YOUR CODE HERE ###############\n",
    "joinedWithNames = namesKV_RDD.join(top_20_RDD) \\\n",
    "                             .takeOrdered(20, key=lambda x: -x[1][1]) \\\n",
    "############## END YOUR CODE ###############"
   ]
  },
  {
   "cell_type": "code",
   "execution_count": null,
   "metadata": {},
   "outputs": [],
   "source": [
    "# part b\n",
    "# Feel free to modify this cell to suit your implementation, but please keep the formatting and sort order.\n",
    "print(\"{:10s}\\t| {:10s}\\t| {}\".format(\"PageRank\",\"Page id\",\"Title\"))\n",
    "print(\"=\"*100)\n",
    "for r in joinedWithNames:\n",
    "    print (\"{:6f}\\t| {:10d}\\t| {}\".format(r[1][1],r[0],r[1][0]))"
   ]
  },
  {
   "cell_type": "markdown",
   "metadata": {},
   "source": [
    "## GraphFrames --- IGNORED --- Replaced by A* \n",
    "## EC 2 - 30pts\n",
    "GraphFrames is a graph library which is built on top of the Spark DataFrames API.\n",
    "\n",
    "* __a) code:__ Using the same dataset, run the graphframes implementation of pagerank.\n",
    "* __b) code:__ Join the top 20 results with indices.txt and display in the same format as above.\n",
    "* __c) short answer:__ Compare your results with the results from graphframes.\n",
    "\n",
    "__NOTE:__ Feel free to create as many code cells as you need. Code should be clear and concise - do not include your scratch work. Comment your code if it's not self annotating."
   ]
  },
  {
   "cell_type": "code",
   "execution_count": null,
   "metadata": {},
   "outputs": [],
   "source": [
    "from graphframes import *"
   ]
  },
  {
   "cell_type": "code",
   "execution_count": null,
   "metadata": {},
   "outputs": [],
   "source": [
    "from pyspark.sql import functions as F"
   ]
  },
  {
   "cell_type": "code",
   "execution_count": null,
   "metadata": {},
   "outputs": [],
   "source": [
    "# load the data into Spark RDDs for convenience of use later (RUN THIS CELL AS IS)\n",
    "testRDD = sc.textFile('gs://w261-bucket/wiki/test_graph.txt')\n",
    "indexRDD = sc.textFile('gs://w261-bucket/wiki/indices.txt')\n",
    "wikiRDD = sc.textFile('gs://w261-bucket/wiki/wiki_graph.txt')"
   ]
  },
  {
   "cell_type": "code",
   "execution_count": null,
   "metadata": {},
   "outputs": [],
   "source": [
    "DF = wikiRDD.map(lambda x: (x.split('\\t')[0], ast.literal_eval(x.split('\\t')[1]))).toDF()"
   ]
  },
  {
   "cell_type": "code",
   "execution_count": null,
   "metadata": {},
   "outputs": [],
   "source": [
    "%%time\n",
    "DF.take(1)"
   ]
  },
  {
   "cell_type": "code",
   "execution_count": null,
   "metadata": {},
   "outputs": [],
   "source": [
    "%%time\n",
    "v = DF.select('_1').withColumnRenamed('_1','id').distinct()"
   ]
  },
  {
   "cell_type": "code",
   "execution_count": null,
   "metadata": {},
   "outputs": [],
   "source": [
    "%%time\n",
    "v.cache()"
   ]
  },
  {
   "cell_type": "code",
   "execution_count": null,
   "metadata": {},
   "outputs": [],
   "source": [
    "%%time\n",
    "v.show(1)"
   ]
  },
  {
   "cell_type": "code",
   "execution_count": null,
   "metadata": {},
   "outputs": [],
   "source": [
    "import ast\n",
    "def getEdges(row):\n",
    "    node_id, nodes = row\n",
    "    for node in nodes: \n",
    "        yield int(node_id), int(node)"
   ]
  },
  {
   "cell_type": "code",
   "execution_count": null,
   "metadata": {},
   "outputs": [],
   "source": [
    "%%time\n",
    "e = spark.createDataFrame(DF.rdd.flatMap(getEdges), [\"src\", \"dst\"])"
   ]
  },
  {
   "cell_type": "code",
   "execution_count": null,
   "metadata": {},
   "outputs": [],
   "source": [
    "%%time\n",
    "e.cache()"
   ]
  },
  {
   "cell_type": "code",
   "execution_count": null,
   "metadata": {},
   "outputs": [],
   "source": [
    "%%time\n",
    "e.show(1)"
   ]
  },
  {
   "cell_type": "code",
   "execution_count": null,
   "metadata": {},
   "outputs": [],
   "source": [
    "%%time\n",
    "# Create a GraphFrame\n",
    "from graphframes import *\n",
    "g = GraphFrame(v, e)\n",
    "\n",
    "# Query: Get in-degree of each vertex.\n",
    "# g.inDegrees.show()"
   ]
  },
  {
   "cell_type": "code",
   "execution_count": null,
   "metadata": {},
   "outputs": [],
   "source": [
    "%%time\n",
    "# Run PageRank algorithm, and show results.\n",
    "results = g.pageRank(resetProbability=0.15, maxIter=10)"
   ]
  },
  {
   "cell_type": "code",
   "execution_count": null,
   "metadata": {},
   "outputs": [],
   "source": [
    "%%time\n",
    "top_20 = results.vertices.orderBy(F.desc(\"pagerank\")).limit(20)"
   ]
  },
  {
   "cell_type": "code",
   "execution_count": null,
   "metadata": {},
   "outputs": [],
   "source": [
    "%%time\n",
    "top_20.show()"
   ]
  },
  {
   "cell_type": "code",
   "execution_count": null,
   "metadata": {},
   "outputs": [],
   "source": [
    "type(top_20)"
   ]
  },
  {
   "cell_type": "code",
   "execution_count": null,
   "metadata": {},
   "outputs": [],
   "source": [
    "top_20.take(1)"
   ]
  },
  {
   "cell_type": "code",
   "execution_count": null,
   "metadata": {},
   "outputs": [],
   "source": [
    "%%time\n",
    "namesKV_RDD = indexRDD.map(lambda x: (int(x.split('\\t')[1]), x.split('\\t')[0]))"
   ]
  },
  {
   "cell_type": "code",
   "execution_count": null,
   "metadata": {},
   "outputs": [],
   "source": [
    "namesKV_DF = namesKV_RDD.toDF()"
   ]
  },
  {
   "cell_type": "code",
   "execution_count": null,
   "metadata": {},
   "outputs": [],
   "source": [
    "namesKV_DF = namesKV_DF.withColumnRenamed('_1','id')\n",
    "namesKV_DF = namesKV_DF.withColumnRenamed('_2','title')\n",
    "namesKV_DF.take(1)"
   ]
  },
  {
   "cell_type": "code",
   "execution_count": null,
   "metadata": {},
   "outputs": [],
   "source": [
    "%%time\n",
    "resultsWithNames = namesKV_DF.join(top_20, namesKV_DF.id==top_20.id).orderBy(F.desc(\"pagerank\")).collect()"
   ]
  },
  {
   "cell_type": "code",
   "execution_count": null,
   "metadata": {},
   "outputs": [],
   "source": [
    "# TODO: use f' for string formatting\n",
    "print(\"{:10s}\\t| {:10s}\\t| {}\".format(\"PageRank\",\"Page id\",\"Title\"))\n",
    "print(\"=\"*100)\n",
    "for r in resultsWithNames:\n",
    "    print (\"{:6f}\\t| {:10s}\\t| {}\".format(r[3],r[2],r[1]))"
   ]
  },
  {
   "cell_type": "markdown",
   "metadata": {},
   "source": [
    "Our RDD implementaion takes about 35 minutes, whereas the GraphFrame one takes around 8 minutes. GraphFrames doesn't normalize the ranks. "
   ]
  },
  {
   "cell_type": "markdown",
   "metadata": {},
   "source": [
    "### Congratulations, you have completed HW5! Please refer to the readme for submission instructions.\n",
    "\n",
    "If you would like to provide feedback regarding this homework, please use the survey at: https://docs.google.com/forms/d/e/1FAIpQLScgIz4laP2JHChStLZx8MO0jGvrGyrOyQBnj7M4_4vcVXkB7g/viewform?usp=sf_link"
   ]
  },
  {
   "cell_type": "code",
   "execution_count": null,
   "metadata": {},
   "outputs": [],
   "source": []
  }
 ],
 "metadata": {
  "kernelspec": {
   "display_name": "Python 3",
   "language": "python",
   "name": "python3"
  },
  "language_info": {
   "codemirror_mode": {
    "name": "ipython",
    "version": 3
   },
   "file_extension": ".py",
   "mimetype": "text/x-python",
   "name": "python",
   "nbconvert_exporter": "python",
   "pygments_lexer": "ipython3",
   "version": "3.6.6"
  },
  "toc": {
   "colors": {
    "hover_highlight": "#DAA520",
    "running_highlight": "#FF0000",
    "selected_highlight": "#FFD700"
   },
   "moveMenuLeft": true,
   "nav_menu": {
    "height": "441px",
    "width": "252px"
   },
   "navigate_menu": true,
   "number_sections": true,
   "sideBar": true,
   "threshold": 4,
   "toc_cell": true,
   "toc_position": {
    "height": "827px",
    "left": "0px",
    "right": "1125px",
    "top": "107px",
    "width": "428px"
   },
   "toc_section_display": "block",
   "toc_window_display": true
  }
 },
 "nbformat": 4,
 "nbformat_minor": 2
}
