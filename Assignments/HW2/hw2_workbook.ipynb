{
 "cells": [
  {
   "cell_type": "markdown",
   "metadata": {},
   "source": [
    "# HW 2 - Naive Bayes in Hadoop MR\n",
    "__`MIDS w261: Machine Learning at Scale | UC Berkeley School of Information | Fall 2018`__\n",
    "\n",
    "In the live sessions for week 2 and week 3 you got some practice designing and debugging Hadoop Streaming jobs. In this homework we'll use Hadoop MapReduce to implement your first parallelized machine learning algorithm: Naive Bayes. As you develop your implementation you'll test it on a small dataset that matches the 'Chinese Example' in the _Manning, Raghavan and Shutze_ reading for Week 2. For the main task in this assignment you'll be working with a small subset of the Enron Spam/Ham Corpus. By the end of this assignment you should be able to:\n",
    "* __... describe__ the Naive Bayes algorithm including both training and inference.\n",
    "* __... perform__ EDA on a corpus using Hadoop MR.\n",
    "* __... implement__ parallelized Naive Bayes.\n",
    "* __... constrast__ partial, unordered and total order sort and their implementations in Hadoop Streaming.\n",
    "* __... explain__ how smoothing affects the bias and variance of a Multinomial Naive Bayes model.\n",
    "\n",
    "As always, your work will be graded both on the correctness of your output and on the clarity and design of your code. __Please refer to the `README` for homework submission instructions.__ "
   ]
  },
  {
   "cell_type": "markdown",
   "metadata": {},
   "source": [
    "## Notebook Setup\n",
    "Before starting, run the following cells to confirm your setup."
   ]
  },
  {
   "cell_type": "code",
   "execution_count": 1,
   "metadata": {},
   "outputs": [],
   "source": [
    "# imports\n",
    "import numpy as np\n",
    "import matplotlib.pyplot as plt\n",
    "%matplotlib inline\n",
    "%reload_ext autoreload\n",
    "%autoreload 2"
   ]
  },
  {
   "cell_type": "code",
   "execution_count": 2,
   "metadata": {},
   "outputs": [],
   "source": [
    "# global vars (paths) - ADJUST AS NEEDED\n",
    "JAR_FILE = \"/usr/lib/hadoop-mapreduce/hadoop-streaming.jar\"\n",
    "HDFS_DIR = \"/user/root/HW2\"\n",
    "HOME_DIR = \"/media/notebooks/Assignments/HW2\" # FILL IN HERE eg. /media/notebooks/Assignments/HW2"
   ]
  },
  {
   "cell_type": "code",
   "execution_count": 3,
   "metadata": {},
   "outputs": [],
   "source": [
    "# save path for use in Hadoop jobs (-cmdenv PATH={PATH})\n",
    "from os import environ\n",
    "PATH  = environ['PATH']"
   ]
  },
  {
   "cell_type": "code",
   "execution_count": 4,
   "metadata": {},
   "outputs": [],
   "source": [
    "# data path\n",
    "ENRON = \"data/enronemail_1h.txt\""
   ]
  },
  {
   "cell_type": "markdown",
   "metadata": {},
   "source": [
    "# Question 1: Hadoop MapReduce Key Takeaways.  \n",
    "\n",
    "This assignment will be the only one in which you use Hadoop Streaming to implement a distributed algorithm. The key reason we continue to teach Hadoop streaming is because of the way it forces the programmer to think carefully about what is happening under the hood when you parallelize a calculation. This question will briefly highlight some of the most important concepts that you need to understand about Hadoop Streaming and MapReduce before we move on to Spark next week.   \n",
    "\n",
    "### Q1 Tasks:\n",
    "\n",
    "* __a) short response:__ What \"programming paradigm\" is Hadoop MapReduce based on? What are the main ideas of this programming paradigm and how does MapReduce exemplify these ideas?\n",
    "\n",
    "* __b) short response:__ What is the Hadoop Shuffle? When does it happen? Why is it potentially costly? Describe one specific thing we can we do to mitigate the cost associated with this stage of our Hadoop Streaming jobs.\n",
    "\n",
    "* __c) short response:__ In Hadoop Streaming why do the input and output record format of a combiner script have to be the same? [__`HINT`__ _what level of combining does the framework guarantee? what is the relationship between the record format your mapper emits and the format your reducer expects to receive?_]\n",
    "\n",
    "* __d) short response:__ To what extent can you control the level of parallelization of your Hadoop Streaming jobs? Please be specific.\n",
    "\n",
    "* __e) short response:__ What change in the kind of computing resources available prompted the creation of parallel computation frameworks like Hadoop? "
   ]
  },
  {
   "cell_type": "markdown",
   "metadata": {},
   "source": [
    "### Q1 Student Answers:\n",
    "\n",
    "> __a)__ Hadoop MapReduce is based on the functional programing paradigm. It is a declarative programming paradigm, which means programming is done with expressions. In functional code, the output value of a function depends only on the arguments that are input to the function. Key ideas in this paradigm include avoiding state changes/mutable data, and using higher-order functions (functions which take other functions as inputs). MapReduce exemplifies these ideas through two phases: 'map' which applies a transformation(or filter) to all elements of a collection, and 'reduce' which aggregates/folds the elements of a collection. Map and reduce are examples of higher-order functions.\n",
    "\n",
    "> __b)__ Hadoop Shuffle is a process of transferring data from the mappers to reducers: the partitioner determines which reducer will be responsible for processing a particular key, and the execution framework uses this information to copy the data to the right location. It happens after 'map' phase and before 'reduce' phase. When data volume is large, it could lead to an excessive amount of across-the-network copy operations, as well as the time complexity of doing a merge sort at scale. We could apply local aggregation of intermediate results in memory in mappers or by using a combiner to reduce the amount of data to be transferred from mappers to reducers.  \n",
    "\n",
    "> __c)__ Since Hadoop does not guarantee that a combiner will be executed, our record for- mat has to work whether or not it goes through the combiner. In other words, the signature of the input and output of the combiner must match the signature of the input to the reducer. \n",
    "\n",
    "> __d)__ We can control the level of parrallelization by specifying the number of reducers (through `-numReduceTasks` variable), but we cannot specify the number of mappers. The number of mappers is usually driven by the total size of the inputs, that is, the total number of blocks of the input files. The right level of parallelism for maps seems to be around 10-100 maps per-node, although it has been set up to 300 maps for very cpu-light map tasks. In terms of reducer, the ideal reducers should be the optimal value that gets them closest to:\n",
    "   - Should process  multiples of the block size \n",
    "   - A task time between 5 and 15 minutes  \n",
    "   - Creates the fewest files possible   \n",
    "\n",
    "> __e)__ Both of the following two changes prompted the creation of parallel computation frameworks:\n",
    "   - Opportunities for computing hardware improvement became diminishing. In addition, its returns no longer justified continued investment. \n",
    "   - Cheaper and cheaper hardware: rather than investing to build a super power computer, it is possible to and more sensible to build a network of less powerful computers. \n",
    "   - Substantial growth of large-data problems.\n",
    "\n",
    "> **References**:\n",
    "1. Jimmy Lin and Chris Dyer, Data-Intensive Text Processing with MapReduce. \n",
    "2. https://hadoop.apache.org/docs/r1.2.1/mapred_tutorial.html#Partitioner\n",
    "3. https://techvidvan.com/tutorials/hadoop-mapreduce-shuffling-and-sorting/"
   ]
  },
  {
   "cell_type": "markdown",
   "metadata": {},
   "source": [
    "# Question 2: MapReduce Design Patterns.  \n",
    "\n",
    "In the last two live sessions and in your readings from Lin & Dyer you encountered a number of techniques for manipulating the logistics of a MapReduce implementation to ensure that the right information is available at the right time and location. In this question we'll review a few of the key techniques you learned.   \n",
    "\n",
    "### Q2 Tasks:\n",
    "\n",
    "* __a) short response:__ What are counters (in the context of Hadoop Streaming)? How are they useful? What kinds of counters does Hadoop provide for you? How do you create your own custom counter?\n",
    "\n",
    "* __b) short response:__ What are composite keys? How are they useful? How are they related to the idea of custom partitioning?\n",
    "\n",
    "* __c) short response:__ What is the order inversion pattern? What problem does it help solve? How do we implement it? "
   ]
  },
  {
   "cell_type": "markdown",
   "metadata": {},
   "source": [
    "### Q2 Student Answers:\n",
    "\n",
    "> __a)__ Hadoop provides a lightweight API for constructs called “counters”, which can be used for counting events that occur during execution, e.g., number of corrupt records, number of times a certain condition is met, or anything that the programmer desires. It is a shared variable that is incremented and decremented atomically by the Hadoop framework. However, they are write-only variable and can only be read by log after the job is completed. They are useful in that \n",
    "   - (1) it provides a way to track the occurrences of global events within the map and reduce phases of jobs; \n",
    "   - (2) it is one of the easiest way to investigate internal behaviors of MapReduce programs.\n",
    "\n",
    "> Hadoop built-in counter consists of three types:\n",
    "   - MapReduce Task Counters: This counter collects tasks information over the course of their execution. Then aggregate results over all the tasks. For example, MAP_INPUT_RECORDS counter counts the input records read by each map task and aggregates over all map tasks in a job. \n",
    "   - File System Counter: File system counters track 2 main details, the number of bytes read by the file system and a number of bytes written.\n",
    "   - Job Counter: Jobtracker maintain Job Counters, such as, TOTAL_LAUNCHED_MAPS. \n",
    "\n",
    "> We can create custom counter by specifying the following formatted line to the standard error stream: `reporter: counter: group, counter, amount`.  \n",
    "\n",
    "\n",
    "> __b)__ Composite key contains more than one fields to form the key for Hadoop to shuffle. It is useful when we want to sort not just by the key but also by value, for instance, we might want to sort the words by their count to find the most frequent words but then break ties by the word in alphabetical order. By controlling how keys are sorted and how the key space is partitioned, we can present data to the reducer in the order necessary to perform the proper computations. \n",
    "\n",
    "\n",
    "> __c)__ Sometimes we need to calculate relative frequencies of co-occurring terms, which is calculated by $f(B|A)= \\frac{count(A \\cap B)}{count(A)}$. The “order inversion” design pattern is to control the order in which the total (count(A,$*$)) to come out first in the reducers stream by using a special key; so if the reducer receives this total first, then it can read each co-occurring pair and do the relative frequency calculation one by one. This design pattern resolve potential out-of-memory issue at the reducers or a second shuffle. To implement this, we need to get the word count first, and emit the key value of (A, $*$), because it will be alphabetically sorted before (A,aardvark) and other co-ocurring terms.\n",
    "\n",
    "> **References**\n",
    "1. Jimmy Lin and Chris Dyer, Data-Intensive Text Processing with MapReduce.\n",
    "2. https://data-flair.training/forums/topic/what-is-counter-in-hadoop-mapreduce/"
   ]
  },
  {
   "cell_type": "markdown",
   "metadata": {},
   "source": [
    "# Question 3: Understanding Total Order Sort\n",
    "\n",
    "The key challenge in distributed computing is to break a problem into a set of sub-problems that can be performed without communicating with each other. Ideally, we should be able to define an arbirtary number of splits and still get the right result, but that is not always possible. Parallelization becomes particularly challenging when we need to make comparisons between records, for example when sorting. Total Order Sort allows us to order large datasets in a way that enables efficient retrieval of results. Before beginning this assignment, make sure you have read and understand the [Total Order Sort Notebook](https://github.com/UCB-w261/main/tree/master/HelpfulResources/TotalSortGuide/_total-sort-guide-spark2.01-JAN27-2017.ipynb). You can skip the first two MRJob sections, but the rest of section III and all of section IV are **very** important (and apply to Hadoop Streaming) so make sure to read them closely. Feel free to read the Spark sections as well but you won't be responsible for that material until later in the course. To verify your understanding, answer the following questions.\n",
    "\n",
    "### Q3 Tasks:\n",
    "\n",
    "* __a) short response:__ What is the difference between a partial sort, an unordered total sort, and a total order sort? From the programmer's perspective, what does total order sort allow us to do that we can't with unordered total? Why is this important with large datasets?\n",
    "\n",
    "* __b) short response:__ Which phase of a MapReduce job is leveraged to implement Total Order Sort? Which default behaviors must be changed. Why must they be changed?\n",
    "\n",
    "* __c) short response:__ Describe in words how to configure a Hadoop Streaming job for the custom sorting and partitioning that is required for Total Order Sort.  \n",
    "\n",
    "* __d) short response:__ Explain why we need to use an inverse hash code function.\n",
    "\n",
    "* __e) short response:__ Where does this function need to be located so that a Total Order Sort can be performed?"
   ]
  },
  {
   "cell_type": "markdown",
   "metadata": {},
   "source": [
    "### Q3 Student Answers:\n",
    "\n",
    "> __a)__ **Partial-Sort** - The reducer output will be lot of (partition) files, each of which contains key-value records that are sorted within each partition file based on the key. Each partition file is sorted independently of each other. Concatentating such partitions would result in an unsorted file. **Total-Sort-(Unorderd-Partitions)** - Total sort refers to an ordering of all key-value pairs based upon a specified key. This total ordering will run across all output partition files unlike the partial sort described above. One caveat here is that there is no guarantee about which chunk of output is where, therefore partition files will need to be re-stacked to generate a total ordering.  **Total-Sort-(Ordered-Partitions)** - Total sort where the partition file names are also assigned in order which guarantees that the top N results will end up in the first partition. Concatentaing these files would result in a single completely sorted file witout any further intervention. The total order sort is important for large datasets because it would be time consuming to check all of the paritions to find the subset of the results you need. \n",
    "\n",
    "> __b)__ The shuffle and sort phase is leveraged to implement total order sort, which is after 'map' phase and before 'reduce' phase. We need to override Hadoop default behavior, such as Hadoop performs a partial sort on mapper output keys by alphanumerically increasing order, i.e. within each partition keys are sorted. Because in total order sort, we not only want the records to be sorted within each partition, we also want records to be sorted among all partitions such that the top records end up in the first partition. Therefore, we need to include a partition function to instruct Hadoop how to partition records. \n",
    "\n",
    "> __c)__ Overall we need to make the following modifications:\n",
    "- Modification 1: Include a partition file or partition function inside mappers. In a multi-reducer setup, an additional \"partition key\" is needed to instruct Hadoop how to partition records, and pass through the original (key, value) pair. \n",
    "- Modification 2: Drop internal partition key inside reducers. Because we have two keys - one for partitioning and the other for sorting, the reducer needs to drop the partition key which is used internally to aid total sort, and recover the original (key, value) pairs.\n",
    "- Modification 3: Post-processing step to order partitions. Because Hadoop makes no attempt to sort partition keys – the mapping between partition key and partition index is not order-preserving. Therefore, a post-processing step is required to finish total sort. We will need to take one record from every (non-empty) partition output, sort them, and construct the appropriate ordering among partitions.\n",
    "\n",
    "> Specifically through the following command lines:\n",
    "```stream.num.map.output.key.fields\n",
    "stream.map.output.field.separator\n",
    "mapreduce.partition.keypartitioner.options\n",
    "KeyFieldBasedComparator\n",
    "keycomparator.options\n",
    "partitioner org.apache.hadoop.mapred.lib.KeyFieldBasedPartitioner```\n",
    "\n",
    "\n",
    "> __d)__ By default, Hadoop uses a library class `HashPartitioner` to compute the partition index for keys produced by mappers. In order to preserve partition key ordering, we will construct an \"inverse hashCode function\", which takes as input the desired partition index and total number of partitions, and returns a partition key. This key, when supplied to the Hadoop framework (KeyBasedPartitioner), will hash to the correct partition index.  \n",
    "\n",
    "> __e)__ The function needs to be located in the mappers and accesible before partitioning takes place.   "
   ]
  },
  {
   "cell_type": "markdown",
   "metadata": {},
   "source": [
    "# About the Data\n",
    "For the main task in this portion of the homework you will train a classifier to determine whether an email represents spam or not. You will train your Naive Bayes model on a 100 record subset of the Enron Spam/Ham corpus available in the HW2 data directory (__`HW2/data/enronemail_1h.txt`__).\n",
    "\n",
    "__Source:__   \n",
    "The original data included about 93,000 emails which were made public after the company's collapse. There have been a number raw and preprocessed versions of this corpus (including those available [here](http://www.aueb.gr/users/ion/data/enron-spam/index.html) and [here](http://www.aueb.gr/users/ion/publications.html)). The subset we will use is limited to emails from 6 Enron employees and a number of spam sources. It is part of [this data set](http://www.aueb.gr/users/ion/data/enron-spam/) which was created by researchers working on personlized Bayesian spam filters. Their original publication is [available here](http://www.aueb.gr/users/ion/docs/ceas2006_paper.pdf). __`IMPORTANT!`__ _For this homework please limit your analysis to the 100 email subset which we provide. No need to download or run your analysis on any of the original datasets, those links are merely provided as context._\n",
    "\n",
    "__Preprocessing:__  \n",
    "For their work, Metsis et al. (the authors) appeared to have pre-processed the data, not only collapsing all text to lower-case, but additionally separating \"words\" by spaces, where \"words\" unfortunately include punctuation. As a concrete example, the sentence:  \n",
    ">  `Hey Jon, I hope you don't get lost out there this weekend!`  \n",
    "\n",
    "... would have been reduced by Metsis et al. to the form:  \n",
    "> `hey jon , i hope you don ' t get lost out there this weekend !` \n",
    "\n",
    "... so we have reverted the data back toward its original state, removing spaces so that our sample sentence would now look like:\n",
    "> `hey jon, i hope you don't get lost out there this weekend!`  \n",
    "\n",
    "Thus we have at least preserved contractions and other higher-order lexical forms. However, one must be aware that this reversion is not complete, and that some object (specifically web sites) will be ill-formatted, and that all text is still lower-cased.\n",
    "\n",
    "\n",
    "__Format:__   \n",
    "All messages are collated to a tab-delimited format:  \n",
    "\n",
    ">    `ID \\t SPAM \\t SUBJECT \\t CONTENT \\n`  \n",
    "\n",
    "where:  \n",
    ">    `ID = string; unique message identifier`  \n",
    "    `SPAM = binary; with 1 indicating a spam message`  \n",
    "    `SUBJECT = string; title of the message`  \n",
    "    `CONTENT = string; content of the message`   \n",
    "    \n",
    "Note that either of `SUBJECT` or `CONTENT` may be \"NA\", and that all tab (\\t) and newline (\\n) characters have been removed from both of the `SUBJECT` and `CONTENT` columns.  "
   ]
  },
  {
   "cell_type": "code",
   "execution_count": 5,
   "metadata": {},
   "outputs": [
    {
     "name": "stdout",
     "output_type": "stream",
     "text": [
      "/media/notebooks/Assignments/HW2\n"
     ]
    }
   ],
   "source": [
    "!pwd"
   ]
  },
  {
   "cell_type": "code",
   "execution_count": 6,
   "metadata": {},
   "outputs": [
    {
     "name": "stdout",
     "output_type": "stream",
     "text": [
      "0001.1999-12-10.farmer\t0\t christmas tree farm pictures\tNA\n",
      "0001.1999-12-10.kaminski\t0\t re: rankings\t thank you.\n",
      "0001.2000-01-17.beck\t0\t leadership development pilot\t\" sally:  what timing, ask and you shall receiv\n",
      "0001.2000-06-06.lokay\t0\t\" key dates and impact of upcoming sap implementation over the next few week\n",
      "0001.2001-02-07.kitchen\t0\t key hr issues going forward\t a) year end reviews-report needs generating \n"
     ]
    }
   ],
   "source": [
    "# take a look at the first 100 characters of the first 5 records (RUN THIS CELL AS IS)\n",
    "!head -n 5 /media/notebooks/Assignments/HW2/{ENRON} | cut -c-100"
   ]
  },
  {
   "cell_type": "code",
   "execution_count": 7,
   "metadata": {},
   "outputs": [
    {
     "name": "stdout",
     "output_type": "stream",
     "text": [
      "100 /media/notebooks/Assignments/HW2/data/enronemail_1h.txt\n"
     ]
    }
   ],
   "source": [
    "# see how many messages/lines are in the file \n",
    "#(this number may be off by 1 if the last line doesn't end with a newline)\n",
    "!wc -l /media/notebooks/Assignments/HW2/{ENRON}"
   ]
  },
  {
   "cell_type": "code",
   "execution_count": 8,
   "metadata": {},
   "outputs": [
    {
     "name": "stdout",
     "output_type": "stream",
     "text": [
      "mkdir: `/user/root/HW2': File exists\n"
     ]
    }
   ],
   "source": [
    "# make the HDFS directory if it doesn't already exist\n",
    "!hdfs dfs -mkdir {HDFS_DIR}"
   ]
  },
  {
   "cell_type": "code",
   "execution_count": 9,
   "metadata": {},
   "outputs": [
    {
     "name": "stdout",
     "output_type": "stream",
     "text": [
      "copyFromLocal: `/user/root/HW2/enron.txt': File exists\n"
     ]
    }
   ],
   "source": [
    "# load the data into HDFS (RUN THIS CELL AS IS)\n",
    "!hdfs dfs -copyFromLocal /media/notebooks/Assignments/HW2/{ENRON} {HDFS_DIR}/enron.txt"
   ]
  },
  {
   "cell_type": "code",
   "execution_count": 10,
   "metadata": {},
   "outputs": [
    {
     "name": "stdout",
     "output_type": "stream",
     "text": [
      "Found 15 items\n",
      "drwxr-xr-x   - root supergroup          0 2019-09-12 16:28 /user/root/HW2/chinese-output\n",
      "-rw-r--r--   1 root supergroup        118 2019-09-11 17:57 /user/root/HW2/chineseTest.txt\n",
      "-rw-r--r--   1 root supergroup        106 2019-09-11 17:57 /user/root/HW2/chineseTrain.txt\n",
      "drwxr-xr-x   - root supergroup          0 2019-09-10 19:20 /user/root/HW2/eda-output\n",
      "drwxr-xr-x   - root supergroup          0 2019-09-10 19:01 /user/root/HW2/eda-sort-output\n",
      "drwxr-xr-x   - root supergroup          0 2019-09-14 01:53 /user/root/HW2/enron-model\n",
      "-rw-r--r--   1 root supergroup     204559 2019-09-10 16:50 /user/root/HW2/enron.txt\n",
      "-rw-r--r--   1 root supergroup      41493 2019-09-13 00:38 /user/root/HW2/enron_test.txt\n",
      "-rw-r--r--   1 root supergroup     163066 2019-09-13 00:38 /user/root/HW2/enron_train.txt\n",
      "drwxr-xr-x   - root supergroup          0 2019-09-12 20:16 /user/root/HW2/nbModel-output\n",
      "drwxr-xr-x   - root supergroup          0 2019-09-12 21:19 /user/root/HW2/nbModelSmooth-output\n",
      "drwxr-xr-x   - root supergroup          0 2019-09-14 19:59 /user/root/HW2/smooth-model\n",
      "drwxr-xr-x   - root supergroup          0 2019-09-14 02:25 /user/root/HW2/smooth-results\n",
      "drwxr-xr-x   - root supergroup          0 2019-09-16 14:14 /user/root/HW2/smooth-sort-output\n",
      "drwxr-xr-x   - root supergroup          0 2019-09-14 02:24 /user/root/HW2/unsmooth-results\n"
     ]
    }
   ],
   "source": [
    "!hdfs dfs -ls {HDFS_DIR}"
   ]
  },
  {
   "cell_type": "markdown",
   "metadata": {},
   "source": [
    "# Question 4:  Enron Ham/Spam EDA.\n",
    "Before building our classifier, lets get aquainted with our data. In particular, we're interested in which words occur more in spam emails than in real emails. In this question you'll implement two Hadoop MapReduce jobs to count and sort word occurrences by document class. You'll also learn about two new Hadoop streaming parameters that will allow you to control how the records output of your mappers are partitioned for reducing on separate nodes. \n",
    "\n",
    "__`IMPORTANT NOTE:`__ For this question and all subsequent items, you should include both the subject and the body of the email in your analysis (i.e. concatetate them to get the 'text' of the document).\n",
    "\n",
    "### Q4 Tasks:\n",
    "* __a) code:__ Complete the missing components of the code in __`EnronEDA/mapper.py`__ and __`EnronEDA/reducer.py`__ to create a Hadoop MapReduce job that counts how many times each word in the corpus occurs in an email for each class. Pay close attention to the data format specified in the docstrings of these scripts _-- there are a number of ways to accomplish this task, we've chosen this format to help illustrate a technique in `part e`_. Run the provided unit tests to confirm that your code works as expected then run the provided Hadoop streaming command to apply your analysis to the Enron data.\n",
    "\n",
    "\n",
    "* __b) code + short response:__ How many times does the word \"__assistance__\" occur in each class? (`HINT:` Use a `grep` command to read from the results file you generated in '`a`' and then report the answer in the space provided.)\n",
    "\n",
    "\n",
    "* __c) short response:__ Would it have been possible to add some sorting parameters to the Hadoop streaming command that would cause our `part a` results to be sorted by count? Briefly explain why or why not.\n",
    "\n",
    "\n",
    "* __d) code + short response:__ Write a second Hadoop MapReduce job to sort the output of `part a` first by class and then by count. Run your job and save the results to a local file. Then describe in words how you would go about printing the top 10 words in each class given this sorted output. (`HINT 1:` _remember that you can simply pass the `part a` output directory to the input field of this job; `HINT 2:` since this task is just reodering the records from `part a` we don't need to write a mapper or reducer, just use `/bin/cat` for both_)\n",
    "\n",
    "\n",
    "* __e) code:__ A more efficient alternative to '`grep`-ing' for the top 10 words in each class would be to use the Hadoop framework to separate records from each class into its own partition so that we can just read the top lines in each. Edit your job from ` part d` to specify 2 reduce tasks and to tell Hadoop to partition based on the second field (which indicates spam/ham in our data). Your code should maintain the secondary sort -- that is each partition should list words from most to least frequent."
   ]
  },
  {
   "cell_type": "markdown",
   "metadata": {},
   "source": [
    "### Q4 Student Answers:\n",
    "> __b)__ The word \"**assistance**\" occurs 8 times in Class 1 (spam), and 2 times in Class 0 (ham).   \n",
    "\n",
    "> __c)__ No, we can’t sort on counts in the original job because Hadoop’s sorting occurs in the phase between the mapper and reducer but our counts aren’t tallied up until after the reducer.\n",
    "\n",
    "> __d)__ I would partition the results based on class, i.e. class 0 records go to one partition file, and class 1 records go to the other partition file. From there, we get the top 10 words from each partition file. We could also grep for the class marker that is listed in the second field."
   ]
  },
  {
   "cell_type": "code",
   "execution_count": 11,
   "metadata": {},
   "outputs": [],
   "source": [
    "# part a - do your work in the provided scripts then RUN THIS CELL AS IS\n",
    "!chmod a+x EnronEDA/mapper.py\n",
    "!chmod a+x EnronEDA/reducer.py"
   ]
  },
  {
   "cell_type": "code",
   "execution_count": 12,
   "metadata": {},
   "outputs": [
    {
     "name": "stdout",
     "output_type": "stream",
     "text": [
      "title\t1\t1\n",
      "body\t1\t1\n",
      "title\t0\t1\n",
      "body\t0\t1\n"
     ]
    }
   ],
   "source": [
    "# part a - unit test EnronEDA/mapper.py (RUN THIS CELL AS IS)\n",
    "!echo -e \"d1\t1\ttitle\tbody\\nd2\t0\ttitle\tbody\" | EnronEDA/mapper.py"
   ]
  },
  {
   "cell_type": "code",
   "execution_count": 13,
   "metadata": {},
   "outputs": [
    {
     "name": "stdout",
     "output_type": "stream",
     "text": [
      "one\t1\t1\n",
      "one\t0\t2\n",
      "two\t1\t0\n",
      "two\t0\t1\n"
     ]
    }
   ],
   "source": [
    "# part a - unit test EnronEDA/reducer.py (RUN THIS CELL AS IS)\n",
    "!echo -e \"one\t1\t1\\none\t0\t1\\none\t0\t1\\ntwo\t0\t1\" | EnronEDA/reducer.py"
   ]
  },
  {
   "cell_type": "code",
   "execution_count": 14,
   "metadata": {},
   "outputs": [
    {
     "name": "stdout",
     "output_type": "stream",
     "text": [
      "Deleted /user/root/HW2/eda-output\n"
     ]
    }
   ],
   "source": [
    "# part a - clear output directory in HDFS (RUN THIS CELL AS IS)\n",
    "!hdfs dfs -rm -r {HDFS_DIR}/eda-output"
   ]
  },
  {
   "cell_type": "code",
   "execution_count": 15,
   "metadata": {},
   "outputs": [
    {
     "name": "stdout",
     "output_type": "stream",
     "text": [
      "packageJobJar: [] [/usr/lib/hadoop-mapreduce/hadoop-streaming-2.6.0-cdh5.15.1.jar] /tmp/streamjob7859609207462294535.jar tmpDir=null\n",
      "19/09/16 16:13:18 INFO client.RMProxy: Connecting to ResourceManager at /0.0.0.0:8032\n",
      "19/09/16 16:13:18 INFO client.RMProxy: Connecting to ResourceManager at /0.0.0.0:8032\n",
      "19/09/16 16:13:19 INFO mapred.FileInputFormat: Total input paths to process : 1\n",
      "19/09/16 16:13:19 INFO mapreduce.JobSubmitter: number of splits:2\n",
      "19/09/16 16:13:19 INFO mapreduce.JobSubmitter: Submitting tokens for job: job_1567779136510_0041\n",
      "19/09/16 16:13:20 INFO impl.YarnClientImpl: Submitted application application_1567779136510_0041\n",
      "19/09/16 16:13:20 INFO mapreduce.Job: The url to track the job: http://docker.w261:8088/proxy/application_1567779136510_0041/\n",
      "19/09/16 16:13:20 INFO mapreduce.Job: Running job: job_1567779136510_0041\n",
      "19/09/16 16:13:28 INFO mapreduce.Job: Job job_1567779136510_0041 running in uber mode : false\n",
      "19/09/16 16:13:28 INFO mapreduce.Job:  map 0% reduce 0%\n",
      "19/09/16 16:13:37 INFO mapreduce.Job:  map 50% reduce 0%\n",
      "19/09/16 16:13:38 INFO mapreduce.Job:  map 100% reduce 0%\n",
      "19/09/16 16:13:47 INFO mapreduce.Job:  map 100% reduce 100%\n",
      "19/09/16 16:13:47 INFO mapreduce.Job: Job job_1567779136510_0041 completed successfully\n",
      "19/09/16 16:13:47 INFO mapreduce.Job: Counters: 50\n",
      "\tFile System Counters\n",
      "\t\tFILE: Number of bytes read=369010\n",
      "\t\tFILE: Number of bytes written=1335698\n",
      "\t\tFILE: Number of read operations=0\n",
      "\t\tFILE: Number of large read operations=0\n",
      "\t\tFILE: Number of write operations=0\n",
      "\t\tHDFS: Number of bytes read=217061\n",
      "\t\tHDFS: Number of bytes written=119173\n",
      "\t\tHDFS: Number of read operations=12\n",
      "\t\tHDFS: Number of large read operations=0\n",
      "\t\tHDFS: Number of write operations=4\n",
      "\tJob Counters \n",
      "\t\tKilled reduce tasks=1\n",
      "\t\tLaunched map tasks=2\n",
      "\t\tLaunched reduce tasks=2\n",
      "\t\tData-local map tasks=2\n",
      "\t\tTotal time spent by all maps in occupied slots (ms)=13537\n",
      "\t\tTotal time spent by all reduces in occupied slots (ms)=15220\n",
      "\t\tTotal time spent by all map tasks (ms)=13537\n",
      "\t\tTotal time spent by all reduce tasks (ms)=15220\n",
      "\t\tTotal vcore-milliseconds taken by all map tasks=13537\n",
      "\t\tTotal vcore-milliseconds taken by all reduce tasks=15220\n",
      "\t\tTotal megabyte-milliseconds taken by all map tasks=13861888\n",
      "\t\tTotal megabyte-milliseconds taken by all reduce tasks=15585280\n",
      "\tMap-Reduce Framework\n",
      "\t\tMap input records=100\n",
      "\t\tMap output records=31490\n",
      "\t\tMap output bytes=306018\n",
      "\t\tMap output materialized bytes=369022\n",
      "\t\tInput split bytes=214\n",
      "\t\tCombine input records=0\n",
      "\t\tCombine output records=0\n",
      "\t\tReduce input groups=5065\n",
      "\t\tReduce shuffle bytes=369022\n",
      "\t\tReduce input records=31490\n",
      "\t\tReduce output records=10130\n",
      "\t\tSpilled Records=62980\n",
      "\t\tShuffled Maps =4\n",
      "\t\tFailed Shuffles=0\n",
      "\t\tMerged Map outputs=4\n",
      "\t\tGC time elapsed (ms)=210\n",
      "\t\tCPU time spent (ms)=6080\n",
      "\t\tPhysical memory (bytes) snapshot=991735808\n",
      "\t\tVirtual memory (bytes) snapshot=5487067136\n",
      "\t\tTotal committed heap usage (bytes)=701497344\n",
      "\tShuffle Errors\n",
      "\t\tBAD_ID=0\n",
      "\t\tCONNECTION=0\n",
      "\t\tIO_ERROR=0\n",
      "\t\tWRONG_LENGTH=0\n",
      "\t\tWRONG_MAP=0\n",
      "\t\tWRONG_REDUCE=0\n",
      "\tFile Input Format Counters \n",
      "\t\tBytes Read=216847\n",
      "\tFile Output Format Counters \n",
      "\t\tBytes Written=119173\n",
      "19/09/16 16:13:47 INFO streaming.StreamJob: Output directory: /user/root/HW2/eda-output\n"
     ]
    }
   ],
   "source": [
    "# part a - Hadoop streaming job (RUN THIS CELL AS IS)\n",
    "!hadoop jar {JAR_FILE} \\\n",
    "  -files EnronEDA/reducer.py,EnronEDA/mapper.py \\\n",
    "  -mapper mapper.py \\\n",
    "  -reducer reducer.py \\\n",
    "  -input {HDFS_DIR}/enron.txt \\\n",
    "  -output {HDFS_DIR}/eda-output \\\n",
    "  -numReduceTasks 2 \\\n",
    "  -cmdenv PATH={PATH}"
   ]
  },
  {
   "cell_type": "code",
   "execution_count": 16,
   "metadata": {},
   "outputs": [],
   "source": [
    "# part a - retrieve results from HDFS & copy them into a local file (RUN THIS CELL AS IS)\n",
    "!hdfs dfs -cat {HDFS_DIR}/eda-output/part-0000* > EnronEDA/results.txt"
   ]
  },
  {
   "cell_type": "code",
   "execution_count": 17,
   "metadata": {},
   "outputs": [
    {
     "name": "stdout",
     "output_type": "stream",
     "text": [
      "assistance\t1\t8\n",
      "assistance\t0\t2\n"
     ]
    }
   ],
   "source": [
    "# part b - write your grep command here\n",
    "!grep assistance EnronEDA/results.txt"
   ]
  },
  {
   "cell_type": "code",
   "execution_count": 18,
   "metadata": {},
   "outputs": [
    {
     "name": "stdout",
     "output_type": "stream",
     "text": [
      "Deleted /user/root/HW2/eda-sort-output\n"
     ]
    }
   ],
   "source": [
    "# part d/e - clear the output directory in HDFS (RUN THIS CELL AS IS)\n",
    "!hdfs dfs -rm -r {HDFS_DIR}/eda-sort-output"
   ]
  },
  {
   "cell_type": "code",
   "execution_count": 19,
   "metadata": {},
   "outputs": [
    {
     "name": "stdout",
     "output_type": "stream",
     "text": [
      "packageJobJar: [] [/usr/lib/hadoop-mapreduce/hadoop-streaming-2.6.0-cdh5.15.1.jar] /tmp/streamjob722682705600919387.jar tmpDir=null\n",
      "19/09/16 16:21:05 INFO client.RMProxy: Connecting to ResourceManager at /0.0.0.0:8032\n",
      "19/09/16 16:21:05 INFO client.RMProxy: Connecting to ResourceManager at /0.0.0.0:8032\n",
      "19/09/16 16:21:06 INFO mapred.FileInputFormat: Total input paths to process : 2\n",
      "19/09/16 16:21:06 INFO mapreduce.JobSubmitter: number of splits:2\n",
      "19/09/16 16:21:06 INFO mapreduce.JobSubmitter: Submitting tokens for job: job_1567779136510_0042\n",
      "19/09/16 16:21:06 INFO impl.YarnClientImpl: Submitted application application_1567779136510_0042\n",
      "19/09/16 16:21:07 INFO mapreduce.Job: The url to track the job: http://docker.w261:8088/proxy/application_1567779136510_0042/\n",
      "19/09/16 16:21:07 INFO mapreduce.Job: Running job: job_1567779136510_0042\n",
      "19/09/16 16:21:16 INFO mapreduce.Job: Job job_1567779136510_0042 running in uber mode : false\n",
      "19/09/16 16:21:16 INFO mapreduce.Job:  map 0% reduce 0%\n",
      "19/09/16 16:21:24 INFO mapreduce.Job:  map 50% reduce 0%\n",
      "19/09/16 16:21:25 INFO mapreduce.Job:  map 100% reduce 0%\n",
      "19/09/16 16:21:34 INFO mapreduce.Job:  map 100% reduce 50%\n",
      "19/09/16 16:21:35 INFO mapreduce.Job:  map 100% reduce 100%\n",
      "19/09/16 16:21:35 INFO mapreduce.Job: Job job_1567779136510_0042 completed successfully\n",
      "19/09/16 16:21:35 INFO mapreduce.Job: Counters: 50\n",
      "\tFile System Counters\n",
      "\t\tFILE: Number of bytes read=149575\n",
      "\t\tFILE: Number of bytes written=894416\n",
      "\t\tFILE: Number of read operations=0\n",
      "\t\tFILE: Number of large read operations=0\n",
      "\t\tFILE: Number of write operations=0\n",
      "\t\tHDFS: Number of bytes read=119411\n",
      "\t\tHDFS: Number of bytes written=129303\n",
      "\t\tHDFS: Number of read operations=12\n",
      "\t\tHDFS: Number of large read operations=0\n",
      "\t\tHDFS: Number of write operations=4\n",
      "\tJob Counters \n",
      "\t\tKilled reduce tasks=1\n",
      "\t\tLaunched map tasks=2\n",
      "\t\tLaunched reduce tasks=2\n",
      "\t\tData-local map tasks=2\n",
      "\t\tTotal time spent by all maps in occupied slots (ms)=13294\n",
      "\t\tTotal time spent by all reduces in occupied slots (ms)=14936\n",
      "\t\tTotal time spent by all map tasks (ms)=13294\n",
      "\t\tTotal time spent by all reduce tasks (ms)=14936\n",
      "\t\tTotal vcore-milliseconds taken by all map tasks=13294\n",
      "\t\tTotal vcore-milliseconds taken by all reduce tasks=14936\n",
      "\t\tTotal megabyte-milliseconds taken by all map tasks=13613056\n",
      "\t\tTotal megabyte-milliseconds taken by all reduce tasks=15294464\n",
      "\tMap-Reduce Framework\n",
      "\t\tMap input records=10130\n",
      "\t\tMap output records=10130\n",
      "\t\tMap output bytes=129303\n",
      "\t\tMap output materialized bytes=149587\n",
      "\t\tInput split bytes=238\n",
      "\t\tCombine input records=0\n",
      "\t\tCombine output records=0\n",
      "\t\tReduce input groups=10130\n",
      "\t\tReduce shuffle bytes=149587\n",
      "\t\tReduce input records=10130\n",
      "\t\tReduce output records=10130\n",
      "\t\tSpilled Records=20260\n",
      "\t\tShuffled Maps =4\n",
      "\t\tFailed Shuffles=0\n",
      "\t\tMerged Map outputs=4\n",
      "\t\tGC time elapsed (ms)=143\n",
      "\t\tCPU time spent (ms)=5590\n",
      "\t\tPhysical memory (bytes) snapshot=899043328\n",
      "\t\tVirtual memory (bytes) snapshot=5473497088\n",
      "\t\tTotal committed heap usage (bytes)=624427008\n",
      "\tShuffle Errors\n",
      "\t\tBAD_ID=0\n",
      "\t\tCONNECTION=0\n",
      "\t\tIO_ERROR=0\n",
      "\t\tWRONG_LENGTH=0\n",
      "\t\tWRONG_MAP=0\n",
      "\t\tWRONG_REDUCE=0\n",
      "\tFile Input Format Counters \n",
      "\t\tBytes Read=119173\n",
      "\tFile Output Format Counters \n",
      "\t\tBytes Written=129303\n",
      "19/09/16 16:21:35 INFO streaming.StreamJob: Output directory: /user/root/HW2/eda-sort-output\n"
     ]
    }
   ],
   "source": [
    "# part d/e - write your Hadoop streaming job here\n",
    "!hadoop jar {JAR_FILE} \\\n",
    "  -D stream.num.map.output.key.fields=3 \\\n",
    "  -D mapreduce.job.output.key.comparator.class=org.apache.hadoop.mapred.lib.KeyFieldBasedComparator \\\n",
    "  -D mapreduce.partition.keypartitioner.options=\"-k2,2\" \\\n",
    "  -D mapreduce.partition.keycomparator.options=\"-k3,3nr\" \\\n",
    "  -mapper /bin/cat \\\n",
    "  -reducer /bin/cat \\\n",
    "  -partitioner org.apache.hadoop.mapred.lib.KeyFieldBasedPartitioner \\\n",
    "  -input {HDFS_DIR}/eda-output/part-0000* \\\n",
    "  -output {HDFS_DIR}/eda-sort-output \\\n",
    "  -numReduceTasks 2 \\\n",
    "  -cmdenv PATH={PATH}"
   ]
  },
  {
   "cell_type": "code",
   "execution_count": 20,
   "metadata": {},
   "outputs": [
    {
     "name": "stdout",
     "output_type": "stream",
     "text": [
      "\n",
      "===== part-00000=====\n",
      "\n",
      "the\t0\t549\t\n",
      "to\t0\t398\t\n",
      "ect\t0\t382\t\n",
      "and\t0\t278\t\n",
      "of\t0\t230\t\n",
      "hou\t0\t206\t\n",
      "a\t0\t196\t\n",
      "in\t0\t182\t\n",
      "for\t0\t170\t\n",
      "on\t0\t135\t\n",
      "cat: Unable to write to output stream.\n",
      "\n",
      "===== part-00001=====\n",
      "\n",
      "the\t1\t698\t\n",
      "to\t1\t566\t\n",
      "and\t1\t392\t\n",
      "your\t1\t357\t\n",
      "a\t1\t347\t\n",
      "you\t1\t345\t\n",
      "of\t1\t336\t\n",
      "in\t1\t236\t\n",
      "for\t1\t204\t\n",
      "com\t1\t153\t\n",
      "cat: Unable to write to output stream.\n"
     ]
    }
   ],
   "source": [
    "# part e - view the top 10 records from each partition (RUN THIS CELL AS IS)\n",
    "for idx in range(2):\n",
    "    print(f\"\\n===== part-0000{idx}=====\\n\")\n",
    "    !hdfs dfs -cat {HDFS_DIR}/eda-sort-output/part-0000{idx} | head"
   ]
  },
  {
   "cell_type": "markdown",
   "metadata": {},
   "source": [
    "__Expected output:__\n",
    "<table>\n",
    "<th>part-00000:</th>\n",
    "<th>part-00001:</th>\n",
    "<tr><td><pre>\n",
    "the\t0\t549\t\n",
    "to\t0\t398\t\n",
    "ect\t0\t382\t\n",
    "and\t0\t278\t\n",
    "of\t0\t230\t\n",
    "hou\t0\t206\t\n",
    "a\t0\t196\t\n",
    "in\t0\t182\t\n",
    "for\t0\t170\t\n",
    "on\t0\t135\n",
    "</pre></td>\n",
    "<td><pre>\n",
    "the\t1\t698\t\n",
    "to\t1\t566\t\n",
    "and\t1\t392\t\n",
    "your\t1\t357\t\n",
    "a\t1\t347\t\n",
    "you\t1\t345\t\n",
    "of\t1\t336\t\n",
    "in\t1\t236\t\n",
    "for\t1\t204\t\n",
    "com\t1\t153\n",
    "</pre></td></tr>\n",
    "</table>"
   ]
  },
  {
   "cell_type": "markdown",
   "metadata": {},
   "source": [
    "# Question 5: Counters and Combiners.\n",
    "Tuning the number of mappers & reducers is helpful to optimize very large distributed computations. Doing so successfully requires a thorough understanding of the data size at each stage of the job. As you learned in the week3 live session, counters are an invaluable resource for understanding this kind of detail. In this question, we will take the EDA performed in Question 4 as an opportunity to illustrate some related concepts.\n",
    "\n",
    "### Q5 Tasks:\n",
    "* __a) short response:__ Read the Hadoop output from your job in Question 4a to report how many records are emitted by the mappers and how many records are received be the reducers. In the context of word counting what does this number represent practically?\n",
    "\n",
    "* __b) code:__ Note that we wrote the reducer in question 4a such that the input and output record format is identical. This makes it easy to use the same reducer script as a combiner. In the space provided below, write the Hadoop Streaming command to re-run your job from question 4a with this combining added.\n",
    "\n",
    "* __c) short response__: Report the number of records emitted by your mappers in part b and the number of records received by your reducers. Compare your results here to what you saw in part a. Explain.\n",
    "\n",
    "* __d) short response__: Describe a scenario where using a combiner would _NOT_ improve the efficiency of the shuffle stage. Explain. [__`BONUS:`__ how does increasing the number of mappers affect the usefulness of a combiner?]"
   ]
  },
  {
   "cell_type": "markdown",
   "metadata": {},
   "source": [
    "### Q5 Student Answers:\n",
    "> __a)__ Mappers emitted 31490 records; reducers received 31490 records. This number represents the total words in the subject & content data of 100 Enron emails. \n",
    "\n",
    "> __c)__ Mappers emitted 31490 records; reducers received 13096 records (which is the number of records emitted by combiners). Because we use combiners at the mappers, the output records emitted by each mapper have been locally aggregated before being sent over to reducers. That's why we see the number of records received by reducers is less than part b. \n",
    "\n",
    "> __d)__ The output records emitted by each mapper only contain distinct keys, no duplicate keys. Increasing the number of mappers would limit or decrease the usefulnees of a combiner. This is because the more data are chunked up and sent to more mappers, the less chance they'll be duplicate records to combine.   "
   ]
  },
  {
   "cell_type": "code",
   "execution_count": 21,
   "metadata": {},
   "outputs": [
    {
     "name": "stdout",
     "output_type": "stream",
     "text": [
      "Deleted /user/root/HW2/eda-output\n"
     ]
    }
   ],
   "source": [
    "# part b - clear output directory in HDFS (RUN THIS CELL AS IS)\n",
    "!hdfs dfs -rm -r {HDFS_DIR}/eda-output"
   ]
  },
  {
   "cell_type": "code",
   "execution_count": 22,
   "metadata": {},
   "outputs": [
    {
     "name": "stdout",
     "output_type": "stream",
     "text": [
      "packageJobJar: [] [/usr/lib/hadoop-mapreduce/hadoop-streaming-2.6.0-cdh5.15.1.jar] /tmp/streamjob8261785998608777901.jar tmpDir=null\n",
      "19/09/16 16:44:00 INFO client.RMProxy: Connecting to ResourceManager at /0.0.0.0:8032\n",
      "19/09/16 16:44:00 INFO client.RMProxy: Connecting to ResourceManager at /0.0.0.0:8032\n",
      "19/09/16 16:44:01 INFO mapred.FileInputFormat: Total input paths to process : 1\n",
      "19/09/16 16:44:01 INFO mapreduce.JobSubmitter: number of splits:2\n",
      "19/09/16 16:44:01 INFO mapreduce.JobSubmitter: Submitting tokens for job: job_1567779136510_0043\n",
      "19/09/16 16:44:01 INFO impl.YarnClientImpl: Submitted application application_1567779136510_0043\n",
      "19/09/16 16:44:01 INFO mapreduce.Job: The url to track the job: http://docker.w261:8088/proxy/application_1567779136510_0043/\n",
      "19/09/16 16:44:01 INFO mapreduce.Job: Running job: job_1567779136510_0043\n",
      "19/09/16 16:44:10 INFO mapreduce.Job: Job job_1567779136510_0043 running in uber mode : false\n",
      "19/09/16 16:44:10 INFO mapreduce.Job:  map 0% reduce 0%\n",
      "19/09/16 16:44:19 INFO mapreduce.Job:  map 50% reduce 0%\n",
      "19/09/16 16:44:20 INFO mapreduce.Job:  map 100% reduce 0%\n",
      "19/09/16 16:44:29 INFO mapreduce.Job:  map 100% reduce 50%\n",
      "19/09/16 16:44:30 INFO mapreduce.Job:  map 100% reduce 100%\n",
      "19/09/16 16:44:30 INFO mapreduce.Job: Job job_1567779136510_0043 completed successfully\n",
      "19/09/16 16:44:30 INFO mapreduce.Job: Counters: 49\n",
      "\tFile System Counters\n",
      "\t\tFILE: Number of bytes read=177959\n",
      "\t\tFILE: Number of bytes written=955024\n",
      "\t\tFILE: Number of read operations=0\n",
      "\t\tFILE: Number of large read operations=0\n",
      "\t\tFILE: Number of write operations=0\n",
      "\t\tHDFS: Number of bytes read=217061\n",
      "\t\tHDFS: Number of bytes written=119173\n",
      "\t\tHDFS: Number of read operations=12\n",
      "\t\tHDFS: Number of large read operations=0\n",
      "\t\tHDFS: Number of write operations=4\n",
      "\tJob Counters \n",
      "\t\tLaunched map tasks=2\n",
      "\t\tLaunched reduce tasks=2\n",
      "\t\tData-local map tasks=2\n",
      "\t\tTotal time spent by all maps in occupied slots (ms)=14373\n",
      "\t\tTotal time spent by all reduces in occupied slots (ms)=15042\n",
      "\t\tTotal time spent by all map tasks (ms)=14373\n",
      "\t\tTotal time spent by all reduce tasks (ms)=15042\n",
      "\t\tTotal vcore-milliseconds taken by all map tasks=14373\n",
      "\t\tTotal vcore-milliseconds taken by all reduce tasks=15042\n",
      "\t\tTotal megabyte-milliseconds taken by all map tasks=14717952\n",
      "\t\tTotal megabyte-milliseconds taken by all reduce tasks=15403008\n",
      "\tMap-Reduce Framework\n",
      "\t\tMap input records=100\n",
      "\t\tMap output records=31490\n",
      "\t\tMap output bytes=306018\n",
      "\t\tMap output materialized bytes=177971\n",
      "\t\tInput split bytes=214\n",
      "\t\tCombine input records=31490\n",
      "\t\tCombine output records=13096\n",
      "\t\tReduce input groups=5065\n",
      "\t\tReduce shuffle bytes=177971\n",
      "\t\tReduce input records=13096\n",
      "\t\tReduce output records=10130\n",
      "\t\tSpilled Records=26192\n",
      "\t\tShuffled Maps =4\n",
      "\t\tFailed Shuffles=0\n",
      "\t\tMerged Map outputs=4\n",
      "\t\tGC time elapsed (ms)=190\n",
      "\t\tCPU time spent (ms)=6520\n",
      "\t\tPhysical memory (bytes) snapshot=979947520\n",
      "\t\tVirtual memory (bytes) snapshot=5502423040\n",
      "\t\tTotal committed heap usage (bytes)=697303040\n",
      "\tShuffle Errors\n",
      "\t\tBAD_ID=0\n",
      "\t\tCONNECTION=0\n",
      "\t\tIO_ERROR=0\n",
      "\t\tWRONG_LENGTH=0\n",
      "\t\tWRONG_MAP=0\n",
      "\t\tWRONG_REDUCE=0\n",
      "\tFile Input Format Counters \n",
      "\t\tBytes Read=216847\n",
      "\tFile Output Format Counters \n",
      "\t\tBytes Written=119173\n",
      "19/09/16 16:44:30 INFO streaming.StreamJob: Output directory: /user/root/HW2/eda-output\n"
     ]
    }
   ],
   "source": [
    "# part b - write your Hadoop streaming job here\n",
    "!hadoop jar {JAR_FILE} \\\n",
    "  -files EnronEDA/reducer.py,EnronEDA/mapper.py \\\n",
    "  -mapper mapper.py \\\n",
    "  -combiner reducer.py \\\n",
    "  -reducer reducer.py \\\n",
    "  -input {HDFS_DIR}/enron.txt \\\n",
    "  -output {HDFS_DIR}/eda-output \\\n",
    "  -numReduceTasks 2 \\\n",
    "  -cmdenv PATH={PATH}"
   ]
  },
  {
   "cell_type": "markdown",
   "metadata": {},
   "source": [
    "# Question 6: Document Classification Task Overview.\n",
    "The week 2 assigned reading from Chapter 13 of _Introduction to Information Retrieval_ by Manning, Raghavan and Schutze provides a thorough introduction to the document classification task and the math behind Naive Bayes. In this question we'll use the example from Table 13.1 (reproduced below) to 'train' an unsmoothed Multinomial Naive Bayes model and classify a test document by hand.\n",
    "\n",
    "<table>\n",
    "<th>DocID</th>\n",
    "<th>Class</th>\n",
    "<th>Subject</th>\n",
    "<th>Body</th>\n",
    "<tr><td>Doc1</td><td>1</td><td></td><td>Chinese Beijing Chinese</td></tr>\n",
    "<tr><td>Doc2</td><td>1</td><td></td><td>Chinese Chinese Shanghai</td></tr>\n",
    "<tr><td>Doc3</td><td>1</td><td></td><td>Chinese Macao</td></tr>\n",
    "<tr><td>Doc4</td><td>0</td><td></td><td>Tokyo Japan Chinese</td></tr>\n",
    "</table>\n",
    "\n",
    "### Q6 Tasks:\n",
    "* __a) short response:__ Equation 13.3 in Manning, Raghavan and Shutze shows how a Multinomial Naive Bayes model classifies a document. It predicts the class, $c$, for which the estimated conditional probability of the class given the document's contents,  $\\hat{P}(c|d)$, is greatest. In this equation what two pieces of information are required to calculate  $\\hat{P}(c|d)$? Your answer should include both mathematical notatation and verbal explanation.\n",
    "\n",
    "\n",
    "* __b) short response:__ The Enron data includes two classes of documents: `spam` and `ham` (they're actually labeled `1` and `0`). In plain English, explain what  $\\hat{P}(c)$ and   $\\hat{P}(t_{k} | c)$ mean in the context of this data. How will we would estimate these values from a training corpus? How many passes over the data would we need to make to retrieve this information for all classes and all words?\n",
    "\n",
    "\n",
    "* __c) hand calculations:__ Above we've reproduced the document classification example from the textbook (we added an empty subject field to mimic the Enron data format). Remember that the classes in this \"Chinese Example\" are `1` (about China) and `0` (not about China). Calculate the class priors and the conditional probabilities for an __unsmoothed__ Multinomial Naive Bayes model trained on this data. Show the calculations that lead to your result using markdown and $\\LaTeX$ in the space provided or by embedding an image of your hand written work. [`NOTE:` _Your results should NOT match those in the text -- they are training a model with +1 smoothing you are training a model without smoothing_]\n",
    "\n",
    "\n",
    "* __d) hand calculations:__ Use the model you trained to classify the following test document: `Chinese Chinese Chinese Tokyo Japan`. Show the calculations that lead to your result using markdown and   $\\LaTeX$ in the space provided or by embedding an image of your hand written work.\n",
    "\n",
    "\n",
    "* __e) short response:__ Compare the classification you get from this unsmoothed model in `d`/`e` to the results in the textbook's \"Example 1\" which reflects a model with Laplace plus 1 smoothing. How does smoothing affect our inference?"
   ]
  },
  {
   "cell_type": "markdown",
   "metadata": {},
   "source": [
    "### Q6 Student Answers:\n",
    "> __a)__ $\\hat{P}(c|d) = \\hat{P}(c)\\Pi \\hat{P}(t_{k} | c)$ The two pieces of information are:\n",
    "- $\\hat{P}(t_{k} | c)$: the estimated conditional probability of term $t_{k}$ occurring in a document of class c. It's a measure of how much evidence $t_{k}$ contributes that c is the correct class.\n",
    "- $\\hat{P}(c)$: the estimated prior probability of a document occurring in class c.\n",
    "\n",
    "> __b)__ For Enron's case:\n",
    "- $\\hat{P}(t_{k} | c)$: the estimated conditional probability of a word $t_{k}$ occurring in a document of class Spam or Ham. For example the word **a**, we need to count the number of documents the word 'a' appears for a given class, i.e. Spam, and then divided by the count of Spam emails, or, $\\hat{P}(a | Spam) = \\frac{count(a | Spam)}{count(Spam)}$.\n",
    "- $\\hat{P}(c)$: the estimated prior probability of class Spam or Ham. $\\hat{P}(Spam) + \\hat{P}(Ham) = 1$. We count the number of Spam emails, and the number of Ham emails. $\\hat{P}(Spam) = \\frac{count(Spam)}{count(Spam + Ham)}$\n",
    "\n",
    "> __c)__ The calculations are shown as below:\n",
    "- Note that there are 3 documents labeled as \"China\", and 1 document labeled as \"Not China\", hence $count(China)=3$, and $count(NotChina)=1$. Therefore, the priors: \n",
    "    - $\\hat{P}(China) = \\frac{1 + 1 + 1}{4} = 0.75$ \n",
    "    - $\\hat{P}(NotChina) = \\frac{1}{4} = 0.25$\n",
    "- Distinct evidences (or features): Chinese, Beijing, Shanghai, Macao, Tokyo, Japan. Their counts for respective classes are shown below:\n",
    "\n",
    "<table>\n",
    "<th>Class</th>\n",
    "<th>Chinese</th>\n",
    "<th>Beijing</th>\n",
    "<th>Shanghai</th>\n",
    "<th>Macao</th>\n",
    "<th>Tokyo</th>\n",
    "<th>Japan</th>\n",
    "<th>Total</th>\n",
    "<tr><td>1 - China</td><td>5 (i)</td><td>1</td><td>1</td><td>1</td><td>0</td><td>0</td><td>8</td></tr>\n",
    "<tr><td>0 - NotChina</td><td>1</td><td>0</td><td>0</td><td>0</td><td>1</td><td>1</td><td>3</td></tr>\n",
    "</table>\n",
    "\n",
    ">* (i): The word \"Chinese\" appear 5 times in the documents that are labeled as \"1 - China\". Because we are to construct a Multinomial Naive Bayes model, we need to count the occurrences of a word.  \n",
    "\n",
    ">- Their respective conditional probabilities for each class are shown as below, :\n",
    "    - $\\hat{P}(Chinese | China) = \\frac{count(Chinese | China)}{total(China)} = \\frac{5}{8}$\n",
    "    - $\\hat{P}(Chinese | NotChina) = \\frac{count(Chinese | NotChina)}{total(NotChina)} = \\frac{1}{3}$\n",
    "    - $\\hat{P}(Beijing | China) = \\frac{1}{8}$\n",
    "    - $\\hat{P}(Beijing | NotChina) = \\frac{0}{3} = 0$\n",
    "    - $\\hat{P}(Shanghai | China) = \\frac{1}{8}$\n",
    "    - $\\hat{P}(Shanghai | NotChina) = \\frac{0}{3} = 0$\n",
    "    - $\\hat{P}(Macao | China) = \\frac{1}{8}$\n",
    "    - $\\hat{P}(Macao | NotChina) = \\frac{0}{3} = 0$\n",
    "    - $\\hat{P}(Tokyo | China) = \\frac{0}{8} = 0$\n",
    "    - $\\hat{P}(Tokyo | NotChina) = \\frac{1}{3}$\n",
    "    - $\\hat{P}(Japan | China) = \\frac{0}{8} = 0$\n",
    "    - $\\hat{P}(Japan | NotChina) = \\frac{1}{3}$\n",
    "\n",
    "> __d)__ Doc5 = 'Chinese Chinese Chinese Tokyo Japan'\n",
    "$$\n",
    "\\begin{aligned}\n",
    "\\hat{P}(China | Doc5) &= \\hat{P}(China) \\cdot \\left[ \\hat{P}(Chinese | China) \\right]^{3} \\cdot \\hat{P}(Tokyo | China) \\cdot \\hat{P}(Japan | China) \\\\\n",
    "&= \\frac{3}{4} \\cdot \\left( \\frac{5}{8} \\right)^{3} \\cdot 0 \\cdot 0 \\\\\n",
    "&= 0\n",
    "\\end{aligned}\n",
    "$$\n",
    "$$\n",
    "\\begin{aligned}\n",
    "\\hat{P}(NotChina | Doc5) &= \\hat{P}(NotChina) \\cdot \\left[ \\hat{P}(Chinese | NotChina) \\right]^{3} \\cdot \\hat{P}(Tokyo | NotChina) \\cdot \\hat{P}(Japan | NotChina) \\\\\n",
    "&= \\frac{1}{4} \\cdot \\left( \\frac{1}{3} \\right)^{3} \\cdot \\frac{1}{3} \\cdot \\frac{1}{3} \\\\\n",
    "&= \\frac{1}{972} \n",
    "\\end{aligned}\n",
    "$$\n",
    "\n",
    "> Based on the calculation, the predicted class is Not China. \n",
    "\n",
    "> __e)__ Smoothing avoid zero count scenario, such as a word that has never been seen in training data, or situation that we run into as in part __c__ and __d__, in which the zero term makes the whole probability zero. Smoothing is also like adding noise to training data to improve generalization of our model. As we see in part __d__, smoothing could in fact change our inference results as compared with unsmoothed model. \n"
   ]
  },
  {
   "cell_type": "code",
   "execution_count": null,
   "metadata": {},
   "outputs": [],
   "source": [
    "# part d/e - if you didn't write out your calcuations above, embed a picture of them here:\n",
    "from IPython.display import Image\n",
    "Image(filename=\"path-to-hand-calulations-image.png\")"
   ]
  },
  {
   "cell_type": "markdown",
   "metadata": {},
   "source": [
    "# Question 7: Naive Bayes Inference.\n",
    "In the next two questions you'll write code to parallelize the Naive Bayes calculations that you performed above. We'll do this in two phases: one MapReduce job to perform training and a second MapReduce to perform inference. While in practice we'd need to train a model before we can use it to classify documents, for learning purposes we're going to develop our code in the opposite order. By first focusing on the pieces of information/format we need to perform the classification (inference) task you should find it easier to develop a solid implementation for training phase when you get to question 8 below. In both of these questions we'll continue to use the Chinese example corpus from the textbook to help us test our MapReduce code as we develop it. Below we've reproduced the corpus, test set and model in text format that matches the Enron data.\n",
    "\n",
    "### Q7 Tasks:\n",
    "* __a) short response:__ run the provided cells to create the example files and load them in to HDFS. Then take a closer look at __`NBmodel.txt`__. This text file represents a Naive Bayes model trained (with Laplace +1 smoothing) on the example corpus. What are the 'keys' and 'values' in this file? Which record means something slightly different than the rest? The value field of each record includes two numbers which will be helpful for debugging but which we don't actually need to perform inference -- what are they? [`HINT`: _This file represents the model from Example 13.1 in the textbook, if you're having trouble getting oriented try comparing our file to the numbers in that example._]\n",
    "\n",
    "\n",
    "* __b) short response:__ When performing Naive Bayes in practice instead of multiplying the probabilities (as in equation 13.3) we add their logs (as in equation 13.4). Why do we choose to work with log probabilities? If we had an unsmoothed model, what potential error could arise from this transformation?\n",
    "\n",
    "\n",
    "* __c) short response:__ Documents 6 and 8 in the test set include a word that did not appear in the training corpus (and as a result does not appear in the model). What should we do at inference time when we need a class conditional probability for this word?\n",
    "\n",
    "\n",
    "* __d) short response:__ The goal of our MapReduce job is to stream over the test set and classify each document by peforming the calculation from equation 13.4. To do this we'll load the model file (which contains the probabilities for equation 13.4) into memory on the nodes where we do our mapping. This is called an in-memory join. Does loading a model 'state' like this depart from the functional programming principles? Explain why or why not. From a scability perspective when would this kind of memory use be justified? when would it be unwise?\n",
    "\n",
    "\n",
    "* __e) code:__ Complete the code in __`NaiveBayes/classify_mapper.py`__. Read the docstring carefully to understand how this script should work and the format it should return. Run the provided unit tests to confirm that your script works as expected then write a Hadoop streaming job to classify the Chinese example test set. [`HINT 1:` _you shouldn't need a reducer for this one._ `HINT 2:` _Don't forget to add the model file to the_ `-files` _parameter in your Hadoop streaming job so that it gets shipped to the mapper nodes where it will be accessed by your script._]\n",
    "\n",
    "\n",
    "* __f) short response:__ In our test example and in the Enron data set we have fairly short documents. Since these fit fine in memory on a mapper node we didn't need a reducer and could just do all of our calculations in the mapper. However with much longer documents (eg. books) we might want a higher level of parallelization -- for example we might want to process parts of a document on different nodes. In this hypothetical scenario how would our algorithm design change? What could the mappers still do? What key-value structure would they emit? What would the reducers have to do as a last step?"
   ]
  },
  {
   "cell_type": "markdown",
   "metadata": {},
   "source": [
    "### Q7 Student Answers:\n",
    "> __a)__ See response below:\n",
    "- __Keys__ are the words appear in the training data corpus, specifically in our trained model, they are, beijing, chinese, tokyo, shanghai, ClassPriors, japan, macao; \n",
    "- __Values__ are the following numbers, count in class 0, count in class 1, P(w|class0), P(w|class1).\n",
    "- __ClassPriors__ record means slightly different than other records, as it is not a word in the corpus, but rather a summary line for the two classes to show their total counts and prior probabilities. \n",
    "- The first two numeric fields (count in class 0, count in class 1) are not needed to perform inference but helpful for debugging. They are the counts for each word appearing in the two classes, NotChina and China respectively. \n",
    "\n",
    "> __b)__ We choose to use log probabilities because:\n",
    "- First of all, we do not care about absolute probability, but rather a relative one for comparison;\n",
    "- With many conditional probabilities are multiplied, it could result in a floating point underflow.\n",
    "- By adding logarithms of probabilities instead of multiplying probabilities, the class with the highest log probability score is still the most probable. \n",
    "- If we use unsmoothed model, we could run into $log(0)$ which is undefined, and not a real number mathematically. \n",
    "\n",
    "> __c)__ We should add in Laplace smoothing, where we should set pseudocount $\\alpha > 0$. We could either assign the same conditional probability to each class or we could simply disregard that word. \n",
    "\n",
    "> __d)__ It slightly departs from functional programming principles. However it is ok since we’re not updating that state at all after it gets loaded on each mapper node so there’s no risk of a race condition. So the model file essentially is like a function where the output value of our model depends only on the arguments that are passed to our model. In addition, we do not share any information that needs to be updated across multiple nodes. From a scalability perspective, the use of \"in memory join\" is justified when the input/output of the join is small enough to fit the memory. Otherwise, we would need to use different approaches. \n",
    "\n",
    "> __e)__ Complete the coding portion of this question before answering 'f'.\n",
    "\n",
    "> __f)__ If the documents get long enough that they no longer fit the memory, we would need to process parts of each document in parallel. Then the mapper should no longer be responsible for adding the log of the class priors (because that would end up getting added multiple times-- once for each mapper that encounters a piece of the same document). Our new mapper could still perform the conditional probability look-ups (emitting `DocID \\t log(P(word|class0)),log(P(word|class1)`). Then the reducers would add the log probabilities of all the words associated with each document (from all the mappers that processed a piece of that document) and then add the ClassPriors to make a final inference.\n"
   ]
  },
  {
   "cell_type": "markdown",
   "metadata": {},
   "source": [
    "Run these cells to create the example corpus and model."
   ]
  },
  {
   "cell_type": "code",
   "execution_count": 23,
   "metadata": {},
   "outputs": [
    {
     "name": "stdout",
     "output_type": "stream",
     "text": [
      "Overwriting NaiveBayes/chineseTrain.txt\n"
     ]
    }
   ],
   "source": [
    "%%writefile NaiveBayes/chineseTrain.txt\n",
    "D1\t1\t\tChinese Beijing Chinese\n",
    "D2\t1\t\tChinese Chinese Shanghai\n",
    "D3\t1\t\tChinese Macao\n",
    "D4\t0\t\tTokyo Japan Chinese"
   ]
  },
  {
   "cell_type": "code",
   "execution_count": 24,
   "metadata": {},
   "outputs": [
    {
     "name": "stdout",
     "output_type": "stream",
     "text": [
      "Overwriting NaiveBayes/chineseTest.txt\n"
     ]
    }
   ],
   "source": [
    "%%writefile NaiveBayes/chineseTest.txt\n",
    "D5\t1\t\tChinese Chinese Chinese Tokyo Japan\n",
    "D6\t1\t\tBeijing Shanghai Trade\n",
    "D7\t0\t\tJapan Macao Tokyo\n",
    "D8\t0\t\tTokyo Japan Trade"
   ]
  },
  {
   "cell_type": "code",
   "execution_count": 25,
   "metadata": {},
   "outputs": [
    {
     "name": "stdout",
     "output_type": "stream",
     "text": [
      "Overwriting NBmodel.txt\n"
     ]
    }
   ],
   "source": [
    "%%writefile NBmodel.txt\n",
    "beijing\t0.0,1.0,0.111111111111,0.142857142857\n",
    "chinese\t1.0,5.0,0.222222222222,0.428571428571\n",
    "tokyo\t1.0,0.0,0.222222222222,0.0714285714286\n",
    "shanghai\t0.0,1.0,0.111111111111,0.142857142857\n",
    "ClassPriors\t1.0,3.0,0.25,0.75\n",
    "japan\t1.0,0.0,0.222222222222,0.0714285714286\n",
    "macao\t0.0,1.0,0.111111111111,0.142857142857"
   ]
  },
  {
   "cell_type": "code",
   "execution_count": 26,
   "metadata": {},
   "outputs": [
    {
     "name": "stdout",
     "output_type": "stream",
     "text": [
      "copyFromLocal: `/user/root/HW2/chineseTrain.txt': File exists\n",
      "copyFromLocal: `/user/root/HW2/chineseTest.txt': File exists\n"
     ]
    }
   ],
   "source": [
    "# load the data files into HDFS\n",
    "!hdfs dfs -copyFromLocal NaiveBayes/chineseTrain.txt {HDFS_DIR}\n",
    "!hdfs dfs -copyFromLocal NaiveBayes/chineseTest.txt {HDFS_DIR}"
   ]
  },
  {
   "cell_type": "markdown",
   "metadata": {},
   "source": [
    "Your work for `part e` starts here:"
   ]
  },
  {
   "cell_type": "code",
   "execution_count": 27,
   "metadata": {},
   "outputs": [],
   "source": [
    "# part e - do your work in NaiveBayes/classify_mapper.py first, then run this cell.\n",
    "!chmod a+x NaiveBayes/classify_mapper.py"
   ]
  },
  {
   "cell_type": "code",
   "execution_count": 28,
   "metadata": {},
   "outputs": [
    {
     "name": "stdout",
     "output_type": "stream",
     "text": [
      "d5  1  -8.90668134500626   -8.10769031284611   1\n",
      "d6  1  -5.780743515794329  -4.179502370564408  1\n",
      "d7  0  -6.591673732011658  -7.511706880737812  0\n",
      "d8  0  -4.394449154674438  -5.565796731681498  0\n"
     ]
    }
   ],
   "source": [
    "# part e - unit test NaiveBayes/classify_mapper.py (RUN THIS CELL AS IS)\n",
    "!cat NaiveBayes/chineseTest.txt | NaiveBayes/classify_mapper.py | column -t"
   ]
  },
  {
   "cell_type": "code",
   "execution_count": 29,
   "metadata": {},
   "outputs": [
    {
     "name": "stdout",
     "output_type": "stream",
     "text": [
      "Deleted /user/root/HW2/chinese-output\n"
     ]
    }
   ],
   "source": [
    "# part e - clear the output directory in HDFS (RUN THIS CELL AS IS)\n",
    "!hdfs dfs -rm -r {HDFS_DIR}/chinese-output"
   ]
  },
  {
   "cell_type": "code",
   "execution_count": 30,
   "metadata": {},
   "outputs": [
    {
     "name": "stdout",
     "output_type": "stream",
     "text": [
      "packageJobJar: [] [/usr/lib/hadoop-mapreduce/hadoop-streaming-2.6.0-cdh5.15.1.jar] /tmp/streamjob3249677114930579200.jar tmpDir=null\n",
      "19/09/16 17:36:45 INFO client.RMProxy: Connecting to ResourceManager at /0.0.0.0:8032\n",
      "19/09/16 17:36:45 INFO client.RMProxy: Connecting to ResourceManager at /0.0.0.0:8032\n",
      "19/09/16 17:36:46 INFO mapred.FileInputFormat: Total input paths to process : 1\n",
      "19/09/16 17:36:46 INFO mapreduce.JobSubmitter: number of splits:2\n",
      "19/09/16 17:36:46 INFO mapreduce.JobSubmitter: Submitting tokens for job: job_1567779136510_0044\n",
      "19/09/16 17:36:47 INFO impl.YarnClientImpl: Submitted application application_1567779136510_0044\n",
      "19/09/16 17:36:47 INFO mapreduce.Job: The url to track the job: http://docker.w261:8088/proxy/application_1567779136510_0044/\n",
      "19/09/16 17:36:47 INFO mapreduce.Job: Running job: job_1567779136510_0044\n",
      "19/09/16 17:36:55 INFO mapreduce.Job: Job job_1567779136510_0044 running in uber mode : false\n",
      "19/09/16 17:36:55 INFO mapreduce.Job:  map 0% reduce 0%\n",
      "19/09/16 17:37:03 INFO mapreduce.Job:  map 50% reduce 0%\n",
      "19/09/16 17:37:04 INFO mapreduce.Job:  map 100% reduce 0%\n",
      "19/09/16 17:37:10 INFO mapreduce.Job:  map 100% reduce 100%\n",
      "19/09/16 17:37:11 INFO mapreduce.Job: Job job_1567779136510_0044 completed successfully\n",
      "19/09/16 17:37:11 INFO mapreduce.Job: Counters: 49\n",
      "\tFile System Counters\n",
      "\t\tFILE: Number of bytes read=192\n",
      "\t\tFILE: Number of bytes written=448793\n",
      "\t\tFILE: Number of read operations=0\n",
      "\t\tFILE: Number of large read operations=0\n",
      "\t\tFILE: Number of write operations=0\n",
      "\t\tHDFS: Number of bytes read=403\n",
      "\t\tHDFS: Number of bytes written=178\n",
      "\t\tHDFS: Number of read operations=9\n",
      "\t\tHDFS: Number of large read operations=0\n",
      "\t\tHDFS: Number of write operations=2\n",
      "\tJob Counters \n",
      "\t\tLaunched map tasks=2\n",
      "\t\tLaunched reduce tasks=1\n",
      "\t\tData-local map tasks=2\n",
      "\t\tTotal time spent by all maps in occupied slots (ms)=12754\n",
      "\t\tTotal time spent by all reduces in occupied slots (ms)=4703\n",
      "\t\tTotal time spent by all map tasks (ms)=12754\n",
      "\t\tTotal time spent by all reduce tasks (ms)=4703\n",
      "\t\tTotal vcore-milliseconds taken by all map tasks=12754\n",
      "\t\tTotal vcore-milliseconds taken by all reduce tasks=4703\n",
      "\t\tTotal megabyte-milliseconds taken by all map tasks=13060096\n",
      "\t\tTotal megabyte-milliseconds taken by all reduce tasks=4815872\n",
      "\tMap-Reduce Framework\n",
      "\t\tMap input records=4\n",
      "\t\tMap output records=4\n",
      "\t\tMap output bytes=178\n",
      "\t\tMap output materialized bytes=198\n",
      "\t\tInput split bytes=226\n",
      "\t\tCombine input records=0\n",
      "\t\tCombine output records=0\n",
      "\t\tReduce input groups=4\n",
      "\t\tReduce shuffle bytes=198\n",
      "\t\tReduce input records=4\n",
      "\t\tReduce output records=4\n",
      "\t\tSpilled Records=8\n",
      "\t\tShuffled Maps =2\n",
      "\t\tFailed Shuffles=0\n",
      "\t\tMerged Map outputs=2\n",
      "\t\tGC time elapsed (ms)=97\n",
      "\t\tCPU time spent (ms)=2240\n",
      "\t\tPhysical memory (bytes) snapshot=753258496\n",
      "\t\tVirtual memory (bytes) snapshot=4133666816\n",
      "\t\tTotal committed heap usage (bytes)=532676608\n",
      "\tShuffle Errors\n",
      "\t\tBAD_ID=0\n",
      "\t\tCONNECTION=0\n",
      "\t\tIO_ERROR=0\n",
      "\t\tWRONG_LENGTH=0\n",
      "\t\tWRONG_MAP=0\n",
      "\t\tWRONG_REDUCE=0\n",
      "\tFile Input Format Counters \n",
      "\t\tBytes Read=177\n",
      "\tFile Output Format Counters \n",
      "\t\tBytes Written=178\n",
      "19/09/16 17:37:11 INFO streaming.StreamJob: Output directory: /user/root/HW2/chinese-output\n"
     ]
    }
   ],
   "source": [
    "# part e - write your Hadooop streaming job here\n",
    "!hadoop jar {JAR_FILE} \\\n",
    "  -files NaiveBayes/classify_mapper.py,NBmodel.txt \\\n",
    "  -mapper classify_mapper.py \\\n",
    "  -reducer /bin/cat \\\n",
    "  -input {HDFS_DIR}/chineseTest.txt \\\n",
    "  -output {HDFS_DIR}/chinese-output \\\n",
    "  -numReduceTasks 1 \\\n",
    "  -cmdenv PATH={PATH}"
   ]
  },
  {
   "cell_type": "code",
   "execution_count": 31,
   "metadata": {},
   "outputs": [],
   "source": [
    "# part e - retrieve test set results from HDFS (RUN THIS CELL AS IS)\n",
    "!hdfs dfs -cat {HDFS_DIR}/chinese-output/part-000* > NaiveBayes/chineseResults.txt"
   ]
  },
  {
   "cell_type": "code",
   "execution_count": 32,
   "metadata": {},
   "outputs": [
    {
     "name": "stdout",
     "output_type": "stream",
     "text": [
      "d5  1  -8.90668134500626   -8.10769031284611   1\n",
      "d6  1  -5.780743515794329  -4.179502370564408  1\n",
      "d7  0  -6.591673732011658  -7.511706880737812  0\n",
      "d8  0  -4.394449154674438  -5.565796731681498  0\n"
     ]
    }
   ],
   "source": [
    "# part e - take a look (RUN THIS CELL AS IS)\n",
    "!cat NaiveBayes/chineseResults.txt | column -t"
   ]
  },
  {
   "cell_type": "markdown",
   "metadata": {},
   "source": [
    "<table>\n",
    "<th> Expected output for the test set:</th>\n",
    "<tr align=Left><td><pre>\n",
    "d5\t1\t-8.90668134\t-8.10769031\t1\n",
    "d6\t1\t-5.78074351\t-4.17950237\t1\n",
    "d7\t0\t-6.59167373\t-7.51170688\t0\n",
    "d8\t0\t-4.39444915\t-5.56579673\t0\n",
    "</pre></td><tr>\n",
    "</table>"
   ]
  },
  {
   "cell_type": "markdown",
   "metadata": {},
   "source": [
    "# Question 8: Naive Bayes Training.\n",
    "In Question 7 we used a model that we had trained by hand. Next we'll develop the code to do that same training in parallel, making it suitable for use with larger corpora (like the Enron emails). The end result of the MapReduce job you write in this question should be a model text file that looks just like the example (`NBmodel.txt`) that we created by hand above.\n",
    "\n",
    "To refresh your memory about the training process take a look at  `6a` and `6b` where you described the pieces of information you'll need to collect in order to encode a Multinomial Naive Bayes model. We now want to retrieve those pieces of information while streaming over a corpus. The bulk of the task will be very similar to the word counting excercises you've already done but you may want to consider a slightly different key-value record structure to efficiently tally counts for each class. \n",
    "\n",
    "The most challenging (interesting?) design question will be how to retrieve the totals (# of documents and # of words in documents for each class). Of course, counting these numbers is easy. The hard part is the timing: you'll need to make sure you have the counts totalled up _before_ you start estimating the class conditional probabilities for each word. It would be best (i.e. most scalable) if we could find a way to do this tallying without storing the whole vocabulary in memory... Use an appropriate MapReduce design pattern to implement this efficiently! \n",
    "\n",
    "\n",
    "### Q8 Tasks:\n",
    "* __a) make a plan:__  Fill in the docstrings for __`NaiveBayes/train_mapper.py`__ and __`NaiveBayes/train_reducer.py`__ to appropriately reflect the format that each script will input/output. [`HINT:` _the input files_ (`enronemail_1h.txt` & `chineseTrain.txt`) _have a prespecified format and your output file should match_ `NBmodel.txt` _so you really only have to decide on an internal format for Hadoop_].\n",
    "\n",
    "\n",
    "* __b) implement it:__ Complete the code in __`NaiveBayes/train_mapper.py`__ and __`NaiveBayes/train_reducer.py`__ so that together they train a Multinomial Naive Bayes model __with no smoothing__. Make sure your end result is formatted correctly (see note above). Test your scripts independently and together (using `chineseTrain.txt` or test input of your own devising). When you are satisfied with your Python code design and run a Hadoop streaming command to run your job in parallel on the __chineseTrain.txt__. Confirm that your trained model matches your hand calculations from Question 5.\n",
    "\n",
    "\n",
    "* __c) short response:__ We saw in Question 6 that adding Laplace +1 smoothing makes our classifications less sensitve to rare words. However implementing this technique requires access to one additional piece of information that we had not previously used in our Naive Bayes training. What is that extra piece of information? [`HINT:` see equation 13.7 in Manning, Raghavan and Schutze].\n",
    "\n",
    "\n",
    "* __d) short response:__ There are a couple of approaches that we could take to handle the extra piece of information you identified in `c`: 1) if we knew this extra information beforehand, we could provide it to our reducer as a configurable parameter for the vocab size dynamically (_where would we get it in the first place?_). Or 2) we could compute it in the reducer without storing any bulky information in memory but then we'd need some postprocessing or a second MapReduce job to complete the calculation (_why?_). Breifly explain what is non-ideal about each of these options. \n",
    "\n",
    "\n",
    "* __e) code + short response:__ Choose one of the 2 options above. State your choice & reasoning in the space below then use that strategy to complete the code in __`NaiveBayes/train_reducer_smooth.py`__. Test this alternate reducer then write and run a Hadoop streaming job to train an MNB model with smoothing on the Chinese example. Your results should match the model that we provided for you above (and the calculations in the textbook example). [`HINT:` _don't start from scratch with this one -- you can just copy over your reducer code from part `b` and make the needed modifications_]."
   ]
  },
  {
   "cell_type": "markdown",
   "metadata": {},
   "source": [
    "\n",
    "__IMPORTANT NOTE:__ For full credit on this question, your code must work with multiple reducers. [`HINT:`_You will need to implement custom partitioning - [Total Order Sort Notebook](https://github.com/UCB-w261/main/tree/master/HelpfulResources/TotalSortGuide/_total-sort-guide-spark2.01-JAN27-2017.ipynb)]\n"
   ]
  },
  {
   "cell_type": "markdown",
   "metadata": {},
   "source": [
    "### Q8 Student Answers:\n",
    "> __c)__ The vocabulary size (number of distinct words) of our training data. \n",
    "\n",
    "> __d)__ Option (1) We would get the extra information by performing EDA on our train data; Option (2) To avoid situation where there could be potentially large volume of partial counts for each word in memory.\n",
    "- Option (1): it is not ideal in that everytime we run on a different set of training data, we need to redo our EDA and get the vocabulary size;\n",
    "- Option (2): it takes longer time to run compared to Option 1. \n",
    "\n",
    "> __e)__ I choose option (1) - perform EDA on train data to get our vocabulary size, because it is easier and faster. \n"
   ]
  },
  {
   "cell_type": "code",
   "execution_count": 51,
   "metadata": {},
   "outputs": [
    {
     "name": "stdout",
     "output_type": "stream",
     "text": [
      "=========== MAPPER DOCSTRING ============\n",
      "Mapper reads in text documents and emits word counts by class.\n",
      "INPUT:                                                    \n",
      "    DocID \\t true_class \\t subject \\t body                \n",
      "OUTPUT:                                                   \n",
      "    word \\t class0_partialCount,class1_partialCount       \n",
      "    \n",
      "=========== REDUCER DOCSTRING ============\n",
      "Reducer aggregates word counts by class and emits frequencies.\n",
      "INPUT:\n",
      "    word \\t class0_partialCount,class1_partialCount\n",
      "OUTPUT:\n",
      "    word \\t ham_count,spam_count,P(ham|word),P(spam|word)\n",
      "    \n"
     ]
    }
   ],
   "source": [
    "# part a - do your work in train_mapper.py and train_reducer.py then RUN THIS CELL AS IS\n",
    "!chmod a+x NaiveBayes/train_mapper.py\n",
    "!chmod a+x NaiveBayes/train_reducer.py\n",
    "!echo \"=========== MAPPER DOCSTRING ============\"\n",
    "!head -n 8 NaiveBayes/train_mapper.py | tail -n 6\n",
    "!echo \"=========== REDUCER DOCSTRING ============\"\n",
    "!head -n 8 NaiveBayes/train_reducer.py | tail -n 6"
   ]
  },
  {
   "cell_type": "markdown",
   "metadata": {},
   "source": [
    "__`part b starts here`:__ MNB _without_ Smoothing (training on Chinese Example Corpus)."
   ]
  },
  {
   "cell_type": "code",
   "execution_count": 53,
   "metadata": {},
   "outputs": [
    {
     "name": "stdout",
     "output_type": "stream",
     "text": [
      "chinese\t0,1\n",
      "beijing\t0,1\n",
      "chinese\t0,1\n",
      "chinese\t0,1\n",
      "chinese\t0,1\n",
      "shanghai\t0,1\n",
      "chinese\t0,1\n",
      "macao\t0,1\n",
      "tokyo\t1,0\n",
      "japan\t1,0\n",
      "chinese\t1,0\n",
      "*docTotals\t1,3\n",
      "*wordTotals\t3,8\n"
     ]
    }
   ],
   "source": [
    "# part b - write a unit test for your mapper here\n",
    "!cat NaiveBayes/chineseTrain.txt | NaiveBayes/train_mapper.py"
   ]
  },
  {
   "cell_type": "code",
   "execution_count": 54,
   "metadata": {},
   "outputs": [
    {
     "name": "stdout",
     "output_type": "stream",
     "text": [
      "japan\t1.0,0.0,0.3333333333333333,0.0\n",
      "chinese\t0.0,5.0,0.0,0.625\n",
      "beijing\t0.0,1.0,0.0,0.125\n",
      "shanghai\t0.0,1.0,0.0,0.125\n",
      "macao\t0.0,1.0,0.0,0.125\n",
      "tokyo\t1.0,0.0,0.3333333333333333,0.0\n",
      "ClassPriors\t1.0,3.0,0.25,0.75\n"
     ]
    }
   ],
   "source": [
    "# part b - write a unit test for your reducer here\n",
    "!echo -e \"*docTotals\\t1,3\\n*wordTotals\\t3,8\\njapan\\t1,0\\nchinese\\t0,1\\nchinese\\t0,1\\nchinese\\t0,1\\nchinese\\t0,1\\nchinese\\t0,1\\nbeijing\\t0,1\\nshanghai\\t0,1\\nmacao\\t0,1\\ntokyo\\t1,0\" | NaiveBayes/train_reducer.py"
   ]
  },
  {
   "cell_type": "code",
   "execution_count": 55,
   "metadata": {},
   "outputs": [
    {
     "name": "stdout",
     "output_type": "stream",
     "text": [
      "beijing\t0.0,1.0,0.0,0.125\n",
      "chinese\t1.0,5.0,0.3333333333333333,0.625\n",
      "japan\t1.0,0.0,0.3333333333333333,0.0\n",
      "macao\t0.0,1.0,0.0,0.125\n",
      "shanghai\t0.0,1.0,0.0,0.125\n",
      "tokyo\t1.0,0.0,0.3333333333333333,0.0\n",
      "ClassPriors\t1.0,3.0,0.25,0.75\n"
     ]
    }
   ],
   "source": [
    "# part b - write a systems test for your mapper + reducer together here\n",
    "!cat NaiveBayes/chineseTrain.txt | NaiveBayes/train_mapper.py | sort | NaiveBayes/train_reducer.py"
   ]
  },
  {
   "cell_type": "code",
   "execution_count": 56,
   "metadata": {},
   "outputs": [
    {
     "name": "stdout",
     "output_type": "stream",
     "text": [
      "Deleted /user/root/HW2/nbModel-output\n"
     ]
    }
   ],
   "source": [
    "# part b - clear (and name) an output directory in HDFS for your unsmoothed chinese NB model\n",
    "!hdfs dfs -rm -r {HDFS_DIR}/nbModel-output"
   ]
  },
  {
   "cell_type": "code",
   "execution_count": 57,
   "metadata": {},
   "outputs": [
    {
     "name": "stdout",
     "output_type": "stream",
     "text": [
      "packageJobJar: [] [/usr/lib/hadoop-mapreduce/hadoop-streaming-2.6.0-cdh5.15.1.jar] /tmp/streamjob8649631958262128303.jar tmpDir=null\n",
      "19/09/16 18:24:33 INFO client.RMProxy: Connecting to ResourceManager at /0.0.0.0:8032\n",
      "19/09/16 18:24:33 INFO client.RMProxy: Connecting to ResourceManager at /0.0.0.0:8032\n",
      "19/09/16 18:24:34 INFO mapred.FileInputFormat: Total input paths to process : 1\n",
      "19/09/16 18:24:34 INFO mapreduce.JobSubmitter: number of splits:2\n",
      "19/09/16 18:24:34 INFO mapreduce.JobSubmitter: Submitting tokens for job: job_1567779136510_0047\n",
      "19/09/16 18:24:35 INFO impl.YarnClientImpl: Submitted application application_1567779136510_0047\n",
      "19/09/16 18:24:35 INFO mapreduce.Job: The url to track the job: http://docker.w261:8088/proxy/application_1567779136510_0047/\n",
      "19/09/16 18:24:35 INFO mapreduce.Job: Running job: job_1567779136510_0047\n",
      "19/09/16 18:24:44 INFO mapreduce.Job: Job job_1567779136510_0047 running in uber mode : false\n",
      "19/09/16 18:24:44 INFO mapreduce.Job:  map 0% reduce 0%\n",
      "19/09/16 18:24:53 INFO mapreduce.Job:  map 100% reduce 0%\n",
      "19/09/16 18:25:00 INFO mapreduce.Job:  map 100% reduce 100%\n",
      "19/09/16 18:25:00 INFO mapreduce.Job: Job job_1567779136510_0047 completed successfully\n",
      "19/09/16 18:25:01 INFO mapreduce.Job: Counters: 49\n",
      "\tFile System Counters\n",
      "\t\tFILE: Number of bytes read=225\n",
      "\t\tFILE: Number of bytes written=448934\n",
      "\t\tFILE: Number of read operations=0\n",
      "\t\tFILE: Number of large read operations=0\n",
      "\t\tFILE: Number of write operations=0\n",
      "\t\tHDFS: Number of bytes read=387\n",
      "\t\tHDFS: Number of bytes written=222\n",
      "\t\tHDFS: Number of read operations=9\n",
      "\t\tHDFS: Number of large read operations=0\n",
      "\t\tHDFS: Number of write operations=2\n",
      "\tJob Counters \n",
      "\t\tLaunched map tasks=2\n",
      "\t\tLaunched reduce tasks=1\n",
      "\t\tData-local map tasks=2\n",
      "\t\tTotal time spent by all maps in occupied slots (ms)=12421\n",
      "\t\tTotal time spent by all reduces in occupied slots (ms)=4718\n",
      "\t\tTotal time spent by all map tasks (ms)=12421\n",
      "\t\tTotal time spent by all reduce tasks (ms)=4718\n",
      "\t\tTotal vcore-milliseconds taken by all map tasks=12421\n",
      "\t\tTotal vcore-milliseconds taken by all reduce tasks=4718\n",
      "\t\tTotal megabyte-milliseconds taken by all map tasks=12719104\n",
      "\t\tTotal megabyte-milliseconds taken by all reduce tasks=4831232\n",
      "\tMap-Reduce Framework\n",
      "\t\tMap input records=4\n",
      "\t\tMap output records=15\n",
      "\t\tMap output bytes=189\n",
      "\t\tMap output materialized bytes=231\n",
      "\t\tInput split bytes=228\n",
      "\t\tCombine input records=0\n",
      "\t\tCombine output records=0\n",
      "\t\tReduce input groups=8\n",
      "\t\tReduce shuffle bytes=231\n",
      "\t\tReduce input records=15\n",
      "\t\tReduce output records=7\n",
      "\t\tSpilled Records=30\n",
      "\t\tShuffled Maps =2\n",
      "\t\tFailed Shuffles=0\n",
      "\t\tMerged Map outputs=2\n",
      "\t\tGC time elapsed (ms)=96\n",
      "\t\tCPU time spent (ms)=2210\n",
      "\t\tPhysical memory (bytes) snapshot=786743296\n",
      "\t\tVirtual memory (bytes) snapshot=4106661888\n",
      "\t\tTotal committed heap usage (bytes)=578289664\n",
      "\tShuffle Errors\n",
      "\t\tBAD_ID=0\n",
      "\t\tCONNECTION=0\n",
      "\t\tIO_ERROR=0\n",
      "\t\tWRONG_LENGTH=0\n",
      "\t\tWRONG_MAP=0\n",
      "\t\tWRONG_REDUCE=0\n",
      "\tFile Input Format Counters \n",
      "\t\tBytes Read=159\n",
      "\tFile Output Format Counters \n",
      "\t\tBytes Written=222\n",
      "19/09/16 18:25:01 INFO streaming.StreamJob: Output directory: /user/root/HW2/nbModel-output\n"
     ]
    }
   ],
   "source": [
    "# part b - write your hadoop streaming job\n",
    "!hadoop jar {JAR_FILE} \\\n",
    "  -files NaiveBayes/train_mapper.py,NaiveBayes/train_reducer.py \\\n",
    "  -mapper train_mapper.py \\\n",
    "  -reducer train_reducer.py \\\n",
    "  -input {HDFS_DIR}/chineseTrain.txt \\\n",
    "  -output {HDFS_DIR}/nbModel-output \\\n",
    "  -cmdenv PATH={PATH}"
   ]
  },
  {
   "cell_type": "code",
   "execution_count": 58,
   "metadata": {},
   "outputs": [],
   "source": [
    "# part b - extract your results (i.e. model) to a local file\n",
    "!hdfs dfs -cat {HDFS_DIR}/nbModel-output/part-000* > NaiveBayes/UnsmoothNBModel.txt"
   ]
  },
  {
   "cell_type": "code",
   "execution_count": 59,
   "metadata": {},
   "outputs": [
    {
     "name": "stdout",
     "output_type": "stream",
     "text": [
      "beijing      0.0,1.0,0.0,0.125\n",
      "chinese      1.0,5.0,0.3333333333333333,0.625\n",
      "japan        1.0,0.0,0.3333333333333333,0.0\n",
      "macao        0.0,1.0,0.0,0.125\n",
      "shanghai     0.0,1.0,0.0,0.125\n",
      "tokyo        1.0,0.0,0.3333333333333333,0.0\n",
      "ClassPriors  1.0,3.0,0.25,0.75\n"
     ]
    }
   ],
   "source": [
    "# part b - print your model so that we can confirm that it matches expected results\n",
    "!cat NaiveBayes/UnsmoothNBModel.txt | column -t"
   ]
  },
  {
   "cell_type": "code",
   "execution_count": 60,
   "metadata": {},
   "outputs": [
    {
     "name": "stdout",
     "output_type": "stream",
     "text": [
      "D1\t1\t\tChinese Beijing Chinese\n",
      "D2\t1\t\tChinese Chinese Shanghai\n",
      "D3\t1\t\tChinese Macao\n",
      "D4\t0\t\tTokyo Japan Chinese"
     ]
    }
   ],
   "source": [
    "!cat NaiveBayes/chineseTrain.txt"
   ]
  },
  {
   "cell_type": "markdown",
   "metadata": {},
   "source": [
    "__`part e starts here`:__ MNB _with_ Smoothing (training on Chinese Example Corpus)."
   ]
  },
  {
   "cell_type": "code",
   "execution_count": 61,
   "metadata": {},
   "outputs": [
    {
     "name": "stdout",
     "output_type": "stream",
     "text": [
      "japan\t1.0,0.0,0.2222222222222222,0.07142857142857142\n",
      "chinese\t0.0,5.0,0.1111111111111111,0.42857142857142855\n",
      "beijing\t0.0,1.0,0.1111111111111111,0.14285714285714285\n",
      "shanghai\t0.0,1.0,0.1111111111111111,0.14285714285714285\n",
      "macao\t0.0,1.0,0.1111111111111111,0.14285714285714285\n",
      "tokyo\t1.0,0.0,0.2222222222222222,0.07142857142857142\n",
      "ClassPriors\t1.0,3.0,0.25,0.75\n"
     ]
    }
   ],
   "source": [
    "# part e - write a unit test for your NEW reducer here\n",
    "!chmod a+x NaiveBayes/train_reducer_smooth.py \n",
    "# Please note that originally provided codes have been modified \n",
    "# to make sure its output match with the input format of model_sort_mapper \n",
    "!echo -e \"*docTotals\\t1,3\\n*wordTotals\\t3,8\\njapan\\t1,0\\nchinese\\t0,1\\nchinese\\t0,1\\nchinese\\t0,1\\nchinese\\t0,1\\nchinese\\t0,1\\nbeijing\\t0,1\\nshanghai\\t0,1\\nmacao\\t0,1\\ntokyo\\t1,0\" | NaiveBayes/train_reducer_smooth.py"
   ]
  },
  {
   "cell_type": "code",
   "execution_count": 62,
   "metadata": {},
   "outputs": [
    {
     "name": "stdout",
     "output_type": "stream",
     "text": [
      "beijing\t0.0,1.0,0.1111111111111111,0.14285714285714285\n",
      "chinese\t1.0,5.0,0.2222222222222222,0.42857142857142855\n",
      "japan\t1.0,0.0,0.2222222222222222,0.07142857142857142\n",
      "macao\t0.0,1.0,0.1111111111111111,0.14285714285714285\n",
      "shanghai\t0.0,1.0,0.1111111111111111,0.14285714285714285\n",
      "tokyo\t1.0,0.0,0.2222222222222222,0.07142857142857142\n",
      "ClassPriors\t1.0,3.0,0.25,0.75\n"
     ]
    }
   ],
   "source": [
    "# part e - write a systems test for your mapper + reducer together here\n",
    "!cat NaiveBayes/chineseTrain.txt | NaiveBayes/train_mapper.py | sort | NaiveBayes/train_reducer_smooth.py"
   ]
  },
  {
   "cell_type": "code",
   "execution_count": 63,
   "metadata": {},
   "outputs": [
    {
     "name": "stdout",
     "output_type": "stream",
     "text": [
      "Deleted /user/root/HW2/nbModelSmooth-output\n"
     ]
    }
   ],
   "source": [
    "# part e - clear (and name) an output directory in HDFS for your SMOOTHED chinese NB model\n",
    "!hdfs dfs -rm -r {HDFS_DIR}/nbModelSmooth-output"
   ]
  },
  {
   "cell_type": "code",
   "execution_count": 64,
   "metadata": {},
   "outputs": [
    {
     "name": "stdout",
     "output_type": "stream",
     "text": [
      "packageJobJar: [] [/usr/lib/hadoop-mapreduce/hadoop-streaming-2.6.0-cdh5.15.1.jar] /tmp/streamjob6746295891128481139.jar tmpDir=null\n",
      "19/09/16 18:27:43 INFO client.RMProxy: Connecting to ResourceManager at /0.0.0.0:8032\n",
      "19/09/16 18:27:43 INFO client.RMProxy: Connecting to ResourceManager at /0.0.0.0:8032\n",
      "19/09/16 18:27:44 INFO mapred.FileInputFormat: Total input paths to process : 1\n",
      "19/09/16 18:27:44 INFO mapreduce.JobSubmitter: number of splits:2\n",
      "19/09/16 18:27:44 INFO mapreduce.JobSubmitter: Submitting tokens for job: job_1567779136510_0048\n",
      "19/09/16 18:27:44 INFO impl.YarnClientImpl: Submitted application application_1567779136510_0048\n",
      "19/09/16 18:27:44 INFO mapreduce.Job: The url to track the job: http://docker.w261:8088/proxy/application_1567779136510_0048/\n",
      "19/09/16 18:27:44 INFO mapreduce.Job: Running job: job_1567779136510_0048\n",
      "19/09/16 18:27:53 INFO mapreduce.Job: Job job_1567779136510_0048 running in uber mode : false\n",
      "19/09/16 18:27:53 INFO mapreduce.Job:  map 0% reduce 0%\n",
      "19/09/16 18:28:02 INFO mapreduce.Job:  map 100% reduce 0%\n",
      "19/09/16 18:28:09 INFO mapreduce.Job:  map 100% reduce 100%\n",
      "19/09/16 18:28:09 INFO mapreduce.Job: Job job_1567779136510_0048 completed successfully\n",
      "19/09/16 18:28:09 INFO mapreduce.Job: Counters: 49\n",
      "\tFile System Counters\n",
      "\t\tFILE: Number of bytes read=225\n",
      "\t\tFILE: Number of bytes written=449057\n",
      "\t\tFILE: Number of read operations=0\n",
      "\t\tFILE: Number of large read operations=0\n",
      "\t\tFILE: Number of write operations=0\n",
      "\t\tHDFS: Number of bytes read=387\n",
      "\t\tHDFS: Number of bytes written=355\n",
      "\t\tHDFS: Number of read operations=9\n",
      "\t\tHDFS: Number of large read operations=0\n",
      "\t\tHDFS: Number of write operations=2\n",
      "\tJob Counters \n",
      "\t\tLaunched map tasks=2\n",
      "\t\tLaunched reduce tasks=1\n",
      "\t\tData-local map tasks=2\n",
      "\t\tTotal time spent by all maps in occupied slots (ms)=13192\n",
      "\t\tTotal time spent by all reduces in occupied slots (ms)=5081\n",
      "\t\tTotal time spent by all map tasks (ms)=13192\n",
      "\t\tTotal time spent by all reduce tasks (ms)=5081\n",
      "\t\tTotal vcore-milliseconds taken by all map tasks=13192\n",
      "\t\tTotal vcore-milliseconds taken by all reduce tasks=5081\n",
      "\t\tTotal megabyte-milliseconds taken by all map tasks=13508608\n",
      "\t\tTotal megabyte-milliseconds taken by all reduce tasks=5202944\n",
      "\tMap-Reduce Framework\n",
      "\t\tMap input records=4\n",
      "\t\tMap output records=15\n",
      "\t\tMap output bytes=189\n",
      "\t\tMap output materialized bytes=231\n",
      "\t\tInput split bytes=228\n",
      "\t\tCombine input records=0\n",
      "\t\tCombine output records=0\n",
      "\t\tReduce input groups=8\n",
      "\t\tReduce shuffle bytes=231\n",
      "\t\tReduce input records=15\n",
      "\t\tReduce output records=7\n",
      "\t\tSpilled Records=30\n",
      "\t\tShuffled Maps =2\n",
      "\t\tFailed Shuffles=0\n",
      "\t\tMerged Map outputs=2\n",
      "\t\tGC time elapsed (ms)=106\n",
      "\t\tCPU time spent (ms)=2270\n",
      "\t\tPhysical memory (bytes) snapshot=748822528\n",
      "\t\tVirtual memory (bytes) snapshot=4131807232\n",
      "\t\tTotal committed heap usage (bytes)=536870912\n",
      "\tShuffle Errors\n",
      "\t\tBAD_ID=0\n",
      "\t\tCONNECTION=0\n",
      "\t\tIO_ERROR=0\n",
      "\t\tWRONG_LENGTH=0\n",
      "\t\tWRONG_MAP=0\n",
      "\t\tWRONG_REDUCE=0\n",
      "\tFile Input Format Counters \n",
      "\t\tBytes Read=159\n",
      "\tFile Output Format Counters \n",
      "\t\tBytes Written=355\n",
      "19/09/16 18:28:09 INFO streaming.StreamJob: Output directory: /user/root/HW2/nbModelSmooth-output\n"
     ]
    }
   ],
   "source": [
    "# part e - write your hadoop streaming job\n",
    "!hadoop jar {JAR_FILE} \\\n",
    "  -files NaiveBayes/train_mapper.py,NaiveBayes/train_reducer_smooth.py \\\n",
    "  -mapper train_mapper.py \\\n",
    "  -reducer train_reducer_smooth.py \\\n",
    "  -input {HDFS_DIR}/chineseTrain.txt \\\n",
    "  -output {HDFS_DIR}/nbModelSmooth-output \\\n",
    "  -cmdenv PATH={PATH}"
   ]
  },
  {
   "cell_type": "code",
   "execution_count": 65,
   "metadata": {},
   "outputs": [
    {
     "name": "stdout",
     "output_type": "stream",
     "text": [
      "beijing      0.0,1.0,0.1111111111111111,0.14285714285714285\n",
      "chinese      1.0,5.0,0.2222222222222222,0.42857142857142855\n",
      "japan        1.0,0.0,0.2222222222222222,0.07142857142857142\n",
      "macao        0.0,1.0,0.1111111111111111,0.14285714285714285\n",
      "shanghai     0.0,1.0,0.1111111111111111,0.14285714285714285\n",
      "tokyo        1.0,0.0,0.2222222222222222,0.07142857142857142\n",
      "ClassPriors  1.0,3.0,0.25,0.75\n"
     ]
    }
   ],
   "source": [
    "# part e - extract your results (i.e. model) to a local file\n",
    "!hdfs dfs -cat {HDFS_DIR}/nbModelSmooth-output/part-000* > NaiveBayes/SmoothNBModel.txt\n",
    "!cat NaiveBayes/SmoothNBModel.txt | column -t"
   ]
  },
  {
   "cell_type": "markdown",
   "metadata": {},
   "source": [
    "# Question 9: Enron Ham/Spam NB Classifier & Results.\n",
    "\n",
    "Fantastic work. We're finally ready to perform Spam Classification on the Enron Corpus. In this question you'll run the analysis you've developed, report its performance, and draw some conclusions.\n",
    "\n",
    "### Q9 Tasks:\n",
    "* __a) train/test split:__ Run the provided code to split our Enron file into a training set and testing set then load them into HDFS. \n",
    "\n",
    "[`NOTE:` _Make sure you re calculate the vocab size for just the training set!_]\n",
    "\n",
    "* __b) train 2 models:__ Write Hadoop Streaming jobs to train MNB Models on the training set with and without smoothing. Save your models to local files at __`NaiveBayes/Unsmoothed/NBmodel.txt`__ and __`NaiveBayes/Smoothed/NBmodel.txt`__. [`NOTE:` _This naming is important because we wrote our classification task so that it expects a file of that name... if this inelegance frustrates you there is an alternative that would involve a few adjustments to your code [read more about it here](http://www.tnoda.com/blog/2013-11-23)._] Finally run the checks that we provide to confirm that your results are correct.\n",
    "\n",
    "\n",
    "* __c) code:__ Recall that we designed our classification job with just a mapper. An efficient way to report the performance of our models would be to simply add a reducer phase to this job and compute precision and recall right there. Complete the code in __`NaiveBayes/evaluation_reducer.py`__ and then write Hadoop jobs to evaluate your two models on the test set. Report their performance side by side. [`NOTE:` if you need a refresher on precision, recall and F1-score [Wikipedia](https://en.wikipedia.org/wiki/F1_score) is a good resource.]\n",
    "\n",
    "\n",
    "* __d) short response:__ Compare the performance of your two models. What do you notice about the unsmoothed model's predictions? Can you guess why this is happening? Which evaluation measure do you think is most relevant in our use case? [`NOTE:` _Feel free to answer using your common sense but if you want more information on evaluating the classification task checkout_ [this blogpost](https://tryolabs.com/blog/2013/03/25/why-accuracy-alone-bad-measure-classification-tasks-and-what-we-can-do-about-it/\n",
    ") or [this paper](http://www.flinders.edu.au/science_engineering/fms/School-CSEM/publications/tech_reps-research_artfcts/TRRA_2007.pdf\n",
    ")]\n",
    "\n",
    "\n",
    "* __e) code + short response:__ Let's look at the top ten words with the highest conditional probability in `Spam` and in `Ham`. We'll do this by writing a Hadoop job that sorts the model file (`NaiveBayes/Smoothed/NBmodel.py`). Normally we'd have to run two jobs -- one that sorts on $P(word|ham)$ and another that sorts on $P(word|spam)$. However if we slighly modify the data format in the model file then we can get the top words in each class with just one job. We've written a mapper that will do just this for you. Read through __`NaiveBayes/model_sort_mapper.py`__ and then briefly explain how this mapper will allow us to partition and sort our model file. Write a Hadoop job that uses our mapper and `/bin/cat` for a reducer to partition and sort. Print out the top 10 words in each class (where 'top' == highest conditional probability).[`HINT:` _this should remind you a lot of what we did in Question 6._]\n",
    "\n",
    "\n",
    "* __f) short response:__ What do you notice about the 'top words' we printed in `e`? How would increasing the smoothing parameter 'k' affect the probabilities for the top words that you identified for 'e'. How would they affect the probabilities of words that occur much more in one class than another? In summary, how does the smoothing parameter 'k' affect the bias and the variance of our model. [`NOTE:` _you do not need to code anything for this task, but if you are struggling with it you could try changing 'k' and see what happens to the test set. We don't recommend doing this exploration with the Enron data because it will be harder to see the impact with such a big vocabulary_]"
   ]
  },
  {
   "cell_type": "markdown",
   "metadata": {},
   "source": [
    "### Q9 Student Answers:\n",
    "> __d)__ A lot of the unsmoothed results end up with `-inf` probability for both Spam and Ham classes, which makes it hard to evaluate exactly which class to be predict. I think it is caused by words in test data that are unseen in train data. Without smoothing, the conditional probabilities would be zero, which leads to `-inf` for the log probabilities in our prediction results. In our case, I think the counts of TP, TN, FP and FN are most relevant, because from these counts we can see that the unsmoothed model seems to always predict 'negative' (TN and FN numbers are high). Recall that in our `classify_mapper.py`, we set the prediction rule as `if logpHam >= logpSpam: pred_class = 0; else: pred_class = 1`, since we have a lot of `-inf` in our log probabilities in our test cases based off unsmoothed model, most documents would be end up as negative in our predictions.  \n",
    "\n",
    "> __e)__ Please note that the __NaiveBayes/model_sort_mapper.py__ has been modified to fix bugs in the results. This mapper adds two new fields to our model file: the first is the predicted class (`maxClass`), and the second one is the higher conditional probability (`maxClassP`). This mapper partitions on the predicted class such that 'ham' records go to one reducer and 'spam' records go to the other one. Then the hadoop job uses the second field `maxClassP` to sort the records within each reducer.   \n",
    "\n",
    "> __f)__ I notice that the 'top words' printed in __e__ for both classes are some common words from which we cannot really tell the whether it is a spam or not. Increasing the smoothing parameter k will generally cause the conditional probabilities in each class to be closer to each other. Therefore, it will have a larger effect on words that occcured much more in one class than the other. In other words increasing k reduces the variance of our model and thus make our model more generalizable. However, it could increase the bias of our model because as k increases our predictions are more likely to reflect the Class Priors."
   ]
  },
  {
   "cell_type": "markdown",
   "metadata": {},
   "source": [
    "__Test/Train split__"
   ]
  },
  {
   "cell_type": "code",
   "execution_count": 66,
   "metadata": {},
   "outputs": [
    {
     "name": "stdout",
     "output_type": "stream",
     "text": [
      "copyFromLocal: `/user/root/HW2/enron_train.txt': File exists\n",
      "copyFromLocal: `/user/root/HW2/enron_test.txt': File exists\n"
     ]
    }
   ],
   "source": [
    "# part a - test/train split (RUN THIS CELL AS IS)\n",
    "!head -n 80 data/enronemail_1h.txt > data/enron_train.txt\n",
    "!tail -n 20 data/enronemail_1h.txt > data/enron_test.txt\n",
    "!hdfs dfs -copyFromLocal data/enron_train.txt {HDFS_DIR}\n",
    "!hdfs dfs -copyFromLocal data/enron_test.txt {HDFS_DIR}"
   ]
  },
  {
   "cell_type": "markdown",
   "metadata": {},
   "source": [
    "__Training__ (Enron MNB Model _without smoothing_ )"
   ]
  },
  {
   "cell_type": "code",
   "execution_count": 67,
   "metadata": {},
   "outputs": [
    {
     "name": "stdout",
     "output_type": "stream",
     "text": [
      "Deleted /user/root/HW2/enron-model\n",
      "packageJobJar: [] [/usr/lib/hadoop-mapreduce/hadoop-streaming-2.6.0-cdh5.15.1.jar] /tmp/streamjob7868480982661916812.jar tmpDir=null\n",
      "19/09/16 18:44:39 INFO client.RMProxy: Connecting to ResourceManager at /0.0.0.0:8032\n",
      "19/09/16 18:44:40 INFO client.RMProxy: Connecting to ResourceManager at /0.0.0.0:8032\n",
      "19/09/16 18:44:41 INFO mapred.FileInputFormat: Total input paths to process : 1\n",
      "19/09/16 18:44:41 INFO mapreduce.JobSubmitter: number of splits:2\n",
      "19/09/16 18:44:41 INFO mapreduce.JobSubmitter: Submitting tokens for job: job_1567779136510_0049\n",
      "19/09/16 18:44:41 INFO impl.YarnClientImpl: Submitted application application_1567779136510_0049\n",
      "19/09/16 18:44:41 INFO mapreduce.Job: The url to track the job: http://docker.w261:8088/proxy/application_1567779136510_0049/\n",
      "19/09/16 18:44:41 INFO mapreduce.Job: Running job: job_1567779136510_0049\n",
      "19/09/16 18:44:50 INFO mapreduce.Job: Job job_1567779136510_0049 running in uber mode : false\n",
      "19/09/16 18:44:50 INFO mapreduce.Job:  map 0% reduce 0%\n",
      "19/09/16 18:44:59 INFO mapreduce.Job:  map 50% reduce 0%\n",
      "19/09/16 18:45:00 INFO mapreduce.Job:  map 100% reduce 0%\n",
      "19/09/16 18:45:09 INFO mapreduce.Job:  map 100% reduce 100%\n",
      "19/09/16 18:45:09 INFO mapreduce.Job: Job job_1567779136510_0049 completed successfully\n",
      "19/09/16 18:45:09 INFO mapreduce.Job: Counters: 49\n",
      "\tFile System Counters\n",
      "\t\tFILE: Number of bytes read=293420\n",
      "\t\tFILE: Number of bytes written=1035312\n",
      "\t\tFILE: Number of read operations=0\n",
      "\t\tFILE: Number of large read operations=0\n",
      "\t\tFILE: Number of write operations=0\n",
      "\t\tHDFS: Number of bytes read=167388\n",
      "\t\tHDFS: Number of bytes written=205147\n",
      "\t\tHDFS: Number of read operations=9\n",
      "\t\tHDFS: Number of large read operations=0\n",
      "\t\tHDFS: Number of write operations=2\n",
      "\tJob Counters \n",
      "\t\tLaunched map tasks=2\n",
      "\t\tLaunched reduce tasks=1\n",
      "\t\tData-local map tasks=2\n",
      "\t\tTotal time spent by all maps in occupied slots (ms)=13784\n",
      "\t\tTotal time spent by all reduces in occupied slots (ms)=6536\n",
      "\t\tTotal time spent by all map tasks (ms)=13784\n",
      "\t\tTotal time spent by all reduce tasks (ms)=6536\n",
      "\t\tTotal vcore-milliseconds taken by all map tasks=13784\n",
      "\t\tTotal vcore-milliseconds taken by all reduce tasks=6536\n",
      "\t\tTotal megabyte-milliseconds taken by all map tasks=14114816\n",
      "\t\tTotal megabyte-milliseconds taken by all reduce tasks=6692864\n",
      "\tMap-Reduce Framework\n",
      "\t\tMap input records=80\n",
      "\t\tMap output records=25071\n",
      "\t\tMap output bytes=243272\n",
      "\t\tMap output materialized bytes=293426\n",
      "\t\tInput split bytes=226\n",
      "\t\tCombine input records=0\n",
      "\t\tCombine output records=0\n",
      "\t\tReduce input groups=4557\n",
      "\t\tReduce shuffle bytes=293426\n",
      "\t\tReduce input records=25071\n",
      "\t\tReduce output records=4556\n",
      "\t\tSpilled Records=50142\n",
      "\t\tShuffled Maps =2\n",
      "\t\tFailed Shuffles=0\n",
      "\t\tMerged Map outputs=2\n",
      "\t\tGC time elapsed (ms)=91\n",
      "\t\tCPU time spent (ms)=4130\n",
      "\t\tPhysical memory (bytes) snapshot=719560704\n",
      "\t\tVirtual memory (bytes) snapshot=4117745664\n",
      "\t\tTotal committed heap usage (bytes)=535298048\n",
      "\tShuffle Errors\n",
      "\t\tBAD_ID=0\n",
      "\t\tCONNECTION=0\n",
      "\t\tIO_ERROR=0\n",
      "\t\tWRONG_LENGTH=0\n",
      "\t\tWRONG_MAP=0\n",
      "\t\tWRONG_REDUCE=0\n",
      "\tFile Input Format Counters \n",
      "\t\tBytes Read=167162\n",
      "\tFile Output Format Counters \n",
      "\t\tBytes Written=205147\n",
      "19/09/16 18:45:09 INFO streaming.StreamJob: Output directory: /user/root/HW2/enron-model\n",
      "mkdir: cannot create directory `NaiveBayes/Unsmoothed': File exists\n"
     ]
    }
   ],
   "source": [
    "# part b -  Unsmoothed model (FILL IN THE MISSING CODE BELOW)\n",
    "\n",
    "# clear the output directory\n",
    "!hdfs dfs -rm -r {HDFS_DIR}/enron-model\n",
    "\n",
    "# hadoop command\n",
    "!hadoop jar {JAR_FILE} \\\n",
    "  -files NaiveBayes/train_mapper.py,NaiveBayes/train_reducer.py \\\n",
    "  -mapper train_mapper.py \\\n",
    "  -reducer train_reducer.py \\\n",
    "  -input {HDFS_DIR}/enron_train.txt \\\n",
    "  -output {HDFS_DIR}/enron-model \\\n",
    "  -cmdenv PATH={PATH}\n",
    "\n",
    "# save the model locally\n",
    "!mkdir NaiveBayes/Unsmoothed\n",
    "!hdfs dfs -cat {HDFS_DIR}/enron-model/part-000* > NaiveBayes/Unsmoothed/NBmodel.txt"
   ]
  },
  {
   "cell_type": "code",
   "execution_count": 68,
   "metadata": {},
   "outputs": [
    {
     "name": "stdout",
     "output_type": "stream",
     "text": [
      "assistance\t2.0,4.0,0.0001725476662928134,0.00029682398337785694\n"
     ]
    }
   ],
   "source": [
    "# part b - check your UNSMOOTHED model results (RUN THIS CELL AS IS)\n",
    "!grep assistance NaiveBayes/Unsmoothed/NBmodel.txt\n",
    "# EXPECTED OUTPUT: assistance\t2,4,0.000172547666293,0.000296823983378"
   ]
  },
  {
   "cell_type": "code",
   "execution_count": 69,
   "metadata": {},
   "outputs": [
    {
     "name": "stdout",
     "output_type": "stream",
     "text": [
      "money\t1.0,22.0,8.62738331464067e-05,0.001632531908578213\n"
     ]
    }
   ],
   "source": [
    "# part b - check your UNSMOOTHED model results (RUN THIS CELL AS IS)\n",
    "!grep money NaiveBayes/Unsmoothed/NBmodel.txt\n",
    "# EXPECTED OUTPUT: money\t1,22,8.62738331464e-05,0.00163253190858"
   ]
  },
  {
   "cell_type": "markdown",
   "metadata": {},
   "source": [
    "__Training__ (Enron MNB Model _with Laplace +1 smoothing_ )"
   ]
  },
  {
   "cell_type": "code",
   "execution_count": 72,
   "metadata": {},
   "outputs": [
    {
     "name": "stdout",
     "output_type": "stream",
     "text": [
      "Deleted /user/root/HW2/smooth-model\n",
      "packageJobJar: [] [/usr/lib/hadoop-mapreduce/hadoop-streaming-2.6.0-cdh5.15.1.jar] /tmp/streamjob8244645361734375559.jar tmpDir=null\n",
      "19/09/16 18:50:35 INFO client.RMProxy: Connecting to ResourceManager at /0.0.0.0:8032\n",
      "19/09/16 18:50:35 INFO client.RMProxy: Connecting to ResourceManager at /0.0.0.0:8032\n",
      "19/09/16 18:50:36 INFO mapred.FileInputFormat: Total input paths to process : 1\n",
      "19/09/16 18:50:37 INFO mapreduce.JobSubmitter: number of splits:2\n",
      "19/09/16 18:50:37 INFO mapreduce.JobSubmitter: Submitting tokens for job: job_1567779136510_0051\n",
      "19/09/16 18:50:37 INFO impl.YarnClientImpl: Submitted application application_1567779136510_0051\n",
      "19/09/16 18:50:37 INFO mapreduce.Job: The url to track the job: http://docker.w261:8088/proxy/application_1567779136510_0051/\n",
      "19/09/16 18:50:37 INFO mapreduce.Job: Running job: job_1567779136510_0051\n",
      "19/09/16 18:50:45 INFO mapreduce.Job: Job job_1567779136510_0051 running in uber mode : false\n",
      "19/09/16 18:50:45 INFO mapreduce.Job:  map 0% reduce 0%\n",
      "19/09/16 18:50:54 INFO mapreduce.Job:  map 50% reduce 0%\n",
      "19/09/16 18:50:55 INFO mapreduce.Job:  map 100% reduce 0%\n",
      "19/09/16 18:51:03 INFO mapreduce.Job:  map 100% reduce 100%\n",
      "19/09/16 18:51:03 INFO mapreduce.Job: Job job_1567779136510_0051 completed successfully\n",
      "19/09/16 18:51:03 INFO mapreduce.Job: Counters: 49\n",
      "\tFile System Counters\n",
      "\t\tFILE: Number of bytes read=293420\n",
      "\t\tFILE: Number of bytes written=1035420\n",
      "\t\tFILE: Number of read operations=0\n",
      "\t\tFILE: Number of large read operations=0\n",
      "\t\tFILE: Number of write operations=0\n",
      "\t\tHDFS: Number of bytes read=167388\n",
      "\t\tHDFS: Number of bytes written=272396\n",
      "\t\tHDFS: Number of read operations=9\n",
      "\t\tHDFS: Number of large read operations=0\n",
      "\t\tHDFS: Number of write operations=2\n",
      "\tJob Counters \n",
      "\t\tLaunched map tasks=2\n",
      "\t\tLaunched reduce tasks=1\n",
      "\t\tData-local map tasks=2\n",
      "\t\tTotal time spent by all maps in occupied slots (ms)=14601\n",
      "\t\tTotal time spent by all reduces in occupied slots (ms)=5619\n",
      "\t\tTotal time spent by all map tasks (ms)=14601\n",
      "\t\tTotal time spent by all reduce tasks (ms)=5619\n",
      "\t\tTotal vcore-milliseconds taken by all map tasks=14601\n",
      "\t\tTotal vcore-milliseconds taken by all reduce tasks=5619\n",
      "\t\tTotal megabyte-milliseconds taken by all map tasks=14951424\n",
      "\t\tTotal megabyte-milliseconds taken by all reduce tasks=5753856\n",
      "\tMap-Reduce Framework\n",
      "\t\tMap input records=80\n",
      "\t\tMap output records=25071\n",
      "\t\tMap output bytes=243272\n",
      "\t\tMap output materialized bytes=293426\n",
      "\t\tInput split bytes=226\n",
      "\t\tCombine input records=0\n",
      "\t\tCombine output records=0\n",
      "\t\tReduce input groups=4557\n",
      "\t\tReduce shuffle bytes=293426\n",
      "\t\tReduce input records=25071\n",
      "\t\tReduce output records=4556\n",
      "\t\tSpilled Records=50142\n",
      "\t\tShuffled Maps =2\n",
      "\t\tFailed Shuffles=0\n",
      "\t\tMerged Map outputs=2\n",
      "\t\tGC time elapsed (ms)=122\n",
      "\t\tCPU time spent (ms)=4250\n",
      "\t\tPhysical memory (bytes) snapshot=772530176\n",
      "\t\tVirtual memory (bytes) snapshot=4122537984\n",
      "\t\tTotal committed heap usage (bytes)=575668224\n",
      "\tShuffle Errors\n",
      "\t\tBAD_ID=0\n",
      "\t\tCONNECTION=0\n",
      "\t\tIO_ERROR=0\n",
      "\t\tWRONG_LENGTH=0\n",
      "\t\tWRONG_MAP=0\n",
      "\t\tWRONG_REDUCE=0\n",
      "\tFile Input Format Counters \n",
      "\t\tBytes Read=167162\n",
      "\tFile Output Format Counters \n",
      "\t\tBytes Written=272396\n",
      "19/09/16 18:51:03 INFO streaming.StreamJob: Output directory: /user/root/HW2/smooth-model\n",
      "mkdir: cannot create directory `NaiveBayes/Smoothed': File exists\n"
     ]
    }
   ],
   "source": [
    "# part b -  Smoothed model (FILL IN THE MISSING CODE BELOW)\n",
    "\n",
    "# clear the output directory\n",
    "!hdfs dfs -rm -r {HDFS_DIR}/smooth-model\n",
    "\n",
    "# hadoop command\n",
    "!hadoop jar {JAR_FILE} \\\n",
    "  -files NaiveBayes/train_mapper.py,NaiveBayes/train_reducer_smooth.py \\\n",
    "  -mapper train_mapper.py \\\n",
    "  -reducer train_reducer_smooth.py \\\n",
    "  -input {HDFS_DIR}/enron_train.txt \\\n",
    "  -output {HDFS_DIR}/smooth-model \\\n",
    "  -cmdenv PATH={PATH}\n",
    "\n",
    "# save the model locally\n",
    "!mkdir NaiveBayes/Smoothed\n",
    "!hdfs dfs -cat {HDFS_DIR}/smooth-model/part-000* > NaiveBayes/Smoothed/NBmodel.txt"
   ]
  },
  {
   "cell_type": "code",
   "execution_count": 73,
   "metadata": {},
   "outputs": [
    {
     "name": "stdout",
     "output_type": "stream",
     "text": [
      "assistance\t2.0,4.0,0.0001858045336306206,0.00027730020520215184\n"
     ]
    }
   ],
   "source": [
    "# part b - check your SMOOTHED model results (RUN THIS CELL AS IS)\n",
    "!grep assistance NaiveBayes/Smoothed/NBmodel.txt\n",
    "# EXPECTED OUTPUT: assistance\t2,4,0.000185804533631,0.000277300205202"
   ]
  },
  {
   "cell_type": "code",
   "execution_count": 74,
   "metadata": {},
   "outputs": [
    {
     "name": "stdout",
     "output_type": "stream",
     "text": [
      "money\t1.0,22.0,0.0001238696890870804,0.0012755809439298986\n"
     ]
    }
   ],
   "source": [
    "# part b - check your SMOOTHED model results (RUN THIS CELL AS IS)\n",
    "!grep money NaiveBayes/Smoothed/NBmodel.txt\n",
    "# EXPECTED OUTPUT: money\t1,22,0.000123869689087,0.00127558094393"
   ]
  },
  {
   "cell_type": "markdown",
   "metadata": {},
   "source": [
    "__Evaluation__"
   ]
  },
  {
   "cell_type": "code",
   "execution_count": 75,
   "metadata": {},
   "outputs": [],
   "source": [
    "# part c - write your code in NaiveBayes/evaluation_reducer.py then RUN THIS\n",
    "!chmod a+x NaiveBayes/evaluation_reducer.py"
   ]
  },
  {
   "cell_type": "code",
   "execution_count": 76,
   "metadata": {},
   "outputs": [
    {
     "name": "stdout",
     "output_type": "stream",
     "text": [
      "d5\t1\t-8.90668134500626\t-8.10769031284611\t1\n",
      "d6\t1\t-5.780743515794329\t-4.179502370564408\t1\n",
      "d7\t0\t-6.591673732011658\t-7.511706880737812\t0\n",
      "d8\t0\t-4.394449154674438\t-5.565796731681498\t0\n",
      "d5\t1\t-8.90668134500626\t-8.10769031284611\t True\n",
      "d6\t1\t-5.780743515794329\t-4.179502370564408\t True\n",
      "d7\t0\t-6.591673732011658\t-7.511706880737812\t True\n",
      "d8\t0\t-4.394449154674438\t-5.565796731681498\t True\n",
      "Total # Documents: \t4.0\n",
      "True Positives: \t2.0\n",
      "True Negatives: \t2.0\n",
      "False Positives: \t0.0\n",
      "False Negatives: \t0.0\n",
      "Accuracy: \t1.0\n",
      "Precision: \t1.0\n",
      "Recall: \t1.0\n",
      "F-Score: \t1.0\n"
     ]
    }
   ],
   "source": [
    "# part c - unit test your evaluation job on the chinese model (RUN THIS CELL AS IS)\n",
    "!cat NaiveBayes/chineseTest.txt | NaiveBayes/classify_mapper.py \n",
    "!cat NaiveBayes/chineseTest.txt | NaiveBayes/classify_mapper.py | NaiveBayes/evaluation_reducer.py"
   ]
  },
  {
   "cell_type": "code",
   "execution_count": 77,
   "metadata": {},
   "outputs": [
    {
     "name": "stdout",
     "output_type": "stream",
     "text": [
      "Deleted /user/root/HW2/unsmooth-results\n",
      "packageJobJar: [] [/usr/lib/hadoop-mapreduce/hadoop-streaming-2.6.0-cdh5.15.1.jar] /tmp/streamjob7657827792592327386.jar tmpDir=null\n",
      "19/09/16 18:53:22 INFO client.RMProxy: Connecting to ResourceManager at /0.0.0.0:8032\n",
      "19/09/16 18:53:22 INFO client.RMProxy: Connecting to ResourceManager at /0.0.0.0:8032\n",
      "19/09/16 18:53:24 INFO mapred.FileInputFormat: Total input paths to process : 1\n",
      "19/09/16 18:53:24 INFO mapreduce.JobSubmitter: number of splits:2\n",
      "19/09/16 18:53:24 INFO mapreduce.JobSubmitter: Submitting tokens for job: job_1567779136510_0052\n",
      "19/09/16 18:53:24 INFO impl.YarnClientImpl: Submitted application application_1567779136510_0052\n",
      "19/09/16 18:53:24 INFO mapreduce.Job: The url to track the job: http://docker.w261:8088/proxy/application_1567779136510_0052/\n",
      "19/09/16 18:53:24 INFO mapreduce.Job: Running job: job_1567779136510_0052\n",
      "19/09/16 18:53:33 INFO mapreduce.Job: Job job_1567779136510_0052 running in uber mode : false\n",
      "19/09/16 18:53:33 INFO mapreduce.Job:  map 0% reduce 0%\n",
      "19/09/16 18:53:41 INFO mapreduce.Job:  map 50% reduce 0%\n",
      "19/09/16 18:53:42 INFO mapreduce.Job:  map 100% reduce 0%\n",
      "19/09/16 18:53:49 INFO mapreduce.Job:  map 100% reduce 100%\n",
      "19/09/16 18:53:49 INFO mapreduce.Job: Job job_1567779136510_0052 completed successfully\n",
      "19/09/16 18:53:49 INFO mapreduce.Job: Counters: 49\n",
      "\tFile System Counters\n",
      "\t\tFILE: Number of bytes read=818\n",
      "\t\tFILE: Number of bytes written=451278\n",
      "\t\tFILE: Number of read operations=0\n",
      "\t\tFILE: Number of large read operations=0\n",
      "\t\tFILE: Number of write operations=0\n",
      "\t\tHDFS: Number of bytes read=49909\n",
      "\t\tHDFS: Number of bytes written=1064\n",
      "\t\tHDFS: Number of read operations=9\n",
      "\t\tHDFS: Number of large read operations=0\n",
      "\t\tHDFS: Number of write operations=2\n",
      "\tJob Counters \n",
      "\t\tLaunched map tasks=2\n",
      "\t\tLaunched reduce tasks=1\n",
      "\t\tData-local map tasks=2\n",
      "\t\tTotal time spent by all maps in occupied slots (ms)=12738\n",
      "\t\tTotal time spent by all reduces in occupied slots (ms)=4832\n",
      "\t\tTotal time spent by all map tasks (ms)=12738\n",
      "\t\tTotal time spent by all reduce tasks (ms)=4832\n",
      "\t\tTotal vcore-milliseconds taken by all map tasks=12738\n",
      "\t\tTotal vcore-milliseconds taken by all reduce tasks=4832\n",
      "\t\tTotal megabyte-milliseconds taken by all map tasks=13043712\n",
      "\t\tTotal megabyte-milliseconds taken by all reduce tasks=4947968\n",
      "\tMap-Reduce Framework\n",
      "\t\tMap input records=20\n",
      "\t\tMap output records=20\n",
      "\t\tMap output bytes=772\n",
      "\t\tMap output materialized bytes=824\n",
      "\t\tInput split bytes=224\n",
      "\t\tCombine input records=0\n",
      "\t\tCombine output records=0\n",
      "\t\tReduce input groups=20\n",
      "\t\tReduce shuffle bytes=824\n",
      "\t\tReduce input records=20\n",
      "\t\tReduce output records=29\n",
      "\t\tSpilled Records=40\n",
      "\t\tShuffled Maps =2\n",
      "\t\tFailed Shuffles=0\n",
      "\t\tMerged Map outputs=2\n",
      "\t\tGC time elapsed (ms)=117\n",
      "\t\tCPU time spent (ms)=2230\n",
      "\t\tPhysical memory (bytes) snapshot=723595264\n",
      "\t\tVirtual memory (bytes) snapshot=4131774464\n",
      "\t\tTotal committed heap usage (bytes)=545783808\n",
      "\tShuffle Errors\n",
      "\t\tBAD_ID=0\n",
      "\t\tCONNECTION=0\n",
      "\t\tIO_ERROR=0\n",
      "\t\tWRONG_LENGTH=0\n",
      "\t\tWRONG_MAP=0\n",
      "\t\tWRONG_REDUCE=0\n",
      "\tFile Input Format Counters \n",
      "\t\tBytes Read=49685\n",
      "\tFile Output Format Counters \n",
      "\t\tBytes Written=1064\n",
      "19/09/16 18:53:49 INFO streaming.StreamJob: Output directory: /user/root/HW2/unsmooth-results\n"
     ]
    }
   ],
   "source": [
    "# part c - Evaluate the UNSMOOTHED Model Here (FILL IN THE MISSING CODE)\n",
    "\n",
    "# clear output directory\n",
    "!hdfs dfs -rm -r {HDFS_DIR}/unsmooth-results\n",
    "\n",
    "# hadoop job\n",
    "!hadoop jar {JAR_FILE} \\\n",
    "  -files NaiveBayes/classify_mapper.py,NaiveBayes/evaluation_reducer.py,NaiveBayes/Unsmoothed/NBmodel.txt \\\n",
    "  -mapper classify_mapper.py \\\n",
    "  -reducer evaluation_reducer.py \\\n",
    "  -input {HDFS_DIR}/enron_test.txt \\\n",
    "  -output {HDFS_DIR}/unsmooth-results \\\n",
    "  -cmdenv PATH={PATH}\n",
    "\n",
    "# retrieve results locally\n",
    "!hdfs dfs -cat {HDFS_DIR}/unsmooth-results/part-000* > NaiveBayes/Unsmoothed/results.txt\n"
   ]
  },
  {
   "cell_type": "code",
   "execution_count": 78,
   "metadata": {},
   "outputs": [
    {
     "name": "stdout",
     "output_type": "stream",
     "text": [
      "Deleted /user/root/HW2/smooth-results\n",
      "packageJobJar: [] [/usr/lib/hadoop-mapreduce/hadoop-streaming-2.6.0-cdh5.15.1.jar] /tmp/streamjob3233415577370136875.jar tmpDir=null\n",
      "19/09/16 18:54:15 INFO client.RMProxy: Connecting to ResourceManager at /0.0.0.0:8032\n",
      "19/09/16 18:54:16 INFO client.RMProxy: Connecting to ResourceManager at /0.0.0.0:8032\n",
      "19/09/16 18:54:17 INFO mapred.FileInputFormat: Total input paths to process : 1\n",
      "19/09/16 18:54:17 INFO mapreduce.JobSubmitter: number of splits:2\n",
      "19/09/16 18:54:17 INFO mapreduce.JobSubmitter: Submitting tokens for job: job_1567779136510_0053\n",
      "19/09/16 18:54:17 INFO impl.YarnClientImpl: Submitted application application_1567779136510_0053\n",
      "19/09/16 18:54:17 INFO mapreduce.Job: The url to track the job: http://docker.w261:8088/proxy/application_1567779136510_0053/\n",
      "19/09/16 18:54:17 INFO mapreduce.Job: Running job: job_1567779136510_0053\n",
      "19/09/16 18:54:25 INFO mapreduce.Job: Job job_1567779136510_0053 running in uber mode : false\n",
      "19/09/16 18:54:25 INFO mapreduce.Job:  map 0% reduce 0%\n",
      "19/09/16 18:54:35 INFO mapreduce.Job:  map 50% reduce 0%\n",
      "19/09/16 18:54:36 INFO mapreduce.Job:  map 100% reduce 0%\n",
      "19/09/16 18:54:42 INFO mapreduce.Job:  map 100% reduce 100%\n",
      "19/09/16 18:54:43 INFO mapreduce.Job: Job job_1567779136510_0053 completed successfully\n",
      "19/09/16 18:54:43 INFO mapreduce.Job: Counters: 49\n",
      "\tFile System Counters\n",
      "\t\tFILE: Number of bytes read=1349\n",
      "\t\tFILE: Number of bytes written=452328\n",
      "\t\tFILE: Number of read operations=0\n",
      "\t\tFILE: Number of large read operations=0\n",
      "\t\tFILE: Number of write operations=0\n",
      "\t\tHDFS: Number of bytes read=49909\n",
      "\t\tHDFS: Number of bytes written=1573\n",
      "\t\tHDFS: Number of read operations=9\n",
      "\t\tHDFS: Number of large read operations=0\n",
      "\t\tHDFS: Number of write operations=2\n",
      "\tJob Counters \n",
      "\t\tLaunched map tasks=2\n",
      "\t\tLaunched reduce tasks=1\n",
      "\t\tData-local map tasks=2\n",
      "\t\tTotal time spent by all maps in occupied slots (ms)=12341\n",
      "\t\tTotal time spent by all reduces in occupied slots (ms)=4823\n",
      "\t\tTotal time spent by all map tasks (ms)=12341\n",
      "\t\tTotal time spent by all reduce tasks (ms)=4823\n",
      "\t\tTotal vcore-milliseconds taken by all map tasks=12341\n",
      "\t\tTotal vcore-milliseconds taken by all reduce tasks=4823\n",
      "\t\tTotal megabyte-milliseconds taken by all map tasks=12637184\n",
      "\t\tTotal megabyte-milliseconds taken by all reduce tasks=4938752\n",
      "\tMap-Reduce Framework\n",
      "\t\tMap input records=20\n",
      "\t\tMap output records=20\n",
      "\t\tMap output bytes=1303\n",
      "\t\tMap output materialized bytes=1355\n",
      "\t\tInput split bytes=224\n",
      "\t\tCombine input records=0\n",
      "\t\tCombine output records=0\n",
      "\t\tReduce input groups=20\n",
      "\t\tReduce shuffle bytes=1355\n",
      "\t\tReduce input records=20\n",
      "\t\tReduce output records=29\n",
      "\t\tSpilled Records=40\n",
      "\t\tShuffled Maps =2\n",
      "\t\tFailed Shuffles=0\n",
      "\t\tMerged Map outputs=2\n",
      "\t\tGC time elapsed (ms)=105\n",
      "\t\tCPU time spent (ms)=2140\n",
      "\t\tPhysical memory (bytes) snapshot=796352512\n",
      "\t\tVirtual memory (bytes) snapshot=4117176320\n",
      "\t\tTotal committed heap usage (bytes)=577765376\n",
      "\tShuffle Errors\n",
      "\t\tBAD_ID=0\n",
      "\t\tCONNECTION=0\n",
      "\t\tIO_ERROR=0\n",
      "\t\tWRONG_LENGTH=0\n",
      "\t\tWRONG_MAP=0\n",
      "\t\tWRONG_REDUCE=0\n",
      "\tFile Input Format Counters \n",
      "\t\tBytes Read=49685\n",
      "\tFile Output Format Counters \n",
      "\t\tBytes Written=1573\n",
      "19/09/16 18:54:43 INFO streaming.StreamJob: Output directory: /user/root/HW2/smooth-results\n"
     ]
    }
   ],
   "source": [
    "# part c - Evaluate the SMOOTHED Model Here (FILL IN THE MISSING CODE)\n",
    "\n",
    "# clear output directory\n",
    "!hdfs dfs -rm -r {HDFS_DIR}/smooth-results\n",
    "\n",
    "# hadoop job\n",
    "!hadoop jar {JAR_FILE} \\\n",
    "  -files NaiveBayes/classify_mapper.py,NaiveBayes/evaluation_reducer.py,NaiveBayes/Smoothed/NBmodel.txt \\\n",
    "  -mapper classify_mapper.py \\\n",
    "  -reducer evaluation_reducer.py \\\n",
    "  -input {HDFS_DIR}/enron_test.txt \\\n",
    "  -output {HDFS_DIR}/smooth-results \\\n",
    "  -cmdenv PATH={PATH}\n",
    "\n",
    "# retrieve results locally\n",
    "!hdfs dfs -cat {HDFS_DIR}/smooth-results/part-000* > NaiveBayes/Smoothed/results.txt"
   ]
  },
  {
   "cell_type": "code",
   "execution_count": 79,
   "metadata": {},
   "outputs": [
    {
     "name": "stdout",
     "output_type": "stream",
     "text": [
      "=========== UNSMOOTHED MODEL ============\n",
      "Total # Documents: \t20.0\n",
      "True Positives: \t1.0\n",
      "True Negatives: \t9.0\n",
      "False Positives: \t0.0\n",
      "False Negatives: \t10.0\n",
      "Accuracy: \t0.5\n",
      "Precision: \t1.0\n",
      "Recall: \t0.09090909090909091\n",
      "F-Score: \t0.16666666666666669\n",
      "=========== SMOOTHED MODEL ============\n",
      "Total # Documents: \t20.0\n",
      "True Positives: \t11.0\n",
      "True Negatives: \t6.0\n",
      "False Positives: \t3.0\n",
      "False Negatives: \t0.0\n",
      "Accuracy: \t0.85\n",
      "Precision: \t0.7857142857142857\n",
      "Recall: \t1.0\n",
      "F-Score: \t0.88\n"
     ]
    }
   ],
   "source": [
    "# part c - display results \n",
    "# NOTE: feel free to modify the tail commands to match the format of your results file\n",
    "print('=========== UNSMOOTHED MODEL ============')\n",
    "!tail -n 9 NaiveBayes/Unsmoothed/results.txt\n",
    "print('=========== SMOOTHED MODEL ============')\n",
    "!tail -n 9 NaiveBayes/Smoothed/results.txt"
   ]
  },
  {
   "cell_type": "markdown",
   "metadata": {},
   "source": [
    "__`EXPECTED RESULTS:`__ \n",
    "<table>\n",
    "<th>Unsmoothed Model</th>\n",
    "<th>Smoothed Model</th>\n",
    "<tr>\n",
    "<td><pre>\n",
    "# Documents:\t20\n",
    "True Positives:\t1\n",
    "True Negatives:\t9\n",
    "False Positives:\t0\n",
    "False Negatives:\t10\n",
    "Accuracy\t0.5\n",
    "Precision\t1.0\n",
    "Recall\t0.0909\n",
    "F-Score\t0.1666\n",
    "</pre></td>\n",
    "<td><pre>\n",
    "# Documents:\t20\n",
    "True Positives:\t11\n",
    "True Negatives:\t6\n",
    "False Positives:\t3\n",
    "False Negatives:\t0\n",
    "Accuracy\t0.85\n",
    "Precision\t0.7857\n",
    "Recall\t1.0\n",
    "F-Score\t0.88\n",
    "</pre></td>\n",
    "</tr>\n",
    "</table>\n",
    "\n",
    "__`NOTE:`__ _Don't be too disappointed if these seem low to you. We've trained and tested on a very very small corpus... bigger datasets coming soon!_\n",
    "\n",
    "__`part e starts here:`__"
   ]
  },
  {
   "cell_type": "code",
   "execution_count": 80,
   "metadata": {},
   "outputs": [
    {
     "name": "stdout",
     "output_type": "stream",
     "text": [
      "Deleted /user/root/HW2/smooth-sort-output\n",
      "packageJobJar: [] [/usr/lib/hadoop-mapreduce/hadoop-streaming-2.6.0-cdh5.15.1.jar] /tmp/streamjob4519484269899639455.jar tmpDir=null\n",
      "19/09/16 18:55:33 INFO client.RMProxy: Connecting to ResourceManager at /0.0.0.0:8032\n",
      "19/09/16 18:55:34 INFO client.RMProxy: Connecting to ResourceManager at /0.0.0.0:8032\n",
      "19/09/16 18:55:35 INFO mapred.FileInputFormat: Total input paths to process : 1\n",
      "19/09/16 18:55:35 INFO mapreduce.JobSubmitter: number of splits:2\n",
      "19/09/16 18:55:35 INFO mapreduce.JobSubmitter: Submitting tokens for job: job_1567779136510_0054\n",
      "19/09/16 18:55:35 INFO impl.YarnClientImpl: Submitted application application_1567779136510_0054\n",
      "19/09/16 18:55:35 INFO mapreduce.Job: The url to track the job: http://docker.w261:8088/proxy/application_1567779136510_0054/\n",
      "19/09/16 18:55:35 INFO mapreduce.Job: Running job: job_1567779136510_0054\n",
      "19/09/16 18:55:43 INFO mapreduce.Job: Job job_1567779136510_0054 running in uber mode : false\n",
      "19/09/16 18:55:43 INFO mapreduce.Job:  map 0% reduce 0%\n",
      "19/09/16 18:55:51 INFO mapreduce.Job:  map 50% reduce 0%\n",
      "19/09/16 18:55:52 INFO mapreduce.Job:  map 100% reduce 0%\n",
      "19/09/16 18:56:02 INFO mapreduce.Job:  map 100% reduce 50%\n",
      "19/09/16 18:56:03 INFO mapreduce.Job:  map 100% reduce 100%\n",
      "19/09/16 18:56:03 INFO mapreduce.Job: Job job_1567779136510_0054 completed successfully\n",
      "19/09/16 18:56:03 INFO mapreduce.Job: Counters: 49\n",
      "\tFile System Counters\n",
      "\t\tFILE: Number of bytes read=427508\n",
      "\t\tFILE: Number of bytes written=1452562\n",
      "\t\tFILE: Number of read operations=0\n",
      "\t\tFILE: Number of large read operations=0\n",
      "\t\tFILE: Number of write operations=0\n",
      "\t\tHDFS: Number of bytes read=276734\n",
      "\t\tHDFS: Number of bytes written=409272\n",
      "\t\tHDFS: Number of read operations=12\n",
      "\t\tHDFS: Number of large read operations=0\n",
      "\t\tHDFS: Number of write operations=4\n",
      "\tJob Counters \n",
      "\t\tLaunched map tasks=2\n",
      "\t\tLaunched reduce tasks=2\n",
      "\t\tData-local map tasks=2\n",
      "\t\tTotal time spent by all maps in occupied slots (ms)=12589\n",
      "\t\tTotal time spent by all reduces in occupied slots (ms)=15256\n",
      "\t\tTotal time spent by all map tasks (ms)=12589\n",
      "\t\tTotal time spent by all reduce tasks (ms)=15256\n",
      "\t\tTotal vcore-milliseconds taken by all map tasks=12589\n",
      "\t\tTotal vcore-milliseconds taken by all reduce tasks=15256\n",
      "\t\tTotal megabyte-milliseconds taken by all map tasks=12891136\n",
      "\t\tTotal megabyte-milliseconds taken by all reduce tasks=15622144\n",
      "\tMap-Reduce Framework\n",
      "\t\tMap input records=4556\n",
      "\t\tMap output records=9112\n",
      "\t\tMap output bytes=409272\n",
      "\t\tMap output materialized bytes=427520\n",
      "\t\tInput split bytes=242\n",
      "\t\tCombine input records=0\n",
      "\t\tCombine output records=0\n",
      "\t\tReduce input groups=4557\n",
      "\t\tReduce shuffle bytes=427520\n",
      "\t\tReduce input records=9112\n",
      "\t\tReduce output records=9112\n",
      "\t\tSpilled Records=18224\n",
      "\t\tShuffled Maps =4\n",
      "\t\tFailed Shuffles=0\n",
      "\t\tMerged Map outputs=4\n",
      "\t\tGC time elapsed (ms)=151\n",
      "\t\tCPU time spent (ms)=5340\n",
      "\t\tPhysical memory (bytes) snapshot=952168448\n",
      "\t\tVirtual memory (bytes) snapshot=5514481664\n",
      "\t\tTotal committed heap usage (bytes)=669515776\n",
      "\tShuffle Errors\n",
      "\t\tBAD_ID=0\n",
      "\t\tCONNECTION=0\n",
      "\t\tIO_ERROR=0\n",
      "\t\tWRONG_LENGTH=0\n",
      "\t\tWRONG_MAP=0\n",
      "\t\tWRONG_REDUCE=0\n",
      "\tFile Input Format Counters \n",
      "\t\tBytes Read=276492\n",
      "\tFile Output Format Counters \n",
      "\t\tBytes Written=409272\n",
      "19/09/16 18:56:03 INFO streaming.StreamJob: Output directory: /user/root/HW2/smooth-sort-output\n"
     ]
    }
   ],
   "source": [
    "# part e - write your Hadoop job here (sort smoothed model on P(word|class))\n",
    "\n",
    "# clear output directory\n",
    "!hdfs dfs -rm -r {HDFS_DIR}/smooth-sort-output\n",
    "\n",
    "# hadoop job\n",
    "!hadoop jar {JAR_FILE} \\\n",
    "  -D stream.num.map.output.key.fields=4 \\\n",
    "  -D mapreduce.job.output.key.comparator.class=org.apache.hadoop.mapred.lib.KeyFieldBasedComparator \\\n",
    "  -D mapreduce.partition.keypartitioner.options=\"-k2,2\" \\\n",
    "  -D mapreduce.partition.keycomparator.options=\"-k3,3nr\" \\\n",
    "  -files NaiveBayes/model_sort_mapper.py \\\n",
    "  -mapper model_sort_mapper.py \\\n",
    "  -partitioner org.apache.hadoop.mapred.lib.KeyFieldBasedPartitioner \\\n",
    "  -input {HDFS_DIR}/smooth-model \\\n",
    "  -output {HDFS_DIR}/smooth-sort-output \\\n",
    "  -numReduceTasks 2 \\\n",
    "  -cmdenv PATH={PATH}\n"
   ]
  },
  {
   "cell_type": "code",
   "execution_count": 81,
   "metadata": {},
   "outputs": [
    {
     "name": "stdout",
     "output_type": "stream",
     "text": [
      "\n",
      "===== part-00000=====\n",
      "\n",
      "ClassPriors\tham\t0.5875\t47.0,33.0,0.5875,0.4125\t\n",
      "ect\tham\t0.023473306082001735\t378.0,0.0,0.023473306082001735,5.546004104043037e-05\t\n",
      "and\tham\t0.01604112473677691\t258.0,277.0,0.01604112473677691,0.015417891409239643\t\n",
      "hou\tham\t0.0126347082868822\t203.0,0.0,0.0126347082868822,5.546004104043037e-05\t\n",
      "in\tham\t0.009971509971509971\t160.0,157.0,0.009971509971509971,0.008762686484387999\t\n",
      "for\tham\t0.00922829183698749\t148.0,153.0,0.00922829183698749,0.008540846320226277\t\n",
      "on\tham\t0.007617985878855444\t122.0,95.0,0.007617985878855444,0.005324163939881316\t\n",
      "enron\tham\t0.007246376811594203\t116.0,0.0,0.007246376811594203,5.546004104043037e-05\t\n",
      "i\tham\t0.007060572277963582\t113.0,106.0,0.007060572277963582,0.00593422439132605\t\n",
      "will\tham\t0.007060572277963582\t113.0,69.0,0.007060572277963582,0.003882202872830126\t\n",
      "cat: Unable to write to output stream.\n",
      "\n",
      "===== part-00001=====\n",
      "\n",
      "the\tspam\t0.029726581997670677\t453.0,535.0,0.02811841942276725,0.029726581997670677\t\n",
      "to\tspam\t0.023348677278021184\t350.0,420.0,0.021739130434782608,0.023348677278021184\t\n",
      "a\tspam\t0.015251511286118352\t168.0,274.0,0.010466988727858293,0.015251511286118352\t\n",
      "your\tspam\t0.01508513116299706\t35.0,271.0,0.002229654403567447,0.01508513116299706\t\n",
      "of\tspam\t0.014031390383228884\t188.0,252.0,0.011705685618729096,0.014031390383228884\t\n",
      "you\tspam\t0.014031390383228884\t80.0,252.0,0.005016722408026756,0.014031390383228884\t\n",
      "it\tspam\t0.0066552049248516446\t30.0,119.0,0.0019199801808497462,0.0066552049248516446\t\n",
      "com\tspam\t0.006045144473406911\t74.0,108.0,0.004645113340765515,0.006045144473406911\t\n",
      "that\tspam\t0.005601464145083467\t71.0,100.0,0.004459308807134894,0.005601464145083467\t\n",
      "or\tspam\t0.004935943652598303\t41.0,88.0,0.002601263470828688,0.004935943652598303\t\n",
      "cat: Unable to write to output stream.\n"
     ]
    }
   ],
   "source": [
    "# part e - print top words in each class\n",
    "for idx in range(2):\n",
    "    print(f\"\\n===== part-0000{idx}=====\\n\")\n",
    "    !hdfs dfs -cat {HDFS_DIR}/smooth-sort-output/part-0000{idx} | head"
   ]
  },
  {
   "cell_type": "markdown",
   "metadata": {},
   "source": [
    "### Congratulations, you have completed HW2! Please refer to the readme for submission instructions.\n",
    "\n",
    "If you would like to provide feedback regarding this homework, please use the survey at: https://docs.google.com/forms/d/1S3P9be24hLspAAPuXINUgMae1v-pUZrmDRmTQ2cwPo0/edit"
   ]
  },
  {
   "cell_type": "code",
   "execution_count": null,
   "metadata": {},
   "outputs": [],
   "source": []
  }
 ],
 "metadata": {
  "kernelspec": {
   "display_name": "Python 3",
   "language": "python",
   "name": "python3"
  },
  "language_info": {
   "codemirror_mode": {
    "name": "ipython",
    "version": 3
   },
   "file_extension": ".py",
   "mimetype": "text/x-python",
   "name": "python",
   "nbconvert_exporter": "python",
   "pygments_lexer": "ipython3",
   "version": "3.6.6"
  }
 },
 "nbformat": 4,
 "nbformat_minor": 2
}
