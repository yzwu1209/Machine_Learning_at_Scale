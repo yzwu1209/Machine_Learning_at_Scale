{
 "cells": [
  {
   "cell_type": "markdown",
   "metadata": {},
   "source": [
    "# Apriori algorithm using Spark RDDs\n",
    "__`MIDS w261: Machine Learning at Scale | UC Berkeley School of Information | Fall 2019`__\n",
    "\n",
    "This exercise is based on Chapter 6 in Mining of Massive Data Sets by Jure Leskovec, Anand Rajaraman, and Jeffrey D. Ullman    \n",
    "*(Credit for sections 2-5 goes to Elle Proust, w261 Spring 2019)*    "
   ]
  },
  {
   "cell_type": "markdown",
   "metadata": {},
   "source": [
    "## 1. Introduction\n",
    "* Read Chapter 6 in MMDS.   \n",
    "* Please list other sources you've found helpful in completing this assignment."
   ]
  },
  {
   "cell_type": "markdown",
   "metadata": {},
   "source": [
    "### Summary of Chapter 6, pg.236\n",
    "* __Market-Basket Data__: This model of data assumes there are two kinds of\n",
    "entities: items and baskets. There is a many–many relationship between\n",
    "items and baskets. Typically, baskets are related to small sets of items,\n",
    "while items may be related to many baskets.\n",
    "* __Frequent Itemsets__: The support for a set of items is the number of baskets\n",
    "containing all those items. Itemsets with support that is at least some\n",
    "threshold are called frequent itemsets.\n",
    "* __Association Rules__: These are implications that if a basket contains a\n",
    "certain set of items I, then it is likely to contain another particular item\n",
    "j as well. The probability that j is also in a basket containing I is called\n",
    "the confidence of the rule. The interest of the rule is the amount by which\n",
    "the confidence deviates from the fraction of all baskets that contain j."
   ]
  },
  {
   "cell_type": "markdown",
   "metadata": {},
   "source": [
    "<img src=\"Frequent-itemsets.png\">"
   ]
  },
  {
   "cell_type": "markdown",
   "metadata": {},
   "source": [
    "## Notebook setup"
   ]
  },
  {
   "cell_type": "code",
   "execution_count": 18,
   "metadata": {},
   "outputs": [],
   "source": [
    "# imports\n",
    "import re\n",
    "import ast\n",
    "import time\n",
    "import numpy as np\n",
    "import pandas as pd\n",
    "import seaborn as sns\n",
    "import networkx as nx\n",
    "import matplotlib.pyplot as plt\n",
    "import tarfile\n",
    "import itertools"
   ]
  },
  {
   "cell_type": "code",
   "execution_count": 19,
   "metadata": {},
   "outputs": [],
   "source": [
    "%reload_ext autoreload\n",
    "%autoreload 2"
   ]
  },
  {
   "cell_type": "code",
   "execution_count": 20,
   "metadata": {},
   "outputs": [],
   "source": [
    "PWD = !pwd\n",
    "PWD = PWD[0]"
   ]
  },
  {
   "cell_type": "code",
   "execution_count": 21,
   "metadata": {},
   "outputs": [],
   "source": [
    "from pyspark.sql import SparkSession\n",
    "app_name = \"Apriori\"\n",
    "master = \"local[*]\"\n",
    "spark = SparkSession\\\n",
    "        .builder\\\n",
    "        .appName(app_name)\\\n",
    "        .master(master)\\\n",
    "        .getOrCreate()\n",
    "sc = spark.sparkContext"
   ]
  },
  {
   "cell_type": "markdown",
   "metadata": {},
   "source": [
    "*(Credit for this section goes to Elle Proust, w261 Spring 2019)*    "
   ]
  },
  {
   "cell_type": "markdown",
   "metadata": {},
   "source": [
    "## 2. Toy data set\n",
    "* Each row represents a transaction\n",
    "* Each column represents an item\n",
    "* A `1` indicates whether an item was purchased in that transaction. \n",
    "\n",
    "The 'support' for an individual item is the number of times it has been purchased - the sum of the column. "
   ]
  },
  {
   "cell_type": "code",
   "execution_count": 5,
   "metadata": {},
   "outputs": [
    {
     "data": {
      "text/html": [
       "<div>\n",
       "<style scoped>\n",
       "    .dataframe tbody tr th:only-of-type {\n",
       "        vertical-align: middle;\n",
       "    }\n",
       "\n",
       "    .dataframe tbody tr th {\n",
       "        vertical-align: top;\n",
       "    }\n",
       "\n",
       "    .dataframe thead th {\n",
       "        text-align: right;\n",
       "    }\n",
       "</style>\n",
       "<table border=\"1\" class=\"dataframe\">\n",
       "  <thead>\n",
       "    <tr style=\"text-align: right;\">\n",
       "      <th></th>\n",
       "      <th>chocolate</th>\n",
       "      <th>bread</th>\n",
       "      <th>coffee</th>\n",
       "      <th>wine</th>\n",
       "      <th>diamonds</th>\n",
       "    </tr>\n",
       "    <tr>\n",
       "      <th>transactionID</th>\n",
       "      <th></th>\n",
       "      <th></th>\n",
       "      <th></th>\n",
       "      <th></th>\n",
       "      <th></th>\n",
       "    </tr>\n",
       "  </thead>\n",
       "  <tbody>\n",
       "    <tr>\n",
       "      <th>1</th>\n",
       "      <td>1</td>\n",
       "      <td>1</td>\n",
       "      <td>0</td>\n",
       "      <td>0</td>\n",
       "      <td>0</td>\n",
       "    </tr>\n",
       "    <tr>\n",
       "      <th>2</th>\n",
       "      <td>0</td>\n",
       "      <td>0</td>\n",
       "      <td>1</td>\n",
       "      <td>0</td>\n",
       "      <td>0</td>\n",
       "    </tr>\n",
       "    <tr>\n",
       "      <th>3</th>\n",
       "      <td>0</td>\n",
       "      <td>0</td>\n",
       "      <td>0</td>\n",
       "      <td>1</td>\n",
       "      <td>1</td>\n",
       "    </tr>\n",
       "    <tr>\n",
       "      <th>4</th>\n",
       "      <td>1</td>\n",
       "      <td>1</td>\n",
       "      <td>1</td>\n",
       "      <td>0</td>\n",
       "      <td>0</td>\n",
       "    </tr>\n",
       "    <tr>\n",
       "      <th>5</th>\n",
       "      <td>0</td>\n",
       "      <td>1</td>\n",
       "      <td>0</td>\n",
       "      <td>0</td>\n",
       "      <td>0</td>\n",
       "    </tr>\n",
       "    <tr>\n",
       "      <th>6</th>\n",
       "      <td>1</td>\n",
       "      <td>0</td>\n",
       "      <td>0</td>\n",
       "      <td>0</td>\n",
       "      <td>0</td>\n",
       "    </tr>\n",
       "    <tr>\n",
       "      <th>7</th>\n",
       "      <td>0</td>\n",
       "      <td>0</td>\n",
       "      <td>1</td>\n",
       "      <td>0</td>\n",
       "      <td>0</td>\n",
       "    </tr>\n",
       "    <tr>\n",
       "      <th>8</th>\n",
       "      <td>0</td>\n",
       "      <td>0</td>\n",
       "      <td>0</td>\n",
       "      <td>1</td>\n",
       "      <td>1</td>\n",
       "    </tr>\n",
       "    <tr>\n",
       "      <th>9</th>\n",
       "      <td>1</td>\n",
       "      <td>0</td>\n",
       "      <td>1</td>\n",
       "      <td>0</td>\n",
       "      <td>0</td>\n",
       "    </tr>\n",
       "    <tr>\n",
       "      <th>10</th>\n",
       "      <td>0</td>\n",
       "      <td>0</td>\n",
       "      <td>1</td>\n",
       "      <td>1</td>\n",
       "      <td>0</td>\n",
       "    </tr>\n",
       "  </tbody>\n",
       "</table>\n",
       "</div>"
      ],
      "text/plain": [
       "               chocolate  bread  coffee  wine  diamonds\n",
       "transactionID                                          \n",
       "1                      1      1       0     0         0\n",
       "2                      0      0       1     0         0\n",
       "3                      0      0       0     1         1\n",
       "4                      1      1       1     0         0\n",
       "5                      0      1       0     0         0\n",
       "6                      1      0       0     0         0\n",
       "7                      0      0       1     0         0\n",
       "8                      0      0       0     1         1\n",
       "9                      1      0       1     0         0\n",
       "10                     0      0       1     1         0"
      ]
     },
     "execution_count": 5,
     "metadata": {},
     "output_type": "execute_result"
    }
   ],
   "source": [
    "toy = pd.read_csv('basket-toy.csv', sep =',', index_col = 0)\n",
    "toy"
   ]
  },
  {
   "cell_type": "markdown",
   "metadata": {},
   "source": [
    "Support for each - item - essentially we need to know how many times it is bought:"
   ]
  },
  {
   "cell_type": "code",
   "execution_count": 6,
   "metadata": {},
   "outputs": [
    {
     "data": {
      "text/plain": [
       "chocolate    4\n",
       "bread        3\n",
       "coffee       5\n",
       "wine         3\n",
       "diamonds     2\n",
       "dtype: int64"
      ]
     },
     "execution_count": 6,
     "metadata": {},
     "output_type": "execute_result"
    }
   ],
   "source": [
    "toy.sum(axis = 0)"
   ]
  },
  {
   "cell_type": "markdown",
   "metadata": {},
   "source": [
    "To get the co-occurence - we can just multiply the transactition matrix by its transpose.    \n",
    "* On the diagonal we have the support of the item.\n",
    "* The rest of the cells give us the frequencies of the item pairs."
   ]
  },
  {
   "cell_type": "code",
   "execution_count": 9,
   "metadata": {},
   "outputs": [
    {
     "data": {
      "text/html": [
       "<div>\n",
       "<style scoped>\n",
       "    .dataframe tbody tr th:only-of-type {\n",
       "        vertical-align: middle;\n",
       "    }\n",
       "\n",
       "    .dataframe tbody tr th {\n",
       "        vertical-align: top;\n",
       "    }\n",
       "\n",
       "    .dataframe thead th {\n",
       "        text-align: right;\n",
       "    }\n",
       "</style>\n",
       "<table border=\"1\" class=\"dataframe\">\n",
       "  <thead>\n",
       "    <tr style=\"text-align: right;\">\n",
       "      <th></th>\n",
       "      <th>chocolate</th>\n",
       "      <th>bread</th>\n",
       "      <th>coffee</th>\n",
       "      <th>wine</th>\n",
       "      <th>diamonds</th>\n",
       "    </tr>\n",
       "  </thead>\n",
       "  <tbody>\n",
       "    <tr>\n",
       "      <th>chocolate</th>\n",
       "      <td>4</td>\n",
       "      <td>2</td>\n",
       "      <td>2</td>\n",
       "      <td>0</td>\n",
       "      <td>0</td>\n",
       "    </tr>\n",
       "    <tr>\n",
       "      <th>bread</th>\n",
       "      <td>2</td>\n",
       "      <td>3</td>\n",
       "      <td>1</td>\n",
       "      <td>0</td>\n",
       "      <td>0</td>\n",
       "    </tr>\n",
       "    <tr>\n",
       "      <th>coffee</th>\n",
       "      <td>2</td>\n",
       "      <td>1</td>\n",
       "      <td>5</td>\n",
       "      <td>1</td>\n",
       "      <td>0</td>\n",
       "    </tr>\n",
       "    <tr>\n",
       "      <th>wine</th>\n",
       "      <td>0</td>\n",
       "      <td>0</td>\n",
       "      <td>1</td>\n",
       "      <td>3</td>\n",
       "      <td>2</td>\n",
       "    </tr>\n",
       "    <tr>\n",
       "      <th>diamonds</th>\n",
       "      <td>0</td>\n",
       "      <td>0</td>\n",
       "      <td>0</td>\n",
       "      <td>2</td>\n",
       "      <td>2</td>\n",
       "    </tr>\n",
       "  </tbody>\n",
       "</table>\n",
       "</div>"
      ],
      "text/plain": [
       "           chocolate  bread  coffee  wine  diamonds\n",
       "chocolate          4      2       2     0         0\n",
       "bread              2      3       1     0         0\n",
       "coffee             2      1       5     1         0\n",
       "wine               0      0       1     3         2\n",
       "diamonds           0      0       0     2         2"
      ]
     },
     "execution_count": 9,
     "metadata": {},
     "output_type": "execute_result"
    }
   ],
   "source": [
    "coocc = toy.T.dot(toy)\n",
    "coocc"
   ]
  },
  {
   "cell_type": "markdown",
   "metadata": {},
   "source": [
    "We can see that our most popular pair combinations are __diamonds and wine__, and __chocolate with bread or coffee__ .    \n",
    "Computing things this way would result in a mostly sparse matrix, and would not be scalable if we had many orders of magnitude more transactions and product types. \n"
   ]
  },
  {
   "cell_type": "markdown",
   "metadata": {},
   "source": [
    "## 3. Data & EDA\n",
    "\n",
    "“The Instacart Online Grocery Shopping Dataset 2017”, Accessed from https://www.instacart.com/datasets/grocery-shopping-2017 on 24th of March 2019.       \n",
    "The data dictionary is available at: https://gist.github.com/jeremystan/c3b39d947d9b88b3ccff3147dbcf6c6b   \n",
    "\n",
    "This anonymized dataset contains a sample of over 3 million grocery orders from more than 200,000 Instacart users. The data-set we will use to implement apriori is the order_products set which contains an item for each time a product was ordered, and an ordered ID, allowng us to see what items were purchased in the same transaction. \n",
    "\n",
    "We will also us the products data file to be able to look up which items appear most frequently. \n",
    "\n",
    "## __TASKS__:\n",
    "Run the cells in this section and make sure you understand each step."
   ]
  },
  {
   "cell_type": "code",
   "execution_count": 11,
   "metadata": {},
   "outputs": [
    {
     "name": "stdout",
     "output_type": "stream",
     "text": [
      "--2019-10-19 18:51:17--  https://s3.amazonaws.com/instacart-datasets/instacart_online_grocery_shopping_2017_05_01.tar.gz\n",
      "Resolving s3.amazonaws.com... 52.216.129.109\n",
      "Connecting to s3.amazonaws.com|52.216.129.109|:443... connected.\n",
      "HTTP request sent, awaiting response... 200 OK\n",
      "Length: 205548478 (196M) [application/x-gzip]\n",
      "Saving to: `apriori_data/zipped-data.tar.gz'\n",
      "\n",
      "100%[======================================>] 205,548,478 10.6M/s   in 20s     \n",
      "\n",
      "2019-10-19 18:51:38 (9.67 MB/s) - `apriori_data/zipped-data.tar.gz' saved [205548478/205548478]\n",
      "\n"
     ]
    }
   ],
   "source": [
    "!mkdir apriori_data\n",
    "!wget -O apriori_data/zipped-data.tar.gz https://s3.amazonaws.com/instacart-datasets/instacart_online_grocery_shopping_2017_05_01.tar.gz"
   ]
  },
  {
   "cell_type": "code",
   "execution_count": 15,
   "metadata": {},
   "outputs": [
    {
     "name": "stdout",
     "output_type": "stream",
     "text": [
      "instacart_2017_05_01/\n",
      "instacart_2017_05_01/._aisles.csv\n",
      "instacart_2017_05_01/aisles.csv\n",
      "instacart_2017_05_01/._departments.csv\n",
      "instacart_2017_05_01/departments.csv\n",
      "instacart_2017_05_01/._order_products__prior.csv\n",
      "instacart_2017_05_01/order_products__prior.csv\n",
      "instacart_2017_05_01/._order_products__train.csv\n",
      "instacart_2017_05_01/order_products__train.csv\n",
      "instacart_2017_05_01/._orders.csv\n",
      "instacart_2017_05_01/orders.csv\n",
      "instacart_2017_05_01/._products.csv\n",
      "instacart_2017_05_01/products.csv\n"
     ]
    }
   ],
   "source": [
    "!tar -xzvf apriori_data/zipped-data.tar.gz -C apriori_data"
   ]
  },
  {
   "cell_type": "code",
   "execution_count": 16,
   "metadata": {},
   "outputs": [
    {
     "name": "stdout",
     "output_type": "stream",
     "text": [
      "order_id,product_id,add_to_cart_order,reordered\n",
      "1,49302,1,1\n",
      "1,11109,2,1\n",
      "1,10246,3,0\n",
      "1,49683,4,0\n",
      "1,43633,5,1\n",
      "1,13176,6,0\n",
      "1,47209,7,0\n",
      "1,22035,8,1\n",
      "36,39612,1,0\n"
     ]
    }
   ],
   "source": [
    "## view data\n",
    "!head -n 10 apriori_data/instacart_2017_05_01/order_products__train.csv"
   ]
  },
  {
   "cell_type": "code",
   "execution_count": 23,
   "metadata": {},
   "outputs": [
    {
     "name": "stdout",
     "output_type": "stream",
     "text": [
      "There are 3346084 orders\n",
      "Each item is purc order is: average length 10.107070832650926\n"
     ]
    }
   ],
   "source": [
    "##remove data header and remove extraneous data\n",
    "\n",
    "header = !head -n 1 apriori_data/order_products__train.csv\n",
    "header = header[0]\n",
    "FIELDS =  re.sub('\"', '', header).split(',')\n",
    "\n",
    "## map tuples with (Order Id, Product_ID)\n",
    "trainRDD = sc.textFile('apriori_data/instacart_2017_05_01/order_products__train.csv')\\\n",
    "            .filter(lambda x: x != header)\\\n",
    "            .map(lambda x: (x.split(',')[0], [x.split(',')[1]])).cache()\n",
    "\n",
    "priorRDD = sc.textFile('apriori_data/instacart_2017_05_01/order_products__prior.csv')\\\n",
    "            .filter(lambda x: x != header)\\\n",
    "            .map(lambda x: (x.split(',')[0], [x.split(',')[1]])).cache()\n",
    "\n",
    "fullRDD= priorRDD.union(trainRDD)\n",
    "\n",
    "## group products by order key \n",
    "practiceRDD = trainRDD.reduceByKey(lambda x, y: x+y).cache()\n",
    "\n",
    "orderRDD = fullRDD.reduceByKey(lambda x, y: x+y).cache()\n",
    "\n",
    "## Count number of orders and average length\n",
    "print(\"There are\",orderRDD.count(),\"orders\")\n",
    "\n",
    "average_len = orderRDD.map(lambda x: len(x[1])).mean()\n",
    "print(\"Each item is purc order is: average length\",average_len)"
   ]
  },
  {
   "cell_type": "markdown",
   "metadata": {},
   "source": [
    "We will conduct the rest of the exploratory analysis primarily on the smaller train data set.\n"
   ]
  },
  {
   "cell_type": "code",
   "execution_count": 24,
   "metadata": {},
   "outputs": [
    {
     "name": "stdout",
     "output_type": "stream",
     "text": [
      "total individual item purchased 1384618\n",
      "unique prods in set 39124\n",
      "mean purchase 35.39050199366118\n",
      "max ordered 18726\n"
     ]
    },
    {
     "data": {
      "image/png": "[encoded data removed]",
      "text/plain": [
       "<Figure size 1080x360 with 2 Axes>"
      ]
     },
     "metadata": {},
     "output_type": "display_data"
    }
   ],
   "source": [
    "total_items=trainRDD.count()\n",
    "print(\"total individual item purchased\",total_items)\n",
    "##map by product to order, so product is key, and then \n",
    "inverted_index=trainRDD.map(lambda x : (x[1][0], [x[0]])).reduceByKey(lambda x,y:x+y).cache()\n",
    "print(\"unique prods in set\",inverted_index.count())\n",
    "prod_count=inverted_index.map(lambda x: len(x[1])).collect()\n",
    "prod_count_1=inverted_index.map(lambda x: len(x[1])).filter(lambda x: x > 1 and x <5000).collect()\n",
    "print(\"mean purchase\",total_items/inverted_index.count())\n",
    "print(\"max ordered\",max(prod_count))\n",
    "\n",
    "# set up figure\n",
    "fig, (ax1, ax4) = plt.subplots(1,2, figsize = (15,5))\n",
    "\n",
    "# plot regular hist\n",
    "ax1.hist(prod_count, bins=20, color = 'green')\n",
    "ax1.set_title('Histogram times purchased', color='0.1')\n",
    "ax1.set_facecolor('0.8')\n",
    "ax1.tick_params(axis='both', colors='0.1')\n",
    "ax1.grid(True)\n",
    "\n",
    "\n",
    "# plot log scale hist\n",
    "ax4.hist(prod_count_1, bins=20, color = 'green')\n",
    "ax4.set_title('(log)Frequency of Number of times item purchased', color='0.1')\n",
    "ax4.set_facecolor('0.8')\n",
    "ax4.tick_params(axis='both', colors='0.1')\n",
    "ax4.grid(True)\n",
    "plt.yscale('log')\n",
    "\n",
    "\n",
    "plt.show()"
   ]
  },
  {
   "cell_type": "markdown",
   "metadata": {},
   "source": [
    "We can see most items are purchased very few times, there are only 1000 or so items purchased even a hundred times times."
   ]
  },
  {
   "cell_type": "markdown",
   "metadata": {},
   "source": [
    "## What are the most common Purchases?"
   ]
  },
  {
   "cell_type": "code",
   "execution_count": 35,
   "metadata": {},
   "outputs": [
    {
     "name": "stdout",
     "output_type": "stream",
     "text": [
      "39124  individual products appear in the test data\n"
     ]
    },
    {
     "data": {
      "text/plain": [
       "[('Banana', 18726),\n",
       " ('Bag of Organic Bananas', 15480),\n",
       " ('Organic Strawberries', 10894),\n",
       " ('Organic Baby Spinach', 9784),\n",
       " ('Large Lemon', 8135),\n",
       " ('Organic Avocado', 7409),\n",
       " ('Organic Hass Avocado', 7293),\n",
       " ('Strawberries', 6494),\n",
       " ('Limes', 6033),\n",
       " ('Organic Raspberries', 5546),\n",
       " ('Organic Blueberries', 4966),\n",
       " ('Organic Whole Milk', 4908),\n",
       " ('Organic Cucumber', 4613),\n",
       " ('Organic Zucchini', 4589),\n",
       " ('Organic Yellow Onion', 4290),\n",
       " ('Organic Garlic', 4158),\n",
       " ('Seedless Red Grapes', 4059),\n",
       " ('Asparagus', 3868),\n",
       " ('Organic Grape Tomatoes', 3823),\n",
       " ('Organic Red Onion', 3818)]"
      ]
     },
     "execution_count": 35,
     "metadata": {},
     "output_type": "execute_result"
    }
   ],
   "source": [
    "#practice data\n",
    "initsupportRDD = trainRDD.map(lambda x : (x[1][0], 1)).reduceByKey(lambda x,y:x+y).cache()\n",
    "print(initsupportRDD.count(),' individual products appear in the test data')\n",
    "\n",
    "header_prod = !head -n 1 apriori_data/instacart_2017_05_01/order_products__train.csv\n",
    "\n",
    "prodRDD = sc.textFile('apriori_data/instacart_2017_05_01/products.csv')\\\n",
    "            .filter(lambda x: x != header_prod)\\\n",
    "            .map(lambda x: (x.split(',')[0], x.split(',')[1]))\n",
    "\n",
    "prodRDD.join(initsupportRDD).map(lambda x: (x[1][0], x[1][1])).takeOrdered(20, key=lambda x: - x[1])"
   ]
  },
  {
   "cell_type": "code",
   "execution_count": 36,
   "metadata": {},
   "outputs": [
    {
     "name": "stdout",
     "output_type": "stream",
     "text": [
      "49686  individual products appear in the full data\n"
     ]
    },
    {
     "data": {
      "text/plain": [
       "[('Banana', 491291),\n",
       " ('Bag of Organic Bananas', 394930),\n",
       " ('Organic Strawberries', 275577),\n",
       " ('Organic Baby Spinach', 251705),\n",
       " ('Organic Hass Avocado', 220877),\n",
       " ('Organic Avocado', 184224),\n",
       " ('Large Lemon', 160792),\n",
       " ('Strawberries', 149445),\n",
       " ('Limes', 146660),\n",
       " ('Organic Whole Milk', 142813),\n",
       " ('Organic Raspberries', 142603),\n",
       " ('Organic Yellow Onion', 117716),\n",
       " ('Organic Garlic', 113936),\n",
       " ('Organic Zucchini', 109412),\n",
       " ('Organic Blueberries', 105026),\n",
       " ('Cucumber Kirby', 99728),\n",
       " ('Organic Fuji Apple', 92889),\n",
       " ('Organic Lemon', 91251),\n",
       " ('Organic Grape Tomatoes', 88078),\n",
       " ('Apple Honeycrisp Organic', 87272)]"
      ]
     },
     "execution_count": 36,
     "metadata": {},
     "output_type": "execute_result"
    }
   ],
   "source": [
    "## count orders by product\n",
    "initsupportRDD = fullRDD.map(lambda x : (x[1][0], 1)).reduceByKey(lambda x,y:x+y).cache()\n",
    "print(initsupportRDD.count(),' individual products appear in the full data')\n",
    "\n",
    "header_prod = !head -n 1 apriori_data/instacart_2017_05_01/products.csv\n",
    "\n",
    "## load product names\n",
    "prodRDD = sc.textFile('apriori_data/instacart_2017_05_01/products.csv')\\\n",
    "            .filter(lambda x: x != header_prod)\\\n",
    "            .map(lambda x: (x.split(',')[0], x.split(',')[1]))\n",
    "\n",
    "#map to product names\n",
    "prodRDD.join(initsupportRDD).map(lambda x: (x[1][0], x[1][1])).takeOrdered(20, key=lambda x: - x[1])"
   ]
  },
  {
   "cell_type": "markdown",
   "metadata": {},
   "source": [
    "## How often are the most common pairs bought together?"
   ]
  },
  {
   "cell_type": "code",
   "execution_count": 38,
   "metadata": {},
   "outputs": [],
   "source": [
    "def gen_pairs(line):\n",
    "    items = sorted(line[1])\n",
    "    pairs=[]\n",
    "    for i in range(len(items)-1):\n",
    "        for j in range(i+1,len(items)):\n",
    "            pairs.append(((items[i],items[j]),1))\n",
    "    return pairs\n",
    "    \n",
    "pairsRDD = orderRDD.flatMap(lambda x: gen_pairs(x)).reduceByKey(lambda x, y: x+y).filter(lambda x: x[1]>10).cache()"
   ]
  },
  {
   "cell_type": "code",
   "execution_count": 41,
   "metadata": {},
   "outputs": [
    {
     "name": "stdout",
     "output_type": "stream",
     "text": [
      "[(('13176', '47209'), 64761), (('13176', '21137'), 64702), (('21137', '24852'), 58330), (('24852', '47766'), 55611), (('21903', '24852'), 53395)]\n",
      "CPU times: user 60 ms, sys: 10 ms, total: 70 ms\n",
      "Wall time: 1.08 s\n"
     ]
    }
   ],
   "source": [
    "%%time\n",
    "print(pairsRDD.takeOrdered(5, key=lambda x: - x[1]))"
   ]
  },
  {
   "cell_type": "code",
   "execution_count": 40,
   "metadata": {},
   "outputs": [
    {
     "name": "stdout",
     "output_type": "stream",
     "text": [
      "3285901\n",
      "CPU times: user 100 ms, sys: 0 ns, total: 100 ms\n",
      "Wall time: 1.81 s\n"
     ]
    }
   ],
   "source": [
    "%%time\n",
    "print(pairsRDD.count())"
   ]
  },
  {
   "cell_type": "markdown",
   "metadata": {},
   "source": [
    "We can see that there are 3 million unique pairs of shopping items in the data (out of a potential 2.5b (given 50k individual products appear in the full data). The most popular pair appears ~65k times, which is about 2% of the time - still very infrequently! \n",
    "\n",
    "This algorithm took 40 minutes to run in my Docker container with 2CPUs and 8GB Memory allocated. It took this long because we generated all item pairs including ones that had an individual item that didn't meet the threshhold for support. (The wall times shown are for the cached RDD.)\n",
    "\n",
    "In order to run pairs of higher order - we need to run the earlier iterations first - so we are generating many fewer combinations.\n"
   ]
  },
  {
   "cell_type": "markdown",
   "metadata": {},
   "source": [
    "# 4. Apriori Implementation\n",
    "\n",
    "## __TASKS__:    \n",
    "__a)__ Implement Apriori following the spec in the doc string provided   \n",
    "__b)__ Run the next two cells which print the top 5 most common sets for the trainRDD and fullRDD"
   ]
  },
  {
   "cell_type": "code",
   "execution_count": 10,
   "metadata": {},
   "outputs": [],
   "source": [
    "## part a\n",
    "def Apriori(rdd, MaxCombo=2 , support=200, verbose=False):\n",
    "    \"\"\"\n",
    "    Perform nSteps iterations of generating item combinations and then pruning for minimum support. \n",
    "    Outputs all orders of Max_Combo size that appear at least support times.\n",
    "    \n",
    "    Input ('order_id', 'product')\n",
    "    Returns RDD containing tuples of item sets (of product ids) and counts: (('set' ) count). ex: ('13176,21137,27966,47209', 228)\n",
    "    \n",
    "    \"\"\"\n",
    "    resultRDD = None\n",
    "    \n",
    "\n",
    "    return resultRDD\n",
    "\n"
   ]
  },
  {
   "cell_type": "code",
   "execution_count": 46,
   "metadata": {},
   "outputs": [],
   "source": [
    "## part b (RUN THIS CELL AS IS)\n",
    "practice_index=trainRDD.map(lambda x : (x[1][0], [x[0]])).reduceByKey(lambda x,y:x+y).cache()\n",
    "\n",
    "start = time.time()\n",
    "TestRDD = Apriori(practice_index,4,50).cache()\n",
    "\n",
    "print(f'Total number of records: {TestRDD.count()}')\n",
    "print(f'Most common sets: {TestRDD.takeOrdered(5, key=lambda x: - x[1])}')\n",
    "print(f'... Practice set took: {time.time() - start} seconds')"
   ]
  },
  {
   "cell_type": "markdown",
   "metadata": {},
   "source": [
    "> Total number of records: 259\n",
    "Most common sets: [('13176,21137,27966,47209', 228), ('13176,21137,21903,47209', 163), ('24852,26209,47626,47766', 146), ('13176,21137,30391,47209', 140), ('21903,24852,47626,47766', 134)]\n",
    "... Practice set took: 279.4044418334961 seconds"
   ]
  },
  {
   "cell_type": "code",
   "execution_count": 14,
   "metadata": {},
   "outputs": [],
   "source": [
    "## part b (RUN THIS CELL AS IS)\n",
    "full_index = fullRDD.map(lambda x : (x[1][0], [x[0]])).reduceByKey(lambda x,y:x+y).cache()\n",
    "desired_sets=4\n",
    "\n",
    "start = time.time()\n",
    "completeRDD = Apriori(full_index,desired_sets,1000).cache()\n",
    "\n",
    "print(f'Total number of sets for: {completeRDD.count()}')\n",
    "print(f'Most common sets: {completeRDD.takeOrdered(5, key=lambda x: - x[1])}')\n",
    "print(f'... Full set took: {time.time() - start} seconds')"
   ]
  },
  {
   "cell_type": "markdown",
   "metadata": {},
   "source": [
    "> Total number of sets for: 186\n",
    "Most common sets: [('13176,21137,27966,47209', 4056), ('13176,21137,21903,47209', 3512), ('13176,21903,27966,47209', 2433), ('21903,24852,47626,47766', 2430), ('24852,26209,47626,47766', 2415)]\n",
    "... Full set took: 1296.884622335434 seconds"
   ]
  },
  {
   "cell_type": "markdown",
   "metadata": {},
   "source": [
    "## 5. Association Scores:\n",
    "\n",
    "In practice the apriori algorithm is often used to generate item recommendations. One way to do this is to calcualte association measures between products.\n",
    "\n",
    "We can't just take the most common sets, as they may occur together because each indiivdual item occurs often - such as bananas and strawberries. We might want to know that people who buy gin are most likely to buy cucumbers, or lemons.\n",
    "\n",
    "A supermarket might want to know the likelyhood of me buying wine when I have put chocolate in my basket\n",
    "\n",
    "* Confidence - the support of (wine,chocolate) divided by the support of chocolate - this is essentially seeing how often wine chocolate occurred divided by how frequent chocolate was - when looking at pairs for wine, we don't want to be biased to items that just appear often\n",
    "* Lift - the support of wine chocolate divided by the product of the supports of chocolate and wine - this gives a measure of how likely the pair is to appear in the data set relative to the items occuring randomly. Lift of less than one we means that items appear less likely than random chance, and more than one is more likely than random chance. (The numbers below are percentages so 100 implies low correlation)\n",
    "* Conviction for chocolate to wine takes the probability of not buying wine and divides by the probability of not buying wine when you have chocolate. If we were perfectly confident of buying wine with chocolate the conviction would be infinity."
   ]
  },
  {
   "cell_type": "markdown",
   "metadata": {},
   "source": [
    "## __TASKS__\n",
    "__a)__ Write a function that returns Confidence, Support, Conviction, and Lift for each frequent item set.   \n",
    "__b)__ Print the top 10, and bottom 10 results. __IMPORTANT__: Make sure your results are human readable. Display in tabular format, not a giant blob of text.   \n",
    "__c)__ Do the results make sense for top 10 and bottom ten most frequent item sets? Explain."
   ]
  },
  {
   "cell_type": "markdown",
   "metadata": {},
   "source": [
    "#### c)\n",
    "> Your answer here"
   ]
  },
  {
   "cell_type": "code",
   "execution_count": 83,
   "metadata": {},
   "outputs": [],
   "source": [
    "## part a\n",
    "def Assoc_rules(trans_rdd, order_rdd, prod_rdd, support, n):\n",
    "    \"\"\"\n",
    "    This function defines a Spark DAG to compute confidence, conviction, support \n",
    "    and lift for product pairs. \n",
    "    \n",
    "    Output: an RDD, a list of top n, a list of bottom n\n",
    "    \"\"\"\n",
    "    assocscoresRDD = None\n",
    "    \n",
    "\n",
    "    bottom_n = assocscoresRDD.takeOrdered(10, key=lambda x: x[1][-1])\n",
    "    top_n = assocscoresRDD.takeOrdered(10, key=lambda x: -x[1][-1])\n",
    "    \n",
    "    return assocscoresRDD, top_n, bottom_n"
   ]
  },
  {
   "cell_type": "code",
   "execution_count": 44,
   "metadata": {},
   "outputs": [],
   "source": [
    "## part b (RUN THIS CELL AS IS)\n",
    "start = time.time()\n",
    "result, top_n, bottom_n = Assoc_rules(trainRDD, practiceRDD, prodRDD, 50, 10)\n",
    "print(result.take(2))\n",
    "print(\"Wall time: {} seconds\".format(time.time() - start))"
   ]
  },
  {
   "cell_type": "markdown",
   "metadata": {},
   "source": [
    "> [('Baguette Sourdough to Kitchen Cheese Enchilada', [0.0007240356987706636, 0.0017529285338658172, 7.621428408112248e-06, 0.010526315789473684, 0.004347826086956522, 1.0088667211625826, 1.0036396148003612, 6.004988558352403]), ('Baguette Sourdough to Organic Low Fat Vegetable Barley Soup', [0.0007240356987706636, 0.0009069499805653575, 7.621428408112248e-06, 0.010526315789473684, 0.008403361344537815, 1.0097216994877265, 1.0077444046766635, 11.606280406899602])]\n",
    "Wall time: 52.54540705680847 seconds"
   ]
  },
  {
   "cell_type": "code",
   "execution_count": 45,
   "metadata": {},
   "outputs": [],
   "source": [
    "## part b (RUN THIS CELL AS IS)\n",
    "start = time.time()\n",
    "result, top_n, bottom_n = Assoc_rules(priorRDD, orderRDD, prodRDD, 1000, 20)\n",
    "print(result.take(2))\n",
    "print(\"Wall time: {} seconds\".format(time.time() - start))"
   ]
  },
  {
   "cell_type": "markdown",
   "metadata": {},
   "source": [
    "> [('English Seedless Cucumber to Garlic & Fine Herbs Gournay Cheese', [0.003895300863726333, 0.0024153614838603823, 2.2713124569832847e-05, 0.0058309037900874635, 0.009403612967087355, 1.003435574812422, 1.0055606018510321, 2.414091567266423]), ('English Seedless Cucumber to Hand Picked Pomegranate Seeds/Arils', [0.003895300863726333, 0.0007115782842206844, 9.264563969273925e-06, 0.0023783949670093604, 0.013019739605207897, 1.001670790482463, 1.0092448036780712, 3.342422077444595])]\n",
    "Wall time: 371.03180623054504 seconds"
   ]
  },
  {
   "cell_type": "code",
   "execution_count": null,
   "metadata": {},
   "outputs": [],
   "source": [
    "## part b - Helper Functiom to pretty print the results. You may modify this function to suit your format needs\n",
    "def displayOutput(lines):\n",
    "    template = \"{:50}|{:7}, {:7}, {:7},  {:7}, {:7}, {:7}, {:7}, {:7} \"\n",
    "    print(template.format(\"Pair\", \"Sup_A\", \"sup_B\", \"sup_AB\", \"Conf_A\", \"Conf_B\", \"Conv_A\", \"Conv_B\", \"Lift\"))\n",
    "    for pair, scores in lines:\n",
    "        scores = [round(s,3) for s in scores]\n",
    "        print(template.format(pair, *scores))"
   ]
  },
  {
   "cell_type": "code",
   "execution_count": 43,
   "metadata": {},
   "outputs": [
    {
     "name": "stdout",
     "output_type": "stream",
     "text": [
      "Highest Lift:\n",
      "====================================================================================================\n",
      "Lowest Lift:\n"
     ]
    }
   ],
   "source": [
    "print(\"Highest Lift:\")\n",
    "displayOutput(top_n)\n",
    "print(\"=\"*100)\n",
    "print(\"Lowest Lift:\")\n",
    "displayOutput(bottom_n)"
   ]
  },
  {
   "cell_type": "raw",
   "metadata": {},
   "source": [
    "EXPECTED RESULTS\n",
    "\n",
    "Highest Lift:\n",
    "Pair                                                                                                |Sup_A  , sup_B  , sup_AB ,  Conf_A , Conf_B , Conv_A , Conv_B , Lift    \n",
    "Gobble Gobble Turkey Pouch Stage 3 to Stage 3 Hearty Meals - Chick Chick Organic Baby Food          |   0.03,   0.037,   0.015,   50.648,  41.436, 202.552, 170.701, 138232.136 \n",
    "Simply 100 Strawberry Blended Non-Fat Greek Yogurt to Simply 100® Blueberry Blended Non-Fat Greek Yogurt|  0.038,   0.031,   0.015,   40.551,  49.903,  168.16, 199.537, 131480.25 \n",
    "Organic Fruit Yogurt Smoothie Peach Banana to Organic Pear Mango Fruit Yogurt Smoothie              |  0.033,   0.034,   0.013,   40.197,   39.84, 167.159, 166.169, 119345.476 \n",
    "Organic Raspberry Yogurt to Organic Wildberry Yogurt                                                |  0.034,   0.032,   0.012,    36.18,  38.701,  156.64, 163.078, 113992.344 \n",
    "Cranberry Pomegranate Sparkling Yerba Mate to Yerba Mate Sparkling Classic Gold                     |  0.034,   0.036,   0.014,    40.59,  38.455,  168.26, 162.427, 111599.61 \n",
    "Apple Blueberry Fruit Yogurt Smoothie to Organic Fruit Yogurt Smoothie Mixed Berry                  |  0.037,   0.045,   0.019,     50.2,  41.304, 200.713, 170.307, 110654.745 \n",
    "Lactose Free Blueberry Yogurt to Organic Lactose Free Strawberry Yogurt                             |  0.038,   0.041,   0.016,   43.047,  40.278, 175.511, 167.378, 105291.24 \n",
    "\"0% Greek to Nonfat Strawberry With Fruit On The Bottom Greek Yogurt                                |  0.042,    0.05,   0.021,    51.33,  42.857, 205.363, 174.927, 103093.858 \n",
    "Dairy Free Soy Strawberry Alternative to Peach & Mango Soy Yogurt                                   |   0.03,   0.035,   0.011,   35.074,  30.743, 153.968, 144.345, 101347.282 \n",
    "Peter Rabbit Organic Pea Spinach & Apple Puree Snack to Peter Rabbit Organics Kale Broccoli and Mango Purée|  0.037,   0.034,   0.013,   34.446,  36.911, 152.494, 158.448, 100575.938 \n",
    "\"Baby Food Pouch - Butternut Squash to Baby Food Pouch - Roasted Carrot Spinach & Beans             |  0.039,   0.045,   0.017,   43.498,  37.317, 176.907, 159.472, 96646.368 \n",
    "Cranberry Pomegranate Sparkling Yerba Mate to Organic Grapefruit Ginger Sparkling Yerba Mate        |  0.034,   0.052,   0.017,   49.523,  32.647, 198.006, 148.421, 94744.433 \n",
    "Baby Food Pears Squash to Stage 2 Pear Pumpkin Baby Food                                            |  0.039,   0.033,   0.012,   30.734,   37.01, 144.324, 158.693, 93746.119 \n",
    "Grapefruit Sparkling Energy Water to Wild Berry Sparkling Energy Water                              |  0.042,   0.031,   0.012,   28.726,  38.551,  140.26, 162.668, 92868.196 \n",
    "Apple Blueberry Fruit Yogurt Smoothie to Organic Pear Mango Fruit Yogurt Smoothie                   |  0.037,   0.034,   0.012,   31.065,  34.428, 145.015, 152.446, 92232.097 \n",
    "Unsweetened Whole Milk Blueberry Greek Yogurt to Unsweetened Whole Milk Mixed Berry Greek Yogurt    |  0.048,   0.049,   0.022,    44.54,  44.458, 180.224, 179.957, 91770.874 \n",
    "\"Baby Food Pouch - Butternut Squash to \"Baby Food Pouch - Kale                                      |  0.039,   0.031,   0.011,   28.019,  35.421, 138.882, 154.789, 91734.325 \n",
    "Chipotle Beef & Pork Realstick to Uncured Cracked Pepper Beef                                       |  0.041,   0.055,   0.021,   50.292,  37.385, 201.064,  159.64, 91308.252 \n",
    "\"Apples to Stage 2 Pear Pumpkin Baby Food                                                           |  0.048,   0.033,   0.014,   29.554,  43.482, 141.906,  176.85, 90145.682 \n",
    "Apple Blueberry Fruit Yogurt Smoothie to Organic Fruit Yogurt Smoothie Peach Banana                 |  0.037,   0.033,   0.011,   29.864,  33.393, 142.532, 150.078, 89460.213 \n",
    "\n",
    "Lowest Lift:\n",
    "Pair                                                                                                |Sup_A  , sup_B  , sup_AB ,  Conf_A , Conf_B , Conv_A , Conv_B , Lift    \n",
    "Banana to Extra Fancy Unsalted Mixed Nuts                                                           | 14.123,    0.29,     0.0,      0.0,    0.01,   99.71,  85.886,   0.073 \n",
    "Baby Cucumbers to Organic Hass Avocado                                                              |   0.43,   6.383,     0.0,    0.007,     0.0,  93.623,   99.57,   0.109 \n",
    "Organic Hass Avocado to Trail Mix                                                                   |  6.383,   0.361,     0.0,      0.0,   0.008,   99.64,  93.625,    0.13 \n",
    "Bag of Organic Bananas to Bananas                                                                   |  11.34,   0.154,     0.0,      0.0,   0.019,  99.847,  88.677,   0.172 \n",
    "Limes to Trail Mix                                                                                  |  4.203,   0.361,     0.0,    0.001,   0.008,   99.64,  95.805,   0.197 \n",
    "Clementines to Organic Garnet Sweet Potato (Yam)                                                    |  0.922,   1.552,     0.0,    0.003,   0.002,  98.451,   99.08,   0.209 \n",
    "Organic Avocado to Zero Calorie Cola                                                                |  5.284,   0.256,     0.0,    0.001,   0.012,  99.745,  94.727,   0.221 \n",
    "Baby Cucumbers to Organic Fuji Apple                                                                |   0.43,   2.679,     0.0,    0.007,   0.001,  97.328,  99.571,   0.259 \n",
    "Organic Lemon to Packaged Grape Tomatoes                                                            |  2.622,   0.399,     0.0,    0.001,   0.007,  99.602,  97.385,   0.286 \n",
    "Feta Cheese Crumbles to Soda                                                                        |  0.967,    1.07,     0.0,    0.003,   0.003,  98.933,  99.036,   0.289 \n",
    "Baby Cucumbers to Organic Cucumber                                                                  |   0.43,   2.403,     0.0,    0.007,   0.001,  97.604,  99.571,   0.289 \n",
    "Organic Baby Broccoli to Soda                                                                       |   0.95,    1.07,     0.0,    0.003,   0.003,  98.933,  99.053,   0.294 \n",
    "Baby Cucumbers to Sparkling Water Grapefruit                                                        |   0.43,   2.268,     0.0,    0.007,   0.001,  97.739,  99.571,   0.306 \n",
    "Medium Scarlet Raspberries to Organic Hass Avocado                                                  |  0.151,   6.383,     0.0,     0.02,     0.0,  93.635,   99.85,   0.311 \n",
    "Baby Cucumbers to Yellow Onions                                                                     |   0.43,   2.187,     0.0,    0.007,   0.001,   97.82,  99.571,   0.318 \n",
    "Baby Cucumbers to Organic Baby Arugula                                                              |   0.43,   2.177,     0.0,    0.007,   0.001,   97.83,  99.571,   0.319 \n",
    "Large Lemon to Popcorn                                                                              |  4.562,   0.204,     0.0,    0.001,   0.015,  99.797,  95.452,   0.321 \n",
    "Clementines to Feta Cheese Crumbles                                                                 |  0.922,   0.967,     0.0,    0.003,   0.003,  99.036,  99.081,   0.335 \n",
    "Organic Garlic to Soda                                                                              |  3.281,    1.07,     0.0,    0.004,   0.011,  98.934,   96.73,   0.341 \n",
    "Organic Avocado to Organic Fuji Apples                                                              |  5.284,   0.165,     0.0,    0.001,   0.018,  99.835,  94.733,   0.342 "
   ]
  },
  {
   "cell_type": "code",
   "execution_count": null,
   "metadata": {},
   "outputs": [],
   "source": []
  }
 ],
 "metadata": {
  "kernelspec": {
   "display_name": "Python 3",
   "language": "python",
   "name": "python3"
  },
  "language_info": {
   "codemirror_mode": {
    "name": "ipython",
    "version": 3
   },
   "file_extension": ".py",
   "mimetype": "text/x-python",
   "name": "python",
   "nbconvert_exporter": "python",
   "pygments_lexer": "ipython3",
   "version": "3.6.6"
  }
 },
 "nbformat": 4,
 "nbformat_minor": 2
}
